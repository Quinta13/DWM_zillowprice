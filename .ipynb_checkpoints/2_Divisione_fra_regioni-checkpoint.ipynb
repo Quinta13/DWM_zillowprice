{
 "cells": [
  {
   "cell_type": "code",
   "execution_count": 2,
   "id": "83a93d9e",
   "metadata": {},
   "outputs": [],
   "source": [
    "# Libraries\n",
    "import pandas as pd\n",
    "import numpy  as np\n",
    "import matplotlib.pyplot  as plt\n",
    "import matplotlib.patches as mpatches\n",
    "\n",
    "from sklearn.preprocessing import StandardScaler\n",
    "from sklearn.cluster       import KMeans\n",
    "from sklearn.cluster       import AgglomerativeClustering\n",
    "from sklearn.cluster       import DBSCAN\n",
    "from sklearn.metrics       import accuracy_score\n",
    "from sklearn.metrics       import confusion_matrix\n",
    "from sklearn.metrics       import plot_confusion_matrix\n",
    "from sklearn.decomposition import PCA"
   ]
  },
  {
   "cell_type": "code",
   "execution_count": 3,
   "id": "6bdb7857",
   "metadata": {},
   "outputs": [],
   "source": [
    "# local file paths\n",
    "dir_name = 'preparazione'\n",
    "\n",
    "fp_xtrain = dir_name + \"/X_train.csv\"\n",
    "fp_ytrain = dir_name + \"/y_train.csv\"\n",
    "fp_xval   = dir_name + \"/X_val.csv\"\n",
    "fp_yval   = dir_name + \"/y_val.csv\"\n",
    "fp_xtest  = dir_name + \"/X_test.csv\"\n",
    "fp_ytest  = dir_name + \"/y_test.csv\""
   ]
  },
  {
   "cell_type": "code",
   "execution_count": 4,
   "id": "f958bb4c",
   "metadata": {},
   "outputs": [],
   "source": [
    "# Reading dataframes\n",
    "X_train = pd.read_csv(fp_xtrain, low_memory=False)\n",
    "y_train = pd.read_csv(fp_ytrain, low_memory=False)\n",
    "X_val   = pd.read_csv(fp_xval,   low_memory=False)\n",
    "y_val   = pd.read_csv(fp_yval,   low_memory=False)\n",
    "X_test  = pd.read_csv(fp_xtest,  low_memory=False)\n",
    "y_test  = pd.read_csv(fp_ytest,  low_memory=False)"
   ]
  },
  {
   "cell_type": "code",
   "execution_count": 5,
   "id": "27d6a1fc",
   "metadata": {},
   "outputs": [],
   "source": [
    "# Removes from the given dataframe the column with the given name\n",
    "def remove_column(df, col_names):\n",
    "    df.drop(col_names, axis=1, inplace=True)\n",
    "    return df"
   ]
  },
  {
   "cell_type": "code",
   "execution_count": 6,
   "id": "0dfbbdb5",
   "metadata": {},
   "outputs": [],
   "source": [
    "for X in [X_train, X_val, X_test]:\n",
    "    X = remove_column(X, ['parcelid'])"
   ]
  },
  {
   "cell_type": "code",
   "execution_count": 7,
   "id": "67d68e00",
   "metadata": {},
   "outputs": [],
   "source": [
    "# Prints all dataframes shape\n",
    "def dimensionality(y=False):\n",
    "    print(f'X_train {  X_train.shape}')\n",
    "    print(f'X_val   {    X_val.shape}')\n",
    "    print(f'X_test  {   X_test.shape}')\n",
    "    if y:\n",
    "        print(f'y_train { y_train.shape}')\n",
    "        print(f'y_val   {   y_val.shape}')\n",
    "        print(f'y_test  {  y_test.shape}')"
   ]
  },
  {
   "cell_type": "code",
   "execution_count": 8,
   "id": "df7f2299",
   "metadata": {},
   "outputs": [
    {
     "name": "stdout",
     "output_type": "stream",
     "text": [
      "X_train (99709, 72)\n",
      "X_val   (33572, 72)\n",
      "X_test  (33567, 72)\n",
      "y_train (99709, 1)\n",
      "y_val   (33572, 1)\n",
      "y_test  (33567, 1)\n"
     ]
    }
   ],
   "source": [
    "dimensionality(y=True)"
   ]
  },
  {
   "cell_type": "code",
   "execution_count": 9,
   "id": "39c16eb2",
   "metadata": {},
   "outputs": [
    {
     "name": "stdout",
     "output_type": "stream",
     "text": [
      "bathroomcnt\n",
      "bedroomcnt\n",
      "buildingqualitytypeid\n",
      "calculatedbathnbr\n",
      "calculatedfinishedsquarefeet\n",
      "finishedsquarefeet12\n",
      "fireplacecnt\n",
      "latitude\n",
      "longitude\n",
      "lotsizesquarefeet\n",
      "rawcensustractandblock\n",
      "regionidcity\n",
      "regionidzip\n",
      "roomcnt\n",
      "unitcnt\n",
      "yearbuilt\n",
      "structuretaxvaluedollarcnt\n",
      "taxvaluedollarcnt\n",
      "assessmentyear\n",
      "landtaxvaluedollarcnt\n",
      "taxamount\n",
      "int_transactiondate\n",
      "period_mean_price\n",
      "neighborhood_mean_price\n",
      "living_area_prop\n",
      "tax_ratio\n",
      "tax_prop\n",
      "buildingqualitytypeid_na_flag\n",
      "unitcnt_na_flag\n",
      "fips_6037.0\n",
      "fips_6059.0\n",
      "fips_6111.0\n",
      "heatingorsystemtypeid_1.0\n",
      "heatingorsystemtypeid_2.0\n",
      "heatingorsystemtypeid_6.0\n",
      "heatingorsystemtypeid_7.0\n",
      "heatingorsystemtypeid_10.0\n",
      "heatingorsystemtypeid_11.0\n",
      "heatingorsystemtypeid_12.0\n",
      "heatingorsystemtypeid_13.0\n",
      "heatingorsystemtypeid_18.0\n",
      "heatingorsystemtypeid_20.0\n",
      "heatingorsystemtypeid_24.0\n",
      "poolcnt_1.0\n",
      "propertycountylandusecode_0100\n",
      "propertycountylandusecode_0101\n",
      "propertycountylandusecode_010C\n",
      "propertycountylandusecode_122\n",
      "propertycountylandusecode_34\n",
      "propertycountylandusecode_rare\n",
      "propertylandusetypeid_31.0\n",
      "propertylandusetypeid_246.0\n",
      "propertylandusetypeid_247.0\n",
      "propertylandusetypeid_248.0\n",
      "propertylandusetypeid_260.0\n",
      "propertylandusetypeid_261.0\n",
      "propertylandusetypeid_263.0\n",
      "propertylandusetypeid_264.0\n",
      "propertylandusetypeid_265.0\n",
      "propertylandusetypeid_266.0\n",
      "propertylandusetypeid_267.0\n",
      "propertylandusetypeid_269.0\n",
      "propertylandusetypeid_275.0\n",
      "propertyzoningdesc_LAR1\n",
      "propertyzoningdesc_LAR3\n",
      "propertyzoningdesc_LARD1.5\n",
      "propertyzoningdesc_LARS\n",
      "propertyzoningdesc_LBR1N\n",
      "propertyzoningdesc_rare\n",
      "regionidcounty_1286.0\n",
      "regionidcounty_2061.0\n",
      "regionidcounty_3101.0\n"
     ]
    }
   ],
   "source": [
    "print(*X_train.columns, sep='\\n')"
   ]
  },
  {
   "cell_type": "code",
   "execution_count": 10,
   "id": "ad4edfee",
   "metadata": {},
   "outputs": [],
   "source": [
    "regionids = ['regionidcounty_1286.0', 'regionidcounty_2061.0', 'regionidcounty_3101.0']\n",
    "\n",
    "region_names = np.array(['A', 'B', 'C'])"
   ]
  },
  {
   "cell_type": "markdown",
   "id": "67cafe1c",
   "metadata": {},
   "source": [
    "## Clustering ##"
   ]
  },
  {
   "cell_type": "code",
   "execution_count": 11,
   "id": "46643cf8",
   "metadata": {},
   "outputs": [],
   "source": [
    "# Returns a new dataframe X without region infos, which are returned in y vector in 0, 1, 2 encoding\n",
    "def get_X_y(X):\n",
    "    X_ = X.copy() \n",
    "    y_ = X_.loc[:, regionids]  \n",
    "    y_.loc[:,['region']] =\\\n",
    "        y_.loc[:,regionids[0]] * 0 +\\\n",
    "        y_.loc[:,regionids[1]] * 1 +\\\n",
    "        y_.loc[:,regionids[2]] * 2\n",
    "    X_ = remove_column(X_, regionids)\n",
    "    y_ = remove_column(y_, regionids)\n",
    "    y_ = y_.values.ravel().astype(np.int64)\n",
    "    return X_, y_"
   ]
  },
  {
   "cell_type": "markdown",
   "id": "3789eb54",
   "metadata": {},
   "source": [
    "Guardo se un algoritmo di clustering individua le tre differenti regioni"
   ]
  },
  {
   "cell_type": "markdown",
   "id": "b93f8cf6",
   "metadata": {},
   "source": [
    "### k-means "
   ]
  },
  {
   "cell_type": "code",
   "execution_count": 45,
   "id": "ad03d243",
   "metadata": {},
   "outputs": [],
   "source": [
    "def kmeans_clustering(X):\n",
    "    kmeans = KMeans(n_clusters=3).fit(X)\n",
    "    print(kmeans.labels_)\n",
    "    return kmeans, kmeans.labels_"
   ]
  },
  {
   "cell_type": "markdown",
   "id": "4a13259e",
   "metadata": {},
   "source": [
    "<br><br>"
   ]
  },
  {
   "cell_type": "code",
   "execution_count": 46,
   "id": "2f0bd164",
   "metadata": {},
   "outputs": [],
   "source": [
    "# Given a vector and a mapping function returns the corresponding transormation\n",
    "def transform(y, mapping):\n",
    "    y_2 = map(mapping, y) \n",
    "    y_2 = np.array(list(y_2))\n",
    "    return y_2"
   ]
  },
  {
   "cell_type": "code",
   "execution_count": 14,
   "id": "93bd2047",
   "metadata": {},
   "outputs": [],
   "source": [
    "def dbscan_clustering(X, eps):\n",
    "    X = StandardScaler().fit_transform(X)\n",
    "    db = DBSCAN(eps=eps, min_samples=3, n_jobs=-1).fit(X)\n",
    "    labels = db.labels_\n",
    "    print(labels)\n",
    "    print('N-Cluster: ', len(set(labels)) - (1 if -1 in labels else 0))\n",
    "    print('Outliers:  ', list(labels).count(-1))\n",
    "    return db, labels"
   ]
  },
  {
   "cell_type": "code",
   "execution_count": 47,
   "id": "a0f89c3c",
   "metadata": {},
   "outputs": [],
   "source": [
    "# Returns the accuracy score given actual values and predictions\n",
    "def accuracy(y_true, y_pred, verbose = False):\n",
    "    acc = accuracy_score(y_true, y_pred)\n",
    "    if verbose:\n",
    "        print(y_pred [:35])\n",
    "        print(y_true [:35])\n",
    "        print('Accuracy: ', acc)\n",
    "    return acc"
   ]
  },
  {
   "cell_type": "code",
   "execution_count": 48,
   "id": "d695d64a",
   "metadata": {},
   "outputs": [],
   "source": [
    "X_clu, y_true = get_X_y(X_train)"
   ]
  },
  {
   "cell_type": "code",
   "execution_count": 49,
   "id": "df55edcd",
   "metadata": {
    "scrolled": true
   },
   "outputs": [
    {
     "name": "stdout",
     "output_type": "stream",
     "text": [
      "[0 0 0 ... 0 0 0]\n"
     ]
    }
   ],
   "source": [
    "_, y_pred = kmeans_clustering(X_clu)"
   ]
  },
  {
   "cell_type": "code",
   "execution_count": 50,
   "id": "1a965c12",
   "metadata": {},
   "outputs": [
    {
     "name": "stdout",
     "output_type": "stream",
     "text": [
      "True      [0 2 2 0 2 0 1 0 0 2 0 0 2 2 2 2 2 1 2 2 2 0 2 2 2 2 1 2 2 0 2 2 0 2 2]\n",
      "Predicted [0 0 0 0 0 0 0 0 0 0 0 0 0 0 0 0 0 0 0 0 0 0 0 0 0 0 0 0 0 0 0 0 0 0 0]\n"
     ]
    }
   ],
   "source": [
    "print('True     ', y_true[:35],)\n",
    "print('Predicted', y_pred[:35],)"
   ]
  },
  {
   "cell_type": "code",
   "execution_count": 51,
   "id": "c8b173d8",
   "metadata": {},
   "outputs": [
    {
     "name": "stdout",
     "output_type": "stream",
     "text": [
      "Occorrenze RegioneA : 26819\n",
      "Occorrenze RegioneB : 8119\n",
      "Occorrenze RegioneC : 64771\n",
      "\n",
      "Occorrenze Cluster0 : 91784\n",
      "Occorrenze Cluster1 : 263\n",
      "Occorrenze Cluster2 : 7662\n"
     ]
    }
   ],
   "source": [
    "for i in range(3):\n",
    "    print(f'Occorrenze Regione{region_names[i]} : {np.bincount(y_true)[i]}')\n",
    "print()\n",
    "\n",
    "for i in range(3):\n",
    "    print(f'Occorrenze Cluster{i} : {np.bincount(y_pred)[i]}')"
   ]
  },
  {
   "cell_type": "code",
   "execution_count": 52,
   "id": "b40be76f",
   "metadata": {},
   "outputs": [],
   "source": [
    "# Conversion RegionEncoding <--> ClusterEncoding\n",
    "def get_lambda(to0, to1, to2):\n",
    "    return lambda x: to0 if (x == 0) else (to1 if (x == 1) else to2)"
   ]
  },
  {
   "cell_type": "code",
   "execution_count": 56,
   "id": "fd38bc74",
   "metadata": {},
   "outputs": [],
   "source": [
    "l = get_lambda(2, 1, 0)"
   ]
  },
  {
   "cell_type": "markdown",
   "id": "0d5971b4",
   "metadata": {},
   "source": [
    "Da questa piccola anteprima sembra essere avvenuto il seguente mapping\n",
    "0 -> 2\n",
    "1 -> 0\n",
    "2 -> 1"
   ]
  },
  {
   "cell_type": "code",
   "execution_count": 57,
   "id": "9e5e8ab6",
   "metadata": {},
   "outputs": [
    {
     "data": {
      "text/plain": [
       "0.6242666158521297"
      ]
     },
     "execution_count": 57,
     "metadata": {},
     "output_type": "execute_result"
    }
   ],
   "source": [
    "accuracy(\n",
    "    y_true,\n",
    "    transform(y_pred, l),\n",
    ")"
   ]
  },
  {
   "cell_type": "code",
   "execution_count": 59,
   "id": "719bc760",
   "metadata": {},
   "outputs": [
    {
     "data": {
      "text/plain": [
       "array([[59788,   189,  4794],\n",
       "       [ 7704,     2,   413],\n",
       "       [24292,    72,  2455]], dtype=int64)"
      ]
     },
     "execution_count": 59,
     "metadata": {},
     "output_type": "execute_result"
    }
   ],
   "source": [
    "cm = confusion_matrix(transform(y_true, l), y_pred)\n",
    "cm"
   ]
  },
  {
   "cell_type": "code",
   "execution_count": 60,
   "id": "c683246c",
   "metadata": {},
   "outputs": [
    {
     "data": {
      "image/png": "[encoded data removed]",
      "text/plain": [
       "<Figure size 432x288 with 1 Axes>"
      ]
     },
     "metadata": {
      "needs_background": "light"
     },
     "output_type": "display_data"
    }
   ],
   "source": [
    "plt.imshow(cm, interpolation='none', cmap='Blues')\n",
    "for (i, j), z in np.ndenumerate(cm):\n",
    "    plt.text(j, i, z, ha='center', va='center')\n",
    "plt.xlabel(\"Clustering Label\")\n",
    "plt.ylabel(\"Actual Label\")\n",
    "plt.show()"
   ]
  },
  {
   "cell_type": "markdown",
   "id": "9dc73a94",
   "metadata": {},
   "source": [
    "## PCA ##"
   ]
  },
  {
   "cell_type": "code",
   "execution_count": 61,
   "id": "b81293ed",
   "metadata": {},
   "outputs": [],
   "source": [
    "X_pca, y_pca = get_X_y(X_train)"
   ]
  },
  {
   "cell_type": "code",
   "execution_count": 62,
   "id": "88507f71",
   "metadata": {},
   "outputs": [
    {
     "data": {
      "text/plain": [
       "array([0, 2, 2, ..., 1, 0, 2], dtype=int64)"
      ]
     },
     "execution_count": 62,
     "metadata": {},
     "output_type": "execute_result"
    }
   ],
   "source": [
    "y_pca"
   ]
  },
  {
   "cell_type": "code",
   "execution_count": 63,
   "id": "4fda960f",
   "metadata": {},
   "outputs": [
    {
     "name": "stdout",
     "output_type": "stream",
     "text": [
      "Occorrenze RegioneA : 26819\n",
      "Occorrenze RegioneB : 8119\n",
      "Occorrenze RegioneC : 64771\n"
     ]
    }
   ],
   "source": [
    "for i in range(3):\n",
    "    print(f'Occorrenze Regione{region_names[i]} : {np.bincount(y_pca)[i]}')"
   ]
  },
  {
   "cell_type": "code",
   "execution_count": 64,
   "id": "b478105c",
   "metadata": {},
   "outputs": [
    {
     "data": {
      "text/plain": [
       "(99709, 72)"
      ]
     },
     "execution_count": 64,
     "metadata": {},
     "output_type": "execute_result"
    }
   ],
   "source": [
    "X_train.shape"
   ]
  },
  {
   "cell_type": "code",
   "execution_count": 65,
   "id": "2fdb3661",
   "metadata": {},
   "outputs": [
    {
     "data": {
      "text/plain": [
       "(99709, 69)"
      ]
     },
     "execution_count": 65,
     "metadata": {},
     "output_type": "execute_result"
    }
   ],
   "source": [
    "X_pca.shape"
   ]
  },
  {
   "cell_type": "code",
   "execution_count": 66,
   "id": "cc132976",
   "metadata": {},
   "outputs": [
    {
     "data": {
      "text/plain": [
       "(99709,)"
      ]
     },
     "execution_count": 66,
     "metadata": {},
     "output_type": "execute_result"
    }
   ],
   "source": [
    "y_pca.shape"
   ]
  },
  {
   "cell_type": "code",
   "execution_count": 67,
   "id": "dc44f385",
   "metadata": {},
   "outputs": [],
   "source": [
    "pca = PCA(n_components=2)\n",
    "X_pca_2 = pca.fit_transform(X_pca)"
   ]
  },
  {
   "cell_type": "code",
   "execution_count": 68,
   "id": "0eb05d4f",
   "metadata": {},
   "outputs": [
    {
     "data": {
      "text/plain": [
       "array([[-429875.60737379, -453323.98434627],\n",
       "       [-386758.35906053,  169659.45127891],\n",
       "       [-297745.54983615,  -63444.94873702],\n",
       "       ...,\n",
       "       [ 144260.52944037,  697467.38392367],\n",
       "       [ 117570.48987628, -439572.16432855],\n",
       "       [-372775.08344991,  -98901.38691122]])"
      ]
     },
     "execution_count": 68,
     "metadata": {},
     "output_type": "execute_result"
    }
   ],
   "source": [
    "X_pca_2"
   ]
  },
  {
   "cell_type": "code",
   "execution_count": 69,
   "id": "f9d2028d",
   "metadata": {},
   "outputs": [],
   "source": [
    "def plot_pca(X, y):\n",
    "    \n",
    "    plt.rcParams.update({'font.size': 20})\n",
    "    fig, ax = plt.subplots(figsize=(10,6))\n",
    "\n",
    "    colors = np.array([\n",
    "        (1., .1, .1, .3),\n",
    "        (.1, 1., .1, .3),\n",
    "        (.1, .1, 1., .3)]\n",
    "    )\n",
    "\n",
    "    # scatter is ismilar to plot, additionally a color per point is provided\n",
    "    scatter = ax.scatter(X[:,0],X[:,1], c=colors[y], label=region_names[y])\n",
    "\n",
    "    handles = []\n",
    "    for c,l in zip(colors, region_names):\n",
    "        handles.append(mpatches.Patch(color=c, label=l))\n",
    "    plt.legend(handles=handles)\n",
    "\n",
    "    ax.set_xlabel(\"1st Component\")\n",
    "    ax.set_ylabel(\"2nd Component\")\n",
    "    ax.grid(linestyle=':', linewidth=.5)"
   ]
  },
  {
   "cell_type": "code",
   "execution_count": 70,
   "id": "09bcbd99",
   "metadata": {},
   "outputs": [
    {
     "data": {
      "image/png": "[encoded data removed]",
      "text/plain": [
       "<Figure size 720x432 with 1 Axes>"
      ]
     },
     "metadata": {
      "needs_background": "light"
     },
     "output_type": "display_data"
    }
   ],
   "source": [
    "plot_pca(X_pca_2, y_pca)"
   ]
  },
  {
   "cell_type": "markdown",
   "id": "5ca27b0b",
   "metadata": {},
   "source": [
    "Guardo se il dataset ridotto a due dimensioni è più facilmente individuabile da un algoritmo di Clustering"
   ]
  },
  {
   "cell_type": "code",
   "execution_count": 71,
   "id": "3d615f92",
   "metadata": {
    "scrolled": true
   },
   "outputs": [
    {
     "name": "stdout",
     "output_type": "stream",
     "text": [
      "[0 0 0 ... 0 0 0]\n"
     ]
    }
   ],
   "source": [
    "est, y_pred = kmeans_clustering(X_pca_2)"
   ]
  },
  {
   "cell_type": "code",
   "execution_count": 72,
   "id": "1a965c12",
   "metadata": {},
   "outputs": [
    {
     "name": "stdout",
     "output_type": "stream",
     "text": [
      "True      [0 2 2 0 2 0 1 0 0 2 0 0 2 2 2 2 2 1 2 2 2 0 2 2 2 2 1 2 2 0 2 2 0 2 2]\n",
      "Predicted [0 0 0 0 0 0 0 0 0 0 0 0 0 0 0 0 0 0 0 0 0 0 0 0 0 0 0 0 0 0 0 0 0 0 0]\n"
     ]
    }
   ],
   "source": [
    "print('True     ', y_true[:35],)\n",
    "print('Predicted', y_pred[:35],)"
   ]
  },
  {
   "cell_type": "code",
   "execution_count": 74,
   "id": "caa00b4e",
   "metadata": {},
   "outputs": [
    {
     "data": {
      "image/png": "[encoded data removed]",
      "text/plain": [
       "<Figure size 720x432 with 1 Axes>"
      ]
     },
     "metadata": {
      "needs_background": "light"
     },
     "output_type": "display_data"
    }
   ],
   "source": [
    "plot_pca(X_pca_2, y_pred)"
   ]
  },
  {
   "cell_type": "markdown",
   "id": "acc25537",
   "metadata": {},
   "source": [
    "Il clustering con k_means non individua in maniera precisa i tre cluster"
   ]
  },
  {
   "cell_type": "markdown",
   "id": "342edd63",
   "metadata": {},
   "source": [
    "Provo un altro tipo di clustering"
   ]
  },
  {
   "cell_type": "code",
   "execution_count": 121,
   "id": "421454ab",
   "metadata": {},
   "outputs": [],
   "source": [
    "# Validation clustering to tune EPS\n",
    "def valid_dbscan_clustering(X):\n",
    "    n_clu      = 1\n",
    "    CLU_SEARCH = 3\n",
    "    EPSMIN      = 0.0001\n",
    "    EPSMAX      = 0.125075\n",
    "    while(n_clu != CLU_SEARCH and EPSMIN < EPSMAX):\n",
    "        EPS = (EPSMIN + EPSMAX) / 2\n",
    "        print(f'EPS: {EPS}, EPSMIN: {EPSMIN}, EPSMAX: {EPSMAX}, NCLU: {n_clu}')\n",
    "        n_clu = valid_dbscan_clustering_aux(X, EPS)\n",
    "        if n_clu < CLU_SEARCH:\n",
    "            EPSMIN = EPS\n",
    "        else:\n",
    "            EPSMAX = EPS\n",
    "    return EPS  \n",
    "\n",
    "def get_dbscan(X, eps):\n",
    "    return DBSCAN(eps=eps, min_samples=3, n_jobs=-1).fit(X)\n",
    "\n",
    "def valid_dbscan_clustering_aux(X, eps):\n",
    "    X = StandardScaler().fit_transform(X)\n",
    "    db = get_dbscan(X, eps)\n",
    "    labels = db.labels_\n",
    "    n_clu = len(set(labels)) - (1 if -1 in labels else 0)\n",
    "    print(f'EPS: {eps}, NCLU: {n_clu}')\n",
    "    return n_clu"
   ]
  },
  {
   "cell_type": "code",
   "execution_count": 132,
   "id": "a6b28c8a",
   "metadata": {},
   "outputs": [
    {
     "name": "stdout",
     "output_type": "stream",
     "text": [
      "EPS: 0.06258749999999999, EPSMIN: 0.0001, EPSMAX: 0.125075, NCLU: 1\n",
      "EPS: 0.06258749999999999, NCLU: 90\n",
      "EPS: 0.03134375, EPSMIN: 0.0001, EPSMAX: 0.06258749999999999, NCLU: 90\n",
      "EPS: 0.03134375, NCLU: 213\n",
      "EPS: 0.015721875, EPSMIN: 0.0001, EPSMAX: 0.03134375, NCLU: 213\n",
      "EPS: 0.015721875, NCLU: 781\n",
      "EPS: 0.0079109375, EPSMIN: 0.0001, EPSMAX: 0.015721875, NCLU: 781\n",
      "EPS: 0.0079109375, NCLU: 413\n",
      "EPS: 0.0040054687499999995, EPSMIN: 0.0001, EPSMAX: 0.0079109375, NCLU: 413\n",
      "EPS: 0.0040054687499999995, NCLU: 51\n",
      "EPS: 0.002052734375, EPSMIN: 0.0001, EPSMAX: 0.0040054687499999995, NCLU: 51\n",
      "EPS: 0.002052734375, NCLU: 6\n",
      "EPS: 0.0010763671874999999, EPSMIN: 0.0001, EPSMAX: 0.002052734375, NCLU: 6\n",
      "EPS: 0.0010763671874999999, NCLU: 0\n",
      "EPS: 0.0015645507812499999, EPSMIN: 0.0010763671874999999, EPSMAX: 0.002052734375, NCLU: 0\n",
      "EPS: 0.0015645507812499999, NCLU: 2\n",
      "EPS: 0.0018086425781249998, EPSMIN: 0.0015645507812499999, EPSMAX: 0.002052734375, NCLU: 2\n",
      "EPS: 0.0018086425781249998, NCLU: 3\n"
     ]
    }
   ],
   "source": [
    "# Valido eps su un sottoinsieme dei dati\n",
    "eps_valid = valid_dbscan_clustering(X_pca_2)"
   ]
  },
  {
   "cell_type": "code",
   "execution_count": 143,
   "id": "1ae9e9f5",
   "metadata": {},
   "outputs": [],
   "source": [
    "dbscan = get_dbscan(X_pca_2, eps_valid)"
   ]
  },
  {
   "cell_type": "code",
   "execution_count": 144,
   "id": "1995fe53",
   "metadata": {},
   "outputs": [
    {
     "data": {
      "text/plain": [
       "DBSCAN(eps=0.0018086425781249998, min_samples=3, n_jobs=-1)"
      ]
     },
     "execution_count": 144,
     "metadata": {},
     "output_type": "execute_result"
    }
   ],
   "source": [
    "dbscan"
   ]
  },
  {
   "cell_type": "code",
   "execution_count": 140,
   "id": "64125711",
   "metadata": {},
   "outputs": [],
   "source": [
    "def occurences(l):\n",
    "    l = list(l)\n",
    "    return dict((x, l.count(x)) for x in set(l))"
   ]
  },
  {
   "cell_type": "code",
   "execution_count": 142,
   "id": "75358e71",
   "metadata": {},
   "outputs": [
    {
     "data": {
      "text/plain": [
       "{0: 4,\n",
       " 1: 3,\n",
       " 2: 6,\n",
       " 3: 3,\n",
       " 4: 4,\n",
       " 5: 3,\n",
       " 6: 4,\n",
       " 7: 7,\n",
       " 8: 3,\n",
       " 9: 3,\n",
       " 10: 3,\n",
       " 11: 4,\n",
       " -1: 99662}"
      ]
     },
     "execution_count": 142,
     "metadata": {},
     "output_type": "execute_result"
    }
   ],
   "source": [
    "occurences(dbscan.labels_)"
   ]
  },
  {
   "cell_type": "markdown",
   "id": "b69dd446",
   "metadata": {},
   "source": [
    "# Split #"
   ]
  },
  {
   "cell_type": "markdown",
   "id": "559bbc8b",
   "metadata": {},
   "source": [
    "Divido il Dataset a seconda del region_id county"
   ]
  },
  {
   "cell_type": "code",
   "execution_count": 35,
   "id": "ef4791b3",
   "metadata": {},
   "outputs": [],
   "source": [
    "# Returns the X, y dataframes splitted throught regions\n",
    "def split_regionid(X, y):\n",
    "    A = X.loc[:,regionids[0]] == 1\n",
    "    B = X.loc[:,regionids[1]] == 1 \n",
    "    C = X.loc[:,regionids[2]] == 1    \n",
    "    return X[A], X[B], X[C], y[A], y[B], y[C]"
   ]
  },
  {
   "cell_type": "code",
   "execution_count": 36,
   "id": "0308a1bb",
   "metadata": {},
   "outputs": [],
   "source": [
    "X_trainA, X_trainB, X_trainC, y_trainA, y_trainB, y_trainC = split_regionid(X_train, y_train)\n",
    "X_valA,   X_valB,   X_valC,   y_valA,   y_valB,   y_valC   = split_regionid(X_val,   y_val  )\n",
    "X_testA,  X_testB,  X_testC,  y_testA,  y_testB,  y_testC  = split_regionid(X_test,  y_test )"
   ]
  },
  {
   "cell_type": "markdown",
   "id": "7e0e2208",
   "metadata": {},
   "source": [
    "Mantengo i dataframe in un array"
   ]
  },
  {
   "cell_type": "code",
   "execution_count": 37,
   "id": "705abe28",
   "metadata": {},
   "outputs": [],
   "source": [
    "X_train = np.array([X_trainA, X_trainB, X_trainC], dtype=object)\n",
    "X_val   = np.array([X_valA,   X_valB,   X_valC  ], dtype=object)\n",
    "X_test  = np.array([X_testA,  X_testB,  X_testC ], dtype=object)\n",
    "y_train = np.array([y_trainA, y_trainB, y_trainC], dtype=object)\n",
    "y_val   = np.array([y_valA,   y_valB,   y_valC  ], dtype=object)\n",
    "y_test  = np.array([y_testA,  y_testB,  y_testC ], dtype=object)"
   ]
  },
  {
   "cell_type": "code",
   "execution_count": 38,
   "id": "027b9228",
   "metadata": {},
   "outputs": [],
   "source": [
    "for X in [X_train, X_val, X_test]:\n",
    "    for x in X:\n",
    "        x = remove_column(x, regionids)"
   ]
  },
  {
   "cell_type": "code",
   "execution_count": null,
   "id": "846dbef4",
   "metadata": {},
   "outputs": [],
   "source": []
  },
  {
   "cell_type": "code",
   "execution_count": 39,
   "id": "6f7dbcd8",
   "metadata": {},
   "outputs": [],
   "source": [
    "def dimensionality(y=False):\n",
    "    for i in range(3):\n",
    "        print(f'X_train{region_names[i]}: {X_train[i].shape}')\n",
    "        print(f'X_val{region_names[i]}:   {X_val  [i].shape}')\n",
    "        print(f'X_test{region_names[i]}:  {X_test [i].shape}')\n",
    "        if y:\n",
    "            print(f'y_train{region_names[i]}: {y_train[i].shape}')\n",
    "            print(f'y_val{region_names[i]}:   {y_val  [i].shape}')\n",
    "            print(f'y_test{region_names[i]}:  {y_test [i].shape}')\n",
    "            print()"
   ]
  },
  {
   "cell_type": "code",
   "execution_count": 40,
   "id": "4f6b9f99",
   "metadata": {},
   "outputs": [
    {
     "name": "stdout",
     "output_type": "stream",
     "text": [
      "X_trainA: (26819, 69)\n",
      "X_valA:   (9006, 69)\n",
      "X_testA:  (9085, 69)\n",
      "y_trainA: (26819, 1)\n",
      "y_valA:   (9006, 1)\n",
      "y_testA:  (9085, 1)\n",
      "\n",
      "X_trainB: (8119, 69)\n",
      "X_valB:   (2658, 69)\n",
      "X_testB:  (2606, 69)\n",
      "y_trainB: (8119, 1)\n",
      "y_valB:   (2658, 1)\n",
      "y_testB:  (2606, 1)\n",
      "\n",
      "X_trainC: (64771, 69)\n",
      "X_valC:   (21908, 69)\n",
      "X_testC:  (21876, 69)\n",
      "y_trainC: (64771, 1)\n",
      "y_valC:   (21908, 1)\n",
      "y_testC:  (21876, 1)\n",
      "\n"
     ]
    }
   ],
   "source": [
    "dimensionality(y=True)"
   ]
  },
  {
   "cell_type": "code",
   "execution_count": 41,
   "id": "47cccc45",
   "metadata": {},
   "outputs": [],
   "source": [
    "dir_name = 'regioni'\n",
    "\n",
    "for i in range(3):\n",
    "    X_train[i].to_csv( dir_name + f'/X_train{region_names[i]}.csv',  index=False)\n",
    "    X_val  [i].to_csv( dir_name + f'/X_val{  region_names[i]}.csv',  index=False)\n",
    "    X_test [i].to_csv( dir_name + f'/X_test{ region_names[i]}.csv',  index=False)\n",
    "    y_train[i].to_csv( dir_name + f'/y_train{region_names[i]}.csv',  index=False)\n",
    "    y_val  [i].to_csv( dir_name + f'/y_val{  region_names[i]}.csv',  index=False)\n",
    "    y_test [i].to_csv( dir_name + f'/y_test{ region_names[i]}.csv',  index=False)    "
   ]
  }
 ],
 "metadata": {
  "kernelspec": {
   "display_name": "Python 3",
   "language": "python",
   "name": "python3"
  },
  "language_info": {
   "codemirror_mode": {
    "name": "ipython",
    "version": 3
   },
   "file_extension": ".py",
   "mimetype": "text/x-python",
   "name": "python",
   "nbconvert_exporter": "python",
   "pygments_lexer": "ipython3",
   "version": "3.8.8"
  }
 },
 "nbformat": 4,
 "nbformat_minor": 5
}

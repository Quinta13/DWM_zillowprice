{
 "cells": [
  {
   "cell_type": "code",
   "execution_count": 1,
   "id": "83a93d9e",
   "metadata": {},
   "outputs": [],
   "source": [
    "# Libraries\n",
    "import pandas            as pd\n",
    "import numpy             as np\n",
    "import matplotlib.pyplot as plt\n",
    "\n",
    "from sklearn.metrics           import mean_squared_error\n",
    "from sklearn.model_selection   import cross_val_score\n",
    "from sklearn.ensemble          import RandomForestRegressor\n",
    "from sklearn.feature_selection import RFECV\n",
    "from sklearn.utils             import resample"
   ]
  },
  {
   "cell_type": "code",
   "execution_count": 2,
   "id": "6bdb7857",
   "metadata": {},
   "outputs": [],
   "source": [
    "# local file paths\n",
    "\n",
    "dir_name = 'regioni'\n",
    "region_names = np.array(['A', 'B', 'C'])\n",
    "\n",
    "fp_Xtrain = []\n",
    "fp_Xval   = []\n",
    "fp_Xtest  = []\n",
    "fp_ytrain = []\n",
    "fp_yval   = []\n",
    "fp_ytest  = []\n",
    "\n",
    "for i in range(3):\n",
    "    fp_Xtrain.append(dir_name + f'/X_train{region_names[i]}.csv')\n",
    "    fp_Xval  .append(dir_name + f'/X_val{  region_names[i]}.csv')\n",
    "    fp_Xtest .append(dir_name + f'/X_test{ region_names[i]}.csv')\n",
    "    fp_ytrain.append(dir_name + f'/y_train{region_names[i]}.csv')\n",
    "    fp_yval  .append(dir_name + f'/y_val{  region_names[i]}.csv')\n",
    "    fp_ytest .append(dir_name + f'/y_test{ region_names[i]}.csv')"
   ]
  },
  {
   "cell_type": "code",
   "execution_count": 3,
   "id": "f958bb4c",
   "metadata": {},
   "outputs": [],
   "source": [
    "# Lettura dei dati\n",
    "\n",
    "X_train = []\n",
    "X_val   = []\n",
    "X_test  = []\n",
    "y_train = []\n",
    "y_val   = []\n",
    "y_test  = []\n",
    "\n",
    "for i in range(3):\n",
    "    X_train.append(pd.read_csv(fp_Xtrain[i], low_memory=False))\n",
    "    X_val  .append(pd.read_csv(fp_Xval  [i], low_memory=False))        \n",
    "    X_test .append(pd.read_csv(fp_Xtest [i], low_memory=False))\n",
    "    y_train.append(pd.read_csv(fp_ytrain[i], low_memory=False))\n",
    "    y_val  .append(pd.read_csv(fp_yval  [i], low_memory=False))        \n",
    "    y_test .append(pd.read_csv(fp_ytest [i], low_memory=False))\n",
    "    \n",
    "X_train = np.array(X_train, dtype=object)\n",
    "X_val   = np.array(X_val,   dtype=object)\n",
    "X_test  = np.array(X_test,  dtype=object)\n",
    "y_train = np.array(y_train, dtype=object)\n",
    "y_val   = np.array(y_val,   dtype=object)\n",
    "y_test  = np.array(y_test,  dtype=object)"
   ]
  },
  {
   "cell_type": "code",
   "execution_count": 4,
   "id": "6f7dbcd8",
   "metadata": {},
   "outputs": [],
   "source": [
    "def dimensionality(y=False):\n",
    "    for i in range(3):\n",
    "        print(f'X_train{region_names[i]}: {X_train[i].shape}')\n",
    "        print(f'X_val{region_names[i]}:   {X_val  [i].shape}')\n",
    "        print(f'X_test{region_names[i]}:  {X_test [i].shape}')\n",
    "        if y:\n",
    "            print(f'y_train{region_names[i]}: {y_train[i].shape}')\n",
    "            print(f'y_val{region_names[i]}:   {y_val  [i].shape}')\n",
    "            print(f'y_test{region_names[i]}:  {y_test [i].shape}')\n",
    "            print()"
   ]
  },
  {
   "cell_type": "code",
   "execution_count": 5,
   "id": "4f6b9f99",
   "metadata": {},
   "outputs": [
    {
     "name": "stdout",
     "output_type": "stream",
     "text": [
      "X_trainA: (26819, 69)\n",
      "X_valA:   (9006, 69)\n",
      "X_testA:  (9085, 69)\n",
      "y_trainA: (26819, 1)\n",
      "y_valA:   (9006, 1)\n",
      "y_testA:  (9085, 1)\n",
      "\n",
      "X_trainB: (8119, 69)\n",
      "X_valB:   (2658, 69)\n",
      "X_testB:  (2606, 69)\n",
      "y_trainB: (8119, 1)\n",
      "y_valB:   (2658, 1)\n",
      "y_testB:  (2606, 1)\n",
      "\n",
      "X_trainC: (64771, 69)\n",
      "X_valC:   (21908, 69)\n",
      "X_testC:  (21876, 69)\n",
      "y_trainC: (64771, 1)\n",
      "y_valC:   (21908, 1)\n",
      "y_testC:  (21876, 1)\n",
      "\n"
     ]
    }
   ],
   "source": [
    "dimensionality(y=True)"
   ]
  },
  {
   "cell_type": "code",
   "execution_count": 6,
   "id": "501035a4",
   "metadata": {},
   "outputs": [],
   "source": [
    "N_ESTIMATORS = 80\n",
    "CV = 5\n",
    "SCORING = 'neg_mean_squared_error'"
   ]
  },
  {
   "cell_type": "code",
   "execution_count": 7,
   "id": "ef761c54",
   "metadata": {},
   "outputs": [],
   "source": [
    "plt.rcParams.update({'font.size': 35})"
   ]
  },
  {
   "cell_type": "code",
   "execution_count": 8,
   "id": "2a841f52",
   "metadata": {},
   "outputs": [],
   "source": [
    "def createRF(X, y):\n",
    "    rf = RandomForestRegressor(n_estimators=N_ESTIMATORS, n_jobs=-1)\n",
    "    rf.fit(X, y.values.ravel())\n",
    "    return rf"
   ]
  },
  {
   "cell_type": "code",
   "execution_count": 9,
   "id": "454f5532",
   "metadata": {},
   "outputs": [],
   "source": [
    "def barplot(X, rf, reg_name, file_name=''):\n",
    "    \n",
    "    print(f'{reg_name} FEATURE IMPORTANCES')\n",
    "    print(list(X.columns[np.argsort(rf.feature_importances_)[::-1]]))\n",
    "    print()\n",
    "    \n",
    "    fig, ax = plt.subplots(figsize=(len(rf.feature_importances_)/2,10))\n",
    "    \n",
    "    ax.tick_params(axis='x', which='major', labelsize=15)\n",
    "    ax.tick_params(axis='x', which='minor', labelsize=20)\n",
    "    ax.tick_params(axis='y', which='major', labelsize=25)\n",
    "    ax.tick_params(axis='y', which='minor', labelsize=30)\n",
    "    \n",
    "    ax.bar(range(0, X.shape[1]), rf.feature_importances_)\n",
    "    ax.set_title(\"Feature Importances\")\n",
    "    ax.set_xticks(range(X.shape[1]))\n",
    "    ax.set_xticklabels(X.columns, rotation=90)\n",
    "    \n",
    "    ax.grid()\n",
    "    \n",
    "    if file_name != '':\n",
    "        fig.savefig('images/' + file_name + '_RF_importances.jpg')"
   ]
  },
  {
   "cell_type": "code",
   "execution_count": 10,
   "id": "a2e68d06",
   "metadata": {},
   "outputs": [],
   "source": [
    "def compute_rmse(X, y, bf, debug=False):\n",
    "    \n",
    "    rmse  = []\n",
    "\n",
    "    for f in range(1, len(bf)+1):\n",
    "        \n",
    "        if debug:\n",
    "            print(f)\n",
    "        \n",
    "        rf_small = RandomForestRegressor(n_estimators=N_ESTIMATORS, n_jobs=-1)\n",
    "        cols     = X.columns[bf][:f]\n",
    "        scores   = cross_val_score(\n",
    "            rf_small, \n",
    "            X.loc[:,cols],\n",
    "            y.values.ravel(), \n",
    "            cv = CV,\n",
    "            scoring = SCORING,\n",
    "        )\n",
    "        rmse += [-scores.mean()]\n",
    "    \n",
    "    return rmse"
   ]
  },
  {
   "cell_type": "code",
   "execution_count": 11,
   "id": "12c6a5ed",
   "metadata": {},
   "outputs": [],
   "source": [
    "def feature_plot(rmse, reg_name, file_name=''):\n",
    "    \n",
    "    min_ = min(rmse)\n",
    "    best = np.argmin(rmse) + 1\n",
    "    \n",
    "    print(f'{reg_name} INCRESAING n-FEATURE PLOT')\n",
    "    print (\"Full score:\", rmse[-1])\n",
    "    print (\"Best score:\", min_)\n",
    "    print(\"Best number of feature: \", best)\n",
    "    print()\n",
    "\n",
    "    fig, ax = plt.subplots(figsize=(len(rmse)/2, 10))\n",
    "    \n",
    "    ax.tick_params(axis='x', which='major', labelsize=25)\n",
    "    ax.tick_params(axis='x', which='minor', labelsize=30)\n",
    "    ax.tick_params(axis='y', which='major', labelsize=30)\n",
    "    ax.tick_params(axis='y', which='minor', labelsize=35)\n",
    "    \n",
    "    ax.plot(range(1, len(rmse)+1), rmse, 'o-', label=\"RMSE\")\n",
    "    ax.set_title(\"RMSE on varying features\")\n",
    "    ax.set_xlabel(\"Number of Best features used\")\n",
    "        \n",
    "    ax.grid()\n",
    "    \n",
    "    if file_name != '':\n",
    "        fig.savefig('images/' + file_name + '_increasing_rmse.jpg')"
   ]
  },
  {
   "cell_type": "code",
   "execution_count": 12,
   "id": "9cd85b9e",
   "metadata": {},
   "outputs": [],
   "source": [
    "def get_selector(X, y):\n",
    "    rf_small = RandomForestRegressor(n_estimators=N_ESTIMATORS, n_jobs=-1)\n",
    "    selector = RFECV(\n",
    "        rf_small, \n",
    "        step    = 1,\n",
    "        cv      = CV,\n",
    "        scoring = SCORING,\n",
    "        min_features_to_select = 1,\n",
    "        n_jobs   = -1\n",
    "    )\n",
    "    selector.fit(X, y.values.ravel())\n",
    "    return selector"
   ]
  },
  {
   "cell_type": "code",
   "execution_count": 13,
   "id": "e27e0b17",
   "metadata": {},
   "outputs": [],
   "source": [
    "def selector_info(sel, X):\n",
    "    \n",
    "    print(\"SELECTOR\")\n",
    "    print(\"Numero di Feature selezionate: \", sel.n_features_)\n",
    "    print(\"Feature: \\n\", list(X.columns[sel.support_]))\n",
    "    print()\n",
    "    print(\"Ranking delle feature: \\n\", list(X.columns[np.argsort(sel.ranking_)][:sel.n_features_]))\n",
    "    print()\n",
    "    \n",
    "    return list(X.columns[np.argsort(sel.ranking_)][:sel.n_features_])"
   ]
  },
  {
   "cell_type": "code",
   "execution_count": 14,
   "id": "fdf897ac",
   "metadata": {},
   "outputs": [],
   "source": [
    "def feature_importance(X, y, reg_name, debug=False, file_name=''):\n",
    "        \n",
    "    rf = createRF(X, y)\n",
    "      \n",
    "    barplot(X, rf, reg_name, file_name=file_name)\n",
    "    \n",
    "    best_features = np.argsort(rf.feature_importances_)[::-1]\n",
    "    \n",
    "    rmse = compute_rmse(X, y, best_features, debug=debug)\n",
    "    \n",
    "    feature_plot(rmse, reg_name, file_name=file_name)"
   ]
  },
  {
   "cell_type": "code",
   "execution_count": 15,
   "id": "c3009335",
   "metadata": {},
   "outputs": [],
   "source": [
    "def recursive_selection(X, y):\n",
    "    \n",
    "    selector = get_selector(X, y)\n",
    "    \n",
    "    selected = selector_info(selector, X)\n",
    "    \n",
    "    return selected"
   ]
  },
  {
   "cell_type": "code",
   "execution_count": 16,
   "id": "d0fe8e8e",
   "metadata": {},
   "outputs": [],
   "source": [
    "feat_selected = []"
   ]
  },
  {
   "cell_type": "code",
   "execution_count": 17,
   "id": "c12410e4",
   "metadata": {},
   "outputs": [
    {
     "name": "stdout",
     "output_type": "stream",
     "text": [
      "X_trainA: (26819, 69)\n",
      "X_valA:   (9006, 69)\n",
      "X_testA:  (9085, 69)\n",
      "X_trainB: (8119, 69)\n",
      "X_valB:   (2658, 69)\n",
      "X_testB:  (2606, 69)\n",
      "X_trainC: (64771, 69)\n",
      "X_valC:   (21908, 69)\n",
      "X_testC:  (21876, 69)\n"
     ]
    }
   ],
   "source": [
    "dimensionality()"
   ]
  },
  {
   "cell_type": "markdown",
   "id": "cbe57ab9",
   "metadata": {},
   "source": [
    "Computazionalmente alleno la selezione delle feature esclusivamente su un subset del train.\n",
    "Mantengo circa 8000 osservazioni per dataframe"
   ]
  },
  {
   "cell_type": "code",
   "execution_count": 18,
   "id": "0341570e",
   "metadata": {},
   "outputs": [],
   "source": [
    "#sub_perc = [   1/3,     1,    1/4] # circa 8000\n",
    "#sub_perc = [     1,     1,    2/5] # A e B uguali, C circa 30000\n",
    "#sub_perc = [1/1000, 1/100, 1/1000] # circa 100, per testing\n",
    "sub_perc = [     1,     1,      1] # dataset completo"
   ]
  },
  {
   "cell_type": "code",
   "execution_count": 19,
   "id": "68f69482",
   "metadata": {},
   "outputs": [
    {
     "name": "stdout",
     "output_type": "stream",
     "text": [
      "26819\n",
      "8119\n",
      "64771\n"
     ]
    }
   ],
   "source": [
    "for i in range(3):\n",
    "    print(int(len(X_train[i])*sub_perc[i]))"
   ]
  },
  {
   "cell_type": "code",
   "execution_count": 20,
   "id": "2154389d",
   "metadata": {},
   "outputs": [],
   "source": [
    "X_train_sub = []\n",
    "y_train_sub = []"
   ]
  },
  {
   "cell_type": "code",
   "execution_count": 21,
   "id": "e88bab4e",
   "metadata": {},
   "outputs": [],
   "source": [
    "for i in range(3):\n",
    "    X_sub, y_sub = resample(X_train[i], y_train[i], n_samples = int(sub_perc[i]*len(X_train[i])))\n",
    "    X_train_sub.append(X_sub)\n",
    "    y_train_sub.append(y_sub)"
   ]
  },
  {
   "cell_type": "code",
   "execution_count": 22,
   "id": "e02bd239",
   "metadata": {},
   "outputs": [],
   "source": [
    "def feat_importance(index, debug=False, file_name=''):\n",
    "    return feature_importance(\n",
    "        X_train_sub[index],\n",
    "        y_train_sub[index],\n",
    "        region_names[index],\n",
    "        debug=debug,\n",
    "        file_name=file_name\n",
    ")"
   ]
  },
  {
   "cell_type": "code",
   "execution_count": 23,
   "id": "26c785e2",
   "metadata": {},
   "outputs": [],
   "source": [
    "def get_selected(index):\n",
    "    return recursive_selection(\n",
    "        X_train_sub[index],\n",
    "        y_train_sub[index]\n",
    ")"
   ]
  },
  {
   "cell_type": "code",
   "execution_count": null,
   "id": "a658e414",
   "metadata": {
    "scrolled": false
   },
   "outputs": [
    {
     "name": "stdout",
     "output_type": "stream",
     "text": [
      "A FEATURE IMPORTANCES\n",
      "['latitude', 'structuretaxvaluedollarcnt', 'tax_ratio', 'int_transactiondate', 'tax_prop', 'longitude', 'yearbuilt', 'living_area_prop', 'landtaxvaluedollarcnt', 'taxamount', 'lotsizesquarefeet', 'neighborhood_mean_price', 'taxvaluedollarcnt', 'finishedsquarefeet12', 'calculatedfinishedsquarefeet', 'period_mean_price', 'regionidzip', 'bedroomcnt', 'regionidcity', 'rawcensustractandblock', 'roomcnt', 'bathroomcnt', 'calculatedbathnbr', 'assessmentyear', 'fireplacecnt', 'poolcnt_1.0', 'heatingorsystemtypeid_24.0', 'heatingorsystemtypeid_6.0', 'propertycountylandusecode_34', 'propertylandusetypeid_246.0', 'propertycountylandusecode_rare', 'propertycountylandusecode_122', 'propertylandusetypeid_261.0', 'unitcnt', 'propertylandusetypeid_266.0', 'unitcnt_na_flag', 'propertylandusetypeid_247.0', 'heatingorsystemtypeid_18.0', 'heatingorsystemtypeid_13.0', 'propertylandusetypeid_248.0', 'heatingorsystemtypeid_7.0', 'heatingorsystemtypeid_1.0', 'propertylandusetypeid_263.0', 'heatingorsystemtypeid_10.0', 'propertylandusetypeid_269.0', 'heatingorsystemtypeid_12.0', 'heatingorsystemtypeid_11.0', 'propertylandusetypeid_260.0', 'propertylandusetypeid_275.0', 'propertyzoningdesc_LAR1', 'propertylandusetypeid_264.0', 'propertyzoningdesc_LAR3', 'propertylandusetypeid_267.0', 'propertyzoningdesc_LARD1.5', 'buildingqualitytypeid', 'propertylandusetypeid_265.0', 'propertyzoningdesc_LARS', 'fips_6059.0', 'fips_6037.0', 'propertyzoningdesc_LBR1N', 'propertylandusetypeid_31.0', 'heatingorsystemtypeid_2.0', 'propertycountylandusecode_010C', 'propertycountylandusecode_0101', 'propertycountylandusecode_0100', 'heatingorsystemtypeid_20.0', 'buildingqualitytypeid_na_flag', 'fips_6111.0', 'propertyzoningdesc_rare']\n",
      "\n"
     ]
    }
   ],
   "source": [
    "%%time\n",
    "feat_importance(0, file_name='A')"
   ]
  },
  {
   "cell_type": "code",
   "execution_count": null,
   "id": "43241bf4",
   "metadata": {
    "scrolled": false
   },
   "outputs": [],
   "source": [
    "%%time\n",
    "feat_selected.append(get_selected(0))"
   ]
  },
  {
   "cell_type": "code",
   "execution_count": null,
   "id": "bbb9c70f",
   "metadata": {
    "scrolled": true
   },
   "outputs": [],
   "source": [
    "%%time\n",
    "feat_importance(1, file_name='B')"
   ]
  },
  {
   "cell_type": "code",
   "execution_count": null,
   "id": "9430deeb",
   "metadata": {
    "scrolled": false
   },
   "outputs": [],
   "source": [
    "%%time\n",
    "feat_selected.append(get_selected(1))"
   ]
  },
  {
   "cell_type": "code",
   "execution_count": null,
   "id": "f872d271",
   "metadata": {
    "scrolled": true
   },
   "outputs": [],
   "source": [
    "%%time\n",
    "feat_importance(2, file_name='C')"
   ]
  },
  {
   "cell_type": "code",
   "execution_count": null,
   "id": "f4f50562",
   "metadata": {
    "scrolled": false
   },
   "outputs": [],
   "source": [
    "%%time\n",
    "feat_selected.append(get_selected(2))"
   ]
  },
  {
   "cell_type": "code",
   "execution_count": null,
   "id": "0f9c5980",
   "metadata": {},
   "outputs": [],
   "source": [
    "def print_list_info(l):\n",
    "    print(*l, sep='\\n')\n",
    "    print(f'({len(l)})')"
   ]
  },
  {
   "cell_type": "code",
   "execution_count": null,
   "id": "c9d06205",
   "metadata": {
    "scrolled": false
   },
   "outputs": [],
   "source": [
    "print_list_info(feat_selected[0])"
   ]
  },
  {
   "cell_type": "code",
   "execution_count": null,
   "id": "a7602a9a",
   "metadata": {},
   "outputs": [],
   "source": [
    "print_list_info(feat_selected[1])"
   ]
  },
  {
   "cell_type": "code",
   "execution_count": null,
   "id": "524cf2ab",
   "metadata": {
    "scrolled": false
   },
   "outputs": [],
   "source": [
    "print_list_info(feat_selected[2])"
   ]
  },
  {
   "cell_type": "code",
   "execution_count": null,
   "id": "a3e6fb8a",
   "metadata": {},
   "outputs": [],
   "source": [
    "to_delete = []\n",
    "for i in range(3):\n",
    "    to_del = list(set(X_train[i].columns) - set(feat_selected[i]))\n",
    "    to_delete.append(to_del)"
   ]
  },
  {
   "cell_type": "code",
   "execution_count": null,
   "id": "9e396f7e",
   "metadata": {},
   "outputs": [],
   "source": [
    "print_list_info(to_delete[0])"
   ]
  },
  {
   "cell_type": "code",
   "execution_count": null,
   "id": "d81c70a3",
   "metadata": {},
   "outputs": [],
   "source": [
    "print_list_info(to_delete[1])"
   ]
  },
  {
   "cell_type": "code",
   "execution_count": null,
   "id": "f8b6b810",
   "metadata": {},
   "outputs": [],
   "source": [
    "print_list_info(to_delete[2])"
   ]
  },
  {
   "cell_type": "code",
   "execution_count": null,
   "id": "afbfd0f0",
   "metadata": {},
   "outputs": [],
   "source": [
    "def dim_check():\n",
    "    correct = True\n",
    "    dim = len(X_train[0].columns)\n",
    "    for i in range(3):\n",
    "        correct &= (len(feat_selected[i]) + len(to_delete[i]) == dim)\n",
    "    return correct"
   ]
  },
  {
   "cell_type": "code",
   "execution_count": null,
   "id": "9304770c",
   "metadata": {},
   "outputs": [],
   "source": [
    "dim_check()"
   ]
  },
  {
   "cell_type": "code",
   "execution_count": null,
   "id": "27d6a1fc",
   "metadata": {},
   "outputs": [],
   "source": [
    "def remove_column(df, col_names):\n",
    "    df.drop(col_names, axis=1, inplace=True)\n",
    "    return df"
   ]
  },
  {
   "cell_type": "code",
   "execution_count": null,
   "id": "5aa90aec",
   "metadata": {},
   "outputs": [],
   "source": [
    "dimensionality(y=True)"
   ]
  },
  {
   "cell_type": "code",
   "execution_count": null,
   "id": "45968405",
   "metadata": {},
   "outputs": [],
   "source": [
    "for i in range(3):\n",
    "    for X in [X_train[i], X_val[i], X_test[i]]:\n",
    "        X = remove_column(X, to_delete[i])"
   ]
  },
  {
   "cell_type": "code",
   "execution_count": null,
   "id": "e3dbfff2",
   "metadata": {},
   "outputs": [],
   "source": [
    "dimensionality(y=True)"
   ]
  },
  {
   "cell_type": "markdown",
   "id": "aae62a59",
   "metadata": {},
   "source": [
    "Guardo tra le feature selezionate quelle comuni a tutte e tre le regioni"
   ]
  },
  {
   "cell_type": "code",
   "execution_count": null,
   "id": "ca42a6a0",
   "metadata": {},
   "outputs": [],
   "source": [
    "common = set(X_train[0].columns)\n",
    "\n",
    "for i in range(1,3):\n",
    "    common = common.intersection(set(X_train[i].columns))\n",
    "common = list(common)\n",
    "\n",
    "print_list_info(common)"
   ]
  },
  {
   "cell_type": "code",
   "execution_count": null,
   "id": "47cccc45",
   "metadata": {},
   "outputs": [],
   "source": [
    "dir_name = 'selezione'\n",
    "\n",
    "for i in range(3):\n",
    "    X_train[i].to_csv( dir_name + f'/X_train{region_names[i]}.csv',  index=False)\n",
    "    X_val  [i].to_csv( dir_name + f'/X_val{  region_names[i]}.csv',  index=False)\n",
    "    X_test [i].to_csv( dir_name + f'/X_test{ region_names[i]}.csv',  index=False)\n",
    "    y_train[i].to_csv( dir_name + f'/y_train{region_names[i]}.csv',  index=False)\n",
    "    y_val  [i].to_csv( dir_name + f'/y_val{  region_names[i]}.csv',  index=False)\n",
    "    y_test [i].to_csv( dir_name + f'/y_test{ region_names[i]}.csv',  index=False)    "
   ]
  }
 ],
 "metadata": {
  "kernelspec": {
   "display_name": "Python 3",
   "language": "python",
   "name": "python3"
  },
  "language_info": {
   "codemirror_mode": {
    "name": "ipython",
    "version": 3
   },
   "file_extension": ".py",
   "mimetype": "text/x-python",
   "name": "python",
   "nbconvert_exporter": "python",
   "pygments_lexer": "ipython3",
   "version": "3.8.8"
  }
 },
 "nbformat": 4,
 "nbformat_minor": 5
}

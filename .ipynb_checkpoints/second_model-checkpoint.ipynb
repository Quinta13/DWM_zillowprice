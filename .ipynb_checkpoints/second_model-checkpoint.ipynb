{
 "cells": [
  {
   "cell_type": "code",
   "execution_count": 1,
   "id": "83a93d9e",
   "metadata": {},
   "outputs": [],
   "source": [
    "# Libraries\n",
    "import math \n",
    "import re\n",
    "import pandas as pd\n",
    "import numpy  as np\n",
    "import matplotlib.pyplot as plt\n",
    "\n",
    "from sklearn                 import tree\n",
    "from sklearn.tree            import DecisionTreeRegressor\n",
    "from sklearn.metrics         import mean_squared_error\n",
    "from sklearn.metrics         import accuracy_score\n",
    "from sklearn.model_selection import cross_val_score\n",
    "from sklearn.utils           import resample\n",
    "from sklearn.ensemble        import RandomForestRegressor"
   ]
  },
  {
   "cell_type": "code",
   "execution_count": 2,
   "id": "6bdb7857",
   "metadata": {},
   "outputs": [],
   "source": [
    "# local file paths\n",
    "fp_xtrain = \"csv_preparazione/X_train.csv\"\n",
    "fp_ytrain = \"csv_preparazione/y_train.csv\"\n",
    "fp_xval   = \"csv_preparazione/X_val.csv\"\n",
    "fp_yval   = \"csv_preparazione/y_val.csv\"\n",
    "fp_xtest  = \"csv_preparazione/X_test.csv\"\n",
    "fp_ytest  = \"csv_preparazione/y_test.csv\""
   ]
  },
  {
   "cell_type": "code",
   "execution_count": 3,
   "id": "f958bb4c",
   "metadata": {},
   "outputs": [],
   "source": [
    "# Lettura dei dati\n",
    "X_train = pd.read_csv(fp_xtrain, low_memory=False)\n",
    "y_train = pd.read_csv(fp_ytrain, low_memory=False)\n",
    "X_val   = pd.read_csv(fp_xval,   low_memory=False)\n",
    "y_val   = pd.read_csv(fp_yval,   low_memory=False)\n",
    "X_test  = pd.read_csv(fp_xtest,  low_memory=False)\n",
    "y_test  = pd.read_csv(fp_ytest,  low_memory=False)"
   ]
  },
  {
   "cell_type": "code",
   "execution_count": 4,
   "id": "27d6a1fc",
   "metadata": {},
   "outputs": [],
   "source": [
    "def remove_column(df, col_names):\n",
    "    return df.drop(col_names, axis=1, inplace=True)"
   ]
  },
  {
   "cell_type": "code",
   "execution_count": 5,
   "id": "0dfbbdb5",
   "metadata": {},
   "outputs": [],
   "source": [
    "for X in [X_train, X_val, X_test]:\n",
    "    X = remove_column(X, 'parcelid')"
   ]
  },
  {
   "cell_type": "code",
   "execution_count": 6,
   "id": "67d68e00",
   "metadata": {},
   "outputs": [],
   "source": [
    "def dimensionality(y=False):\n",
    "    print(f'X_train {  X_train.shape}')\n",
    "    print(f'X_val   {    X_val.shape}')\n",
    "    print(f'X_test  {   X_test.shape}')\n",
    "    if y:\n",
    "        print(f'y_train { y_train.shape}')\n",
    "        print(f'y_val   {   y_val.shape}')\n",
    "        print(f'y_test  {  y_test.shape}')"
   ]
  },
  {
   "cell_type": "code",
   "execution_count": 7,
   "id": "df7f2299",
   "metadata": {},
   "outputs": [
    {
     "name": "stdout",
     "output_type": "stream",
     "text": [
      "X_train (100715, 70)\n",
      "X_val   (33572, 70)\n",
      "X_test  (33567, 70)\n",
      "y_train (100715, 1)\n",
      "y_val   (33572, 1)\n",
      "y_test  (33567, 1)\n"
     ]
    }
   ],
   "source": [
    "dimensionality(y=True)"
   ]
  },
  {
   "cell_type": "code",
   "execution_count": 8,
   "id": "39c16eb2",
   "metadata": {},
   "outputs": [
    {
     "data": {
      "text/plain": [
       "Index(['bathroomcnt', 'bedroomcnt', 'buildingqualitytypeid',\n",
       "       'calculatedbathnbr', 'calculatedfinishedsquarefeet',\n",
       "       'finishedsquarefeet12', 'fullbathcnt', 'latitude', 'longitude',\n",
       "       'lotsizesquarefeet', 'rawcensustractandblock', 'regionidcity',\n",
       "       'regionidzip', 'roomcnt', 'unitcnt', 'yearbuilt',\n",
       "       'structuretaxvaluedollarcnt', 'taxvaluedollarcnt', 'assessmentyear',\n",
       "       'landtaxvaluedollarcnt', 'taxamount', 'censustractandblock',\n",
       "       'int_transactiondate', 'period_mean_price', 'neighborhood_mean_price',\n",
       "       'tax_ratio', 'tax_prop', 'unitcnt_na_flag', 'fips_6037.0',\n",
       "       'fips_6059.0', 'fips_6111.0', 'heatingorsystemtypeid_1.0',\n",
       "       'heatingorsystemtypeid_2.0', 'heatingorsystemtypeid_6.0',\n",
       "       'heatingorsystemtypeid_7.0', 'heatingorsystemtypeid_10.0',\n",
       "       'heatingorsystemtypeid_11.0', 'heatingorsystemtypeid_12.0',\n",
       "       'heatingorsystemtypeid_13.0', 'heatingorsystemtypeid_18.0',\n",
       "       'heatingorsystemtypeid_20.0', 'heatingorsystemtypeid_24.0',\n",
       "       'propertycountylandusecode_0100', 'propertycountylandusecode_0101',\n",
       "       'propertycountylandusecode_010C', 'propertycountylandusecode_122',\n",
       "       'propertycountylandusecode_34', 'propertycountylandusecode_rare',\n",
       "       'propertylandusetypeid_31.0', 'propertylandusetypeid_246.0',\n",
       "       'propertylandusetypeid_247.0', 'propertylandusetypeid_248.0',\n",
       "       'propertylandusetypeid_260.0', 'propertylandusetypeid_261.0',\n",
       "       'propertylandusetypeid_263.0', 'propertylandusetypeid_264.0',\n",
       "       'propertylandusetypeid_265.0', 'propertylandusetypeid_266.0',\n",
       "       'propertylandusetypeid_267.0', 'propertylandusetypeid_269.0',\n",
       "       'propertylandusetypeid_275.0', 'propertyzoningdesc_LAR1',\n",
       "       'propertyzoningdesc_LAR3', 'propertyzoningdesc_LARD1.5',\n",
       "       'propertyzoningdesc_LARS', 'propertyzoningdesc_LBR1N',\n",
       "       'propertyzoningdesc_rare', 'regionidcounty_1286.0',\n",
       "       'regionidcounty_2061.0', 'regionidcounty_3101.0'],\n",
       "      dtype='object')"
      ]
     },
     "execution_count": 8,
     "metadata": {},
     "output_type": "execute_result"
    }
   ],
   "source": [
    "X_train.columns"
   ]
  },
  {
   "cell_type": "markdown",
   "id": "559bbc8b",
   "metadata": {},
   "source": [
    "Divido il Dataset a seconda del region_id county"
   ]
  },
  {
   "cell_type": "code",
   "execution_count": 9,
   "id": "ef4791b3",
   "metadata": {},
   "outputs": [],
   "source": [
    "def split_regionid(X, y):\n",
    "    regionids = ['regionidcounty_1286.0', 'regionidcounty_2061.0', 'regionidcounty_3101.0']\n",
    "    A = X.loc[:,regionids[0]] == 1\n",
    "    B = X.loc[:,regionids[1]] == 1 \n",
    "    C = X.loc[:,regionids[2]] == 1    \n",
    "    return X[A], X[B], X[C], y[A], y[B], y[C]"
   ]
  },
  {
   "cell_type": "code",
   "execution_count": 10,
   "id": "0308a1bb",
   "metadata": {},
   "outputs": [],
   "source": [
    "X_trainA, X_trainB, X_trainC, y_trainA, y_trainB, y_trainC = split_regionid(X_train, y_train)\n",
    "X_valA,   X_valB,   X_valC,   y_valA,   y_valB,   y_valC   = split_regionid(X_val,   y_val  )\n",
    "X_testA,  X_testB,  X_testC,  y_testA,  y_testB,  y_testC  = split_regionid(X_test, y_test  )"
   ]
  },
  {
   "cell_type": "code",
   "execution_count": 11,
   "id": "027b9228",
   "metadata": {},
   "outputs": [
    {
     "name": "stderr",
     "output_type": "stream",
     "text": [
      "C:\\Users\\user\\anaconda3\\lib\\site-packages\\pandas\\core\\frame.py:4308: SettingWithCopyWarning: \n",
      "A value is trying to be set on a copy of a slice from a DataFrame\n",
      "\n",
      "See the caveats in the documentation: https://pandas.pydata.org/pandas-docs/stable/user_guide/indexing.html#returning-a-view-versus-a-copy\n",
      "  return super().drop(\n"
     ]
    }
   ],
   "source": [
    "for X in [X_trainA, X_trainB, X_trainC, X_valA, X_valB, X_valC, X_testA, X_testB, X_testC]:\n",
    "    X = remove_column(X, ['regionidcounty_1286.0', 'regionidcounty_2061.0', 'regionidcounty_3101.0'])"
   ]
  },
  {
   "cell_type": "code",
   "execution_count": 17,
   "id": "6f7dbcd8",
   "metadata": {},
   "outputs": [
    {
     "name": "stdout",
     "output_type": "stream",
     "text": [
      "X_trainA: (27045, 67)\n",
      "X_valA: (9006, 67)\n",
      "X_testA: (9085, 67)\n",
      "\n",
      "X_trainB: (8184, 67)\n",
      "X_valB: (2658, 67)\n",
      "X_testB: (2606, 67)\n",
      "\n",
      "X_trainC: (65486, 67)\n",
      "X_valC: (21908, 67)\n",
      "X_testC: (21876, 67)\n"
     ]
    }
   ],
   "source": [
    "print(f'X_trainA: {X_trainA.shape}')\n",
    "print(f'X_valA: {X_valA.shape}')\n",
    "print(f'X_testA: {X_testA.shape}')\n",
    "print()\n",
    "print(f'X_trainB: {X_trainB.shape}')\n",
    "print(f'X_valB: {X_valB.shape}')\n",
    "print(f'X_testB: {X_testB.shape}')\n",
    "print()\n",
    "print(f'X_trainC: {X_trainC.shape}')\n",
    "print(f'X_valC: {X_valC.shape}')\n",
    "print(f'X_testC: {X_testC.shape}')"
   ]
  },
  {
   "cell_type": "code",
   "execution_count": 16,
   "id": "3fbf9eaf",
   "metadata": {},
   "outputs": [
    {
     "ename": "NameError",
     "evalue": "name 'X_train' is not defined",
     "output_type": "error",
     "traceback": [
      "\u001b[1;31m---------------------------------------------------------------------------\u001b[0m",
      "\u001b[1;31mNameError\u001b[0m                                 Traceback (most recent call last)",
      "\u001b[1;32m<ipython-input-16-acbf32aa7a8b>\u001b[0m in \u001b[0;36m<module>\u001b[1;34m\u001b[0m\n\u001b[1;32m----> 1\u001b[1;33m \u001b[0mX_trainA\u001b[0m\u001b[1;33m.\u001b[0m\u001b[0mshape\u001b[0m\u001b[1;33m[\u001b[0m\u001b[1;36m0\u001b[0m\u001b[1;33m]\u001b[0m \u001b[1;33m+\u001b[0m \u001b[0mX_trainB\u001b[0m\u001b[1;33m.\u001b[0m\u001b[0mshape\u001b[0m\u001b[1;33m[\u001b[0m\u001b[1;36m0\u001b[0m\u001b[1;33m]\u001b[0m \u001b[1;33m+\u001b[0m \u001b[0mX_trainC\u001b[0m\u001b[1;33m.\u001b[0m\u001b[0mshape\u001b[0m\u001b[1;33m[\u001b[0m\u001b[1;36m0\u001b[0m\u001b[1;33m]\u001b[0m \u001b[1;33m==\u001b[0m \u001b[0mX_train\u001b[0m\u001b[1;33m.\u001b[0m\u001b[0mshape\u001b[0m\u001b[1;33m[\u001b[0m\u001b[1;36m0\u001b[0m\u001b[1;33m]\u001b[0m\u001b[1;33m\u001b[0m\u001b[1;33m\u001b[0m\u001b[0m\n\u001b[0m",
      "\u001b[1;31mNameError\u001b[0m: name 'X_train' is not defined"
     ]
    }
   ],
   "source": [
    "X_trainA.shape[0] + X_trainB.shape[0] + X_trainC.shape[0] == X_train.shape[0]"
   ]
  },
  {
   "cell_type": "code",
   "execution_count": 15,
   "id": "3780eb0c",
   "metadata": {},
   "outputs": [],
   "source": [
    "del(X_train, X_val, X_test)"
   ]
  },
  {
   "cell_type": "markdown",
   "id": "1cf09734",
   "metadata": {},
   "source": [
    "## Feature Selection ##"
   ]
  },
  {
   "cell_type": "code",
   "execution_count": 19,
   "id": "ef056be5",
   "metadata": {},
   "outputs": [],
   "source": [
    "N_ESTIMATORS = 10"
   ]
  },
  {
   "cell_type": "code",
   "execution_count": 21,
   "id": "9013c616",
   "metadata": {},
   "outputs": [
    {
     "data": {
      "text/plain": [
       "RandomForestRegressor(n_estimators=10)"
      ]
     },
     "execution_count": 21,
     "metadata": {},
     "output_type": "execute_result"
    }
   ],
   "source": [
    "rf = RandomForestRegressor(n_estimators=N_ESTIMATORS)\n",
    "rf.fit(X_trainB, y_trainB.values.ravel())"
   ]
  },
  {
   "cell_type": "code",
   "execution_count": 22,
   "id": "511c9417",
   "metadata": {},
   "outputs": [
    {
     "data": {
      "text/plain": [
       "array([4.74704195e-03, 2.28870784e-02, 0.00000000e+00, 1.78812507e-02,\n",
       "       3.19928016e-02, 2.46126038e-02, 2.64398030e-03, 5.78716970e-02,\n",
       "       1.44966545e-01, 5.72499287e-02, 2.64333603e-02, 2.57237043e-02,\n",
       "       1.93149206e-02, 1.54488788e-02, 5.94707430e-04, 5.87907990e-02,\n",
       "       5.51764327e-02, 3.12641640e-02, 9.30698000e-03, 6.97041300e-02,\n",
       "       3.28146888e-02, 1.05099957e-02, 4.91506304e-02, 4.54666176e-02,\n",
       "       4.41051096e-02, 7.39755201e-02, 5.62205756e-02, 3.13370775e-04,\n",
       "       0.00000000e+00, 0.00000000e+00, 0.00000000e+00, 0.00000000e+00,\n",
       "       0.00000000e+00, 0.00000000e+00, 0.00000000e+00, 0.00000000e+00,\n",
       "       0.00000000e+00, 0.00000000e+00, 0.00000000e+00, 0.00000000e+00,\n",
       "       0.00000000e+00, 0.00000000e+00, 0.00000000e+00, 0.00000000e+00,\n",
       "       0.00000000e+00, 0.00000000e+00, 0.00000000e+00, 0.00000000e+00,\n",
       "       1.20974442e-06, 4.63457867e-04, 2.75034097e-04, 2.16127471e-04,\n",
       "       0.00000000e+00, 2.63512812e-03, 5.74066545e-04, 0.00000000e+00,\n",
       "       1.98399841e-03, 1.75771661e-03, 0.00000000e+00, 6.13545457e-05,\n",
       "       2.86439293e-03, 0.00000000e+00, 0.00000000e+00, 0.00000000e+00,\n",
       "       0.00000000e+00, 0.00000000e+00, 0.00000000e+00])"
      ]
     },
     "execution_count": 22,
     "metadata": {},
     "output_type": "execute_result"
    }
   ],
   "source": [
    "rf.feature_importances_"
   ]
  },
  {
   "cell_type": "code",
   "execution_count": 23,
   "id": "1bb41d41",
   "metadata": {
    "scrolled": false
   },
   "outputs": [
    {
     "data": {
      "image/png": "[encoded data removed]",
      "text/plain": [
       "<Figure size 1440x288 with 1 Axes>"
      ]
     },
     "metadata": {
      "needs_background": "light"
     },
     "output_type": "display_data"
    }
   ],
   "source": [
    "fig, ax = plt.subplots(figsize=(20,4))\n",
    "ax.bar(range(0, X_trainB.shape[1]), rf.feature_importances_)\n",
    "ax.set_title(\"Feature Importances\")\n",
    "ax.set_xticks(range(X_trainB.shape[1]))\n",
    "ax.set_xticklabels(X_trainB.columns, rotation=90)\n",
    "ax.grid();"
   ]
  },
  {
   "cell_type": "code",
   "execution_count": 24,
   "id": "2c648f58",
   "metadata": {},
   "outputs": [
    {
     "data": {
      "text/plain": [
       "-0.20720388747271246"
      ]
     },
     "execution_count": 24,
     "metadata": {},
     "output_type": "execute_result"
    }
   ],
   "source": [
    "rf.score(X_testB, y_testB)"
   ]
  },
  {
   "cell_type": "code",
   "execution_count": 25,
   "id": "264ca1fe",
   "metadata": {},
   "outputs": [
    {
     "data": {
      "text/plain": [
       "Index(['longitude', 'tax_ratio', 'landtaxvaluedollarcnt', 'yearbuilt',\n",
       "       'latitude', 'lotsizesquarefeet', 'tax_prop',\n",
       "       'structuretaxvaluedollarcnt', 'int_transactiondate',\n",
       "       'period_mean_price', 'neighborhood_mean_price', 'taxamount',\n",
       "       'calculatedfinishedsquarefeet', 'taxvaluedollarcnt',\n",
       "       'rawcensustractandblock', 'regionidcity', 'finishedsquarefeet12',\n",
       "       'bedroomcnt', 'regionidzip', 'calculatedbathnbr', 'roomcnt',\n",
       "       'censustractandblock', 'assessmentyear', 'bathroomcnt',\n",
       "       'propertylandusetypeid_275.0', 'fullbathcnt',\n",
       "       'propertylandusetypeid_261.0', 'propertylandusetypeid_265.0',\n",
       "       'propertylandusetypeid_266.0', 'unitcnt', 'propertylandusetypeid_263.0',\n",
       "       'propertylandusetypeid_246.0', 'unitcnt_na_flag',\n",
       "       'propertylandusetypeid_247.0', 'propertylandusetypeid_248.0',\n",
       "       'propertylandusetypeid_269.0', 'propertylandusetypeid_31.0',\n",
       "       'buildingqualitytypeid', 'propertyzoningdesc_rare', 'fips_6037.0',\n",
       "       'fips_6059.0', 'propertyzoningdesc_LARS', 'propertyzoningdesc_LARD1.5',\n",
       "       'propertyzoningdesc_LAR3', 'propertyzoningdesc_LAR1',\n",
       "       'propertylandusetypeid_267.0', 'propertylandusetypeid_264.0',\n",
       "       'propertylandusetypeid_260.0', 'propertycountylandusecode_rare',\n",
       "       'propertycountylandusecode_34', 'propertycountylandusecode_122',\n",
       "       'propertycountylandusecode_010C', 'propertycountylandusecode_0101',\n",
       "       'propertycountylandusecode_0100', 'heatingorsystemtypeid_24.0',\n",
       "       'heatingorsystemtypeid_20.0', 'heatingorsystemtypeid_18.0',\n",
       "       'heatingorsystemtypeid_13.0', 'heatingorsystemtypeid_12.0',\n",
       "       'heatingorsystemtypeid_11.0', 'heatingorsystemtypeid_10.0',\n",
       "       'heatingorsystemtypeid_7.0', 'propertyzoningdesc_LBR1N',\n",
       "       'heatingorsystemtypeid_2.0', 'heatingorsystemtypeid_1.0', 'fips_6111.0',\n",
       "       'heatingorsystemtypeid_6.0'],\n",
       "      dtype='object')"
      ]
     },
     "execution_count": 25,
     "metadata": {},
     "output_type": "execute_result"
    }
   ],
   "source": [
    "best_features = np.argsort(rf.feature_importances_)[::-1]\n",
    "X_trainB.columns[best_features]"
   ]
  },
  {
   "cell_type": "code",
   "execution_count": 31,
   "id": "515d21bb",
   "metadata": {},
   "outputs": [
    {
     "name": "stdout",
     "output_type": "stream",
     "text": [
      "1\n",
      "2\n",
      "3\n",
      "4\n",
      "5\n",
      "6\n",
      "7\n",
      "8\n",
      "9\n",
      "10\n",
      "11\n",
      "12\n",
      "13\n",
      "14\n",
      "15\n",
      "16\n",
      "17\n",
      "18\n",
      "19\n",
      "20\n",
      "21\n",
      "22\n",
      "23\n",
      "24\n",
      "25\n",
      "26\n",
      "27\n",
      "28\n",
      "29\n",
      "30\n",
      "31\n",
      "32\n",
      "33\n",
      "34\n",
      "35\n",
      "36\n",
      "37\n",
      "38\n",
      "39\n",
      "40\n",
      "41\n",
      "42\n",
      "43\n",
      "44\n",
      "45\n",
      "46\n",
      "47\n",
      "48\n",
      "49\n",
      "50\n",
      "51\n",
      "52\n",
      "53\n",
      "54\n",
      "55\n",
      "56\n",
      "57\n",
      "58\n",
      "59\n",
      "60\n",
      "61\n",
      "62\n",
      "63\n",
      "64\n",
      "65\n",
      "66\n"
     ]
    }
   ],
   "source": [
    "rmse  = []\n",
    "score = []\n",
    "\n",
    "for f in range(1, len(best_features)+1):\n",
    "    print(f)\n",
    "    rf_small = RandomForestRegressor(n_estimators=N_ESTIMATORS)\n",
    "    cols = X_trainB.columns[best_features][:f]\n",
    "    scores = cross_val_score(rf_small, \n",
    "                             X_trainB.loc[:,cols], y_trainB.values.ravel(), \n",
    "                             cv=5, scoring='neg_mean_squared_error')\n",
    "    rmse  += [-scores.mean()]"
   ]
  },
  {
   "cell_type": "code",
   "execution_count": 33,
   "id": "a0ce2af3",
   "metadata": {},
   "outputs": [
    {
     "name": "stdout",
     "output_type": "stream",
     "text": [
      "Full score: 0.03047147346955189\n",
      "Best score: 0.029662536511429034\n"
     ]
    },
    {
     "data": {
      "image/png": "[encoded data removed]",
      "text/plain": [
       "<Figure size 648x288 with 1 Axes>"
      ]
     },
     "metadata": {
      "needs_background": "light"
     },
     "output_type": "display_data"
    }
   ],
   "source": [
    "print (\"Full score:\", rmse[-1])\n",
    "print (\"Best score:\", min(rmse))\n",
    "\n",
    "fig, ax = plt.subplots(figsize=(9,4))\n",
    "ax.plot(range(1,len(best_features)+1), rmse, 'o-', label=\"RMSE\")\n",
    "ax.set_title(\"RMSE on varying features\")\n",
    "ax.set_xlabel(\"Number of Best features used\")\n",
    "ax.grid();"
   ]
  },
  {
   "cell_type": "code",
   "execution_count": 36,
   "id": "f7d65d3a",
   "metadata": {},
   "outputs": [
    {
     "data": {
      "text/plain": [
       "16"
      ]
     },
     "execution_count": 36,
     "metadata": {},
     "output_type": "execute_result"
    }
   ],
   "source": [
    "arg = np.argmin(rmse)\n",
    "arg"
   ]
  },
  {
   "cell_type": "markdown",
   "id": "0938c571",
   "metadata": {},
   "source": [
    "Mantengo solo 16 feature."
   ]
  },
  {
   "cell_type": "code",
   "execution_count": 41,
   "id": "c79efd87",
   "metadata": {},
   "outputs": [
    {
     "data": {
      "text/plain": [
       "Index(['longitude', 'tax_ratio', 'landtaxvaluedollarcnt', 'yearbuilt',\n",
       "       'latitude', 'lotsizesquarefeet', 'tax_prop',\n",
       "       'structuretaxvaluedollarcnt', 'int_transactiondate',\n",
       "       'period_mean_price', 'neighborhood_mean_price', 'taxamount',\n",
       "       'calculatedfinishedsquarefeet', 'taxvaluedollarcnt',\n",
       "       'rawcensustractandblock', 'regionidcity'],\n",
       "      dtype='object')"
      ]
     },
     "execution_count": 41,
     "metadata": {},
     "output_type": "execute_result"
    }
   ],
   "source": [
    "feature_keep = best_features[:arg]\n",
    "cols_keep = X_trainB.columns[feature_keep]\n",
    "cols_keep"
   ]
  },
  {
   "cell_type": "code",
   "execution_count": 43,
   "id": "7319a14b",
   "metadata": {},
   "outputs": [],
   "source": [
    "X_trainB_selected = X_trainB.loc[:,cols_keep]"
   ]
  },
  {
   "cell_type": "code",
   "execution_count": 46,
   "id": "ecbd2455",
   "metadata": {},
   "outputs": [
    {
     "data": {
      "text/plain": [
       "(8184, 16)"
      ]
     },
     "execution_count": 46,
     "metadata": {},
     "output_type": "execute_result"
    }
   ],
   "source": [
    "X_trainB_selected.shape"
   ]
  },
  {
   "cell_type": "markdown",
   "id": "72e622a7",
   "metadata": {},
   "source": [
    "## Feature Selection ##"
   ]
  },
  {
   "cell_type": "code",
   "execution_count": 49,
   "id": "baf38303",
   "metadata": {},
   "outputs": [
    {
     "data": {
      "text/plain": [
       "RFE(estimator=RandomForestRegressor(n_estimators=10), n_features_to_select=5,\n",
       "    step=2)"
      ]
     },
     "execution_count": 49,
     "metadata": {},
     "output_type": "execute_result"
    }
   ],
   "source": [
    "from sklearn.feature_selection import RFE\n",
    "\n",
    "rf_small = RandomForestRegressor(n_estimators=N_ESTIMATORS)\n",
    "selector = RFE(rf_small, \n",
    "                 step=2, # features removed at each step\n",
    "                 n_features_to_select= 5 # selected features\n",
    "                )\n",
    "selector.fit(X_trainB, y_trainB.values.ravel())"
   ]
  },
  {
   "cell_type": "code",
   "execution_count": 50,
   "id": "d34c1b8f",
   "metadata": {},
   "outputs": [
    {
     "data": {
      "text/plain": [
       "5"
      ]
     },
     "execution_count": 50,
     "metadata": {},
     "output_type": "execute_result"
    }
   ],
   "source": [
    "# selected features\n",
    "selector.n_features_"
   ]
  },
  {
   "cell_type": "code",
   "execution_count": 51,
   "id": "ab8fb4b5",
   "metadata": {},
   "outputs": [
    {
     "data": {
      "text/plain": [
       "array([False, False, False, False, False, False, False, False,  True,\n",
       "        True, False, False, False, False, False, False, False,  True,\n",
       "       False, False, False, False, False, False, False,  True,  True,\n",
       "       False, False, False, False, False, False, False, False, False,\n",
       "       False, False, False, False, False, False, False, False, False,\n",
       "       False, False, False, False, False, False, False, False, False,\n",
       "       False, False, False, False, False, False, False, False, False,\n",
       "       False, False, False, False])"
      ]
     },
     "execution_count": 51,
     "metadata": {},
     "output_type": "execute_result"
    }
   ],
   "source": [
    "# Best selected features\n",
    "selector.support_"
   ]
  },
  {
   "cell_type": "code",
   "execution_count": 55,
   "id": "9200b3dd",
   "metadata": {},
   "outputs": [
    {
     "data": {
      "text/plain": [
       "array([26, 25,  8,  9, 17, 22,  7, 16, 15, 24, 20, 23, 19,  4,  5,  0, 12,\n",
       "       10, 21, 13,  1, 11,  3, 18, 53, 57, 60, 56, 49, 54,  6, 50, 51, 27,\n",
       "       14, 59, 48, 47, 52, 55, 46, 43, 45, 42, 58, 61,  2, 62, 38, 41, 63,\n",
       "       44, 64, 66, 40, 39, 28, 37, 29, 36, 65, 35, 32, 34, 30, 31, 33],\n",
       "      dtype=int64)"
      ]
     },
     "execution_count": 55,
     "metadata": {},
     "output_type": "execute_result"
    }
   ],
   "source": [
    "# Features ranking\n",
    "rank = np.argsort(selector.ranking_)\n",
    "rank"
   ]
  },
  {
   "cell_type": "code",
   "execution_count": 57,
   "id": "c382b43c",
   "metadata": {},
   "outputs": [
    {
     "data": {
      "text/plain": [
       "Index(['longitude', 'lotsizesquarefeet', 'taxvaluedollarcnt', 'tax_ratio',\n",
       "       'tax_prop'],\n",
       "      dtype='object')"
      ]
     },
     "execution_count": 57,
     "metadata": {},
     "output_type": "execute_result"
    }
   ],
   "source": [
    "X_trainB.columns[selector.support_]"
   ]
  },
  {
   "cell_type": "markdown",
   "id": "8477f810",
   "metadata": {},
   "source": [
    "### Use cross-validation to select the best subset of features\n",
    "\n",
    "Differently from before, it performs RFE in a cross-validation loop  to find the best number of features.\n",
    "\n",
    "See:\n",
    " - https://scikit-learn.org/stable/modules/generated/sklearn.feature_selection.RFECV.html#sklearn.feature_selection.RFECV"
   ]
  },
  {
   "cell_type": "code",
   "execution_count": 59,
   "id": "b9d1175e",
   "metadata": {},
   "outputs": [
    {
     "data": {
      "text/plain": [
       "RFECV(cv=5, estimator=RandomForestRegressor(n_estimators=10),\n",
       "      scoring='neg_mean_squared_error')"
      ]
     },
     "execution_count": 59,
     "metadata": {},
     "output_type": "execute_result"
    }
   ],
   "source": [
    "from sklearn.feature_selection import RFECV\n",
    "\n",
    "rf_small = RandomForestRegressor(n_estimators=N_ESTIMATORS)\n",
    "selector = RFECV(rf_small, \n",
    "                 step=1, # features removed at each step\n",
    "                 cv=5,   # cross validation folds\n",
    "                 scoring='neg_mean_squared_error', # https://scikit-learn.org/stable/modules/model_evaluation.html#scoring-parameter\n",
    "                 min_features_to_select=1 # selected features\n",
    "                )\n",
    "selector.fit(X_trainB, y_trainB.values.ravel())"
   ]
  },
  {
   "cell_type": "code",
   "execution_count": 60,
   "id": "b9a7e159",
   "metadata": {},
   "outputs": [
    {
     "data": {
      "text/plain": [
       "15"
      ]
     },
     "execution_count": 60,
     "metadata": {},
     "output_type": "execute_result"
    }
   ],
   "source": [
    "# selected features\n",
    "selector.n_features_"
   ]
  },
  {
   "cell_type": "code",
   "execution_count": 61,
   "id": "561dc5db",
   "metadata": {},
   "outputs": [
    {
     "data": {
      "text/plain": [
       "array([False, False, False, False,  True,  True, False,  True,  True,\n",
       "        True, False, False, False, False, False,  True,  True,  True,\n",
       "       False,  True,  True, False,  True,  True,  True,  True,  True,\n",
       "       False, False, False, False, False, False, False, False, False,\n",
       "       False, False, False, False, False, False, False, False, False,\n",
       "       False, False, False, False, False, False, False, False, False,\n",
       "       False, False, False, False, False, False, False, False, False,\n",
       "       False, False, False, False])"
      ]
     },
     "execution_count": 61,
     "metadata": {},
     "output_type": "execute_result"
    }
   ],
   "source": [
    "# Best selected features\n",
    "selector.support_"
   ]
  },
  {
   "cell_type": "code",
   "execution_count": 58,
   "id": "b7cdb000",
   "metadata": {},
   "outputs": [
    {
     "data": {
      "text/plain": [
       "array([ 0,  2,  3,  4,  5,  6,  7,  8,  9, 10, 11, 12,  1])"
      ]
     },
     "execution_count": 58,
     "metadata": {},
     "output_type": "execute_result"
    }
   ],
   "source": [
    "# Features ranking\n",
    "np.argsort(selector.ranking_)"
   ]
  },
  {
   "cell_type": "code",
   "execution_count": null,
   "id": "e38b858a",
   "metadata": {},
   "outputs": [],
   "source": []
  }
 ],
 "metadata": {
  "kernelspec": {
   "display_name": "Python 3",
   "language": "python",
   "name": "python3"
  },
  "language_info": {
   "codemirror_mode": {
    "name": "ipython",
    "version": 3
   },
   "file_extension": ".py",
   "mimetype": "text/x-python",
   "name": "python",
   "nbconvert_exporter": "python",
   "pygments_lexer": "ipython3",
   "version": "3.8.8"
  }
 },
 "nbformat": 4,
 "nbformat_minor": 5
}

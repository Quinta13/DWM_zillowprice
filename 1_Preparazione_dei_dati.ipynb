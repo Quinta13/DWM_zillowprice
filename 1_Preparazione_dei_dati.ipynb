{
 "cells": [
  {
   "cell_type": "code",
   "execution_count": 1,
   "id": "0baeb061",
   "metadata": {},
   "outputs": [],
   "source": [
    "# Libraries\n",
    "import math \n",
    "import re\n",
    "import warnings\n",
    "import pandas as pd\n",
    "import numpy  as np\n",
    "\n",
    "from sklearn.preprocessing   import OneHotEncoder\n",
    "from sklearn.model_selection import train_test_split\n",
    "\n",
    "from datetime import datetime as dt\n",
    "\n",
    "warnings.filterwarnings('ignore')"
   ]
  },
  {
   "cell_type": "markdown",
   "id": "1a27d8b5",
   "metadata": {},
   "source": [
    "Lettura dei dataset forniti da Kaggle"
   ]
  },
  {
   "cell_type": "code",
   "execution_count": 2,
   "id": "db624492",
   "metadata": {},
   "outputs": [],
   "source": [
    "# local file paths\n",
    "dir_name = 'datasets'\n",
    "\n",
    "fp_properties2016 = dir_name + \"/properties_2016.csv\"\n",
    "fp_properties2017 = dir_name + \"/properties_2017.csv\"\n",
    "fp_train2016      = dir_name +   \"/train_2016_v2.csv\"\n",
    "fp_train2017      = dir_name +      \"/train_2017.csv\""
   ]
  },
  {
   "cell_type": "code",
   "execution_count": 3,
   "id": "1d5861da",
   "metadata": {},
   "outputs": [],
   "source": [
    "# Lettura dei dataframe\n",
    "df_properties2016 = pd.read_csv(fp_properties2016, low_memory=False)\n",
    "df_train2016      = pd.read_csv(fp_train2016,      low_memory=False)\n",
    "df_properties2017 = pd.read_csv(fp_properties2017, low_memory=False)\n",
    "df_train2017      = pd.read_csv(fp_train2017,      low_memory=False)"
   ]
  },
  {
   "cell_type": "code",
   "execution_count": 4,
   "id": "540676f6",
   "metadata": {},
   "outputs": [
    {
     "name": "stdout",
     "output_type": "stream",
     "text": [
      "Properites 2016 (2985217, 58)\n",
      "     Train 2016 (90275, 3)\n",
      "Properites 2017 (2985217, 58)\n",
      "     Train 2017 (77613, 3)\n"
     ]
    }
   ],
   "source": [
    "# Dimensionalità\n",
    "print(f'Properites 2016 {df_properties2016.shape}')\n",
    "print(f'     Train 2016 {     df_train2016.shape}')\n",
    "print(f'Properites 2017 {df_properties2017.shape}')\n",
    "print(f'     Train 2017 {     df_train2017.shape}')"
   ]
  },
  {
   "cell_type": "markdown",
   "id": "f848037d",
   "metadata": {},
   "source": [
    "Non dispongono del log-error di ogni casa, ma solo di quelle che sono state vendute. <br>\n",
    "Seleziono solo l'insieme di case di cui ho a disposizione il log-error."
   ]
  },
  {
   "cell_type": "markdown",
   "id": "15af3975",
   "metadata": {},
   "source": [
    "Unione in un unico dataset: matengo le sole case di cui conosco il __log-error__ <br>\n",
    "Se una casa ha più log-error, la colonna è copiata e abbinata a ciascuna data di vendita"
   ]
  },
  {
   "cell_type": "code",
   "execution_count": 5,
   "id": "bfef35f5",
   "metadata": {},
   "outputs": [],
   "source": [
    "# Right-join\n",
    "df_2016 = pd.merge(df_properties2016, df_train2016, how='right', left_on=['parcelid'], right_on=['parcelid'])\n",
    "df_2017 = pd.merge(df_properties2017, df_train2017, how='right', left_on=['parcelid'], right_on=['parcelid'])"
   ]
  },
  {
   "cell_type": "code",
   "execution_count": 6,
   "id": "5d11a780",
   "metadata": {},
   "outputs": [
    {
     "name": "stdout",
     "output_type": "stream",
     "text": [
      "Properites 2016 (90275, 60)\n",
      "Properites 2017 (77613, 60)\n"
     ]
    }
   ],
   "source": [
    "# Dimensionalità\n",
    "print(f'Properites 2016 {df_2016.shape}')\n",
    "print(f'Properites 2017 {df_2017.shape}')"
   ]
  },
  {
   "cell_type": "markdown",
   "id": "1eef373a",
   "metadata": {},
   "source": [
    "Unisco in un unico dataset i dati del 2016 e del 2017"
   ]
  },
  {
   "cell_type": "code",
   "execution_count": 7,
   "id": "064c3c69",
   "metadata": {},
   "outputs": [],
   "source": [
    "# Concat\n",
    "dfAll = pd.concat([df_2016, df_2017], ignore_index=True)"
   ]
  },
  {
   "cell_type": "code",
   "execution_count": 8,
   "id": "2fa93b66",
   "metadata": {},
   "outputs": [],
   "source": [
    "del(df_2016, df_2017)"
   ]
  },
  {
   "cell_type": "code",
   "execution_count": 9,
   "id": "e1daf81d",
   "metadata": {},
   "outputs": [
    {
     "name": "stdout",
     "output_type": "stream",
     "text": [
      "<class 'pandas.core.frame.DataFrame'>\n",
      "RangeIndex: 167888 entries, 0 to 167887\n",
      "Data columns (total 60 columns):\n",
      " #   Column                        Non-Null Count   Dtype  \n",
      "---  ------                        --------------   -----  \n",
      " 0   parcelid                      167888 non-null  int64  \n",
      " 1   airconditioningtypeid         53788 non-null   float64\n",
      " 2   architecturalstyletypeid      468 non-null     float64\n",
      " 3   basementsqft                  93 non-null      float64\n",
      " 4   bathroomcnt                   167854 non-null  float64\n",
      " 5   bedroomcnt                    167854 non-null  float64\n",
      " 6   buildingclasstypeid           31 non-null      float64\n",
      " 7   buildingqualitytypeid         107173 non-null  float64\n",
      " 8   calculatedbathnbr             166056 non-null  float64\n",
      " 9   decktypeid                    1272 non-null    float64\n",
      " 10  finishedfloor1squarefeet      12893 non-null   float64\n",
      " 11  calculatedfinishedsquarefeet  166992 non-null  float64\n",
      " 12  finishedsquarefeet12          159519 non-null  float64\n",
      " 13  finishedsquarefeet13          75 non-null      float64\n",
      " 14  finishedsquarefeet15          6591 non-null    float64\n",
      " 15  finishedsquarefeet50          12893 non-null   float64\n",
      " 16  finishedsquarefeet6           807 non-null     float64\n",
      " 17  fips                          167854 non-null  float64\n",
      " 18  fireplacecnt                  17896 non-null   float64\n",
      " 19  fullbathcnt                   166056 non-null  float64\n",
      " 20  garagecarcnt                  55457 non-null   float64\n",
      " 21  garagetotalsqft               55457 non-null   float64\n",
      " 22  hashottuborspa                3904 non-null    object \n",
      " 23  heatingorsystemtypeid         105651 non-null  float64\n",
      " 24  latitude                      167854 non-null  float64\n",
      " 25  longitude                     167854 non-null  float64\n",
      " 26  lotsizesquarefeet             149446 non-null  float64\n",
      " 27  poolcnt                       34075 non-null   float64\n",
      " 28  poolsizesum                   1838 non-null    float64\n",
      " 29  pooltypeid10                  1626 non-null    float64\n",
      " 30  pooltypeid2                   2278 non-null    float64\n",
      " 31  pooltypeid7                   31776 non-null   float64\n",
      " 32  propertycountylandusecode     167853 non-null  object \n",
      " 33  propertylandusetypeid         167854 non-null  float64\n",
      " 34  propertyzoningdesc            108789 non-null  object \n",
      " 35  rawcensustractandblock        167854 non-null  float64\n",
      " 36  regionidcity                  164579 non-null  float64\n",
      " 37  regionidcounty                167854 non-null  float64\n",
      " 38  regionidneighborhood          66986 non-null   float64\n",
      " 39  regionidzip                   167769 non-null  float64\n",
      " 40  roomcnt                       167854 non-null  float64\n",
      " 41  storytypeid                   93 non-null      float64\n",
      " 42  threequarterbathnbr           22115 non-null   float64\n",
      " 43  typeconstructiontypeid        522 non-null     float64\n",
      " 44  unitcnt                       109056 non-null  float64\n",
      " 45  yardbuildingsqft17            5039 non-null    float64\n",
      " 46  yardbuildingsqft26            165 non-null     float64\n",
      " 47  yearbuilt                     166828 non-null  float64\n",
      " 48  numberofstories               38169 non-null   float64\n",
      " 49  fireplaceflag                 394 non-null     object \n",
      " 50  structuretaxvaluedollarcnt    167359 non-null  float64\n",
      " 51  taxvaluedollarcnt             167852 non-null  float64\n",
      " 52  assessmentyear                167854 non-null  float64\n",
      " 53  landtaxvaluedollarcnt         167851 non-null  float64\n",
      " 54  taxamount                     167843 non-null  float64\n",
      " 55  taxdelinquencyflag            4683 non-null    object \n",
      " 56  taxdelinquencyyear            4683 non-null    float64\n",
      " 57  censustractandblock           167002 non-null  float64\n",
      " 58  logerror                      167888 non-null  float64\n",
      " 59  transactiondate               167888 non-null  object \n",
      "dtypes: float64(53), int64(1), object(6)\n",
      "memory usage: 76.9+ MB\n"
     ]
    }
   ],
   "source": [
    "dfAll.info()"
   ]
  },
  {
   "cell_type": "markdown",
   "id": "9fb0bd31",
   "metadata": {},
   "source": [
    "Prima di processare i dati, __casto__ tutti i tipi di dato numerici __da 64 bit__ (tipo di default) __a 32 due bit__ con il doppio scopo di risparmiare la memoria usata e effettuare calcoli più efficienti"
   ]
  },
  {
   "cell_type": "code",
   "execution_count": 10,
   "id": "d9d3e3c4",
   "metadata": {},
   "outputs": [],
   "source": [
    "# Allegerisco i dati\n",
    "def int_float_to32(df):\n",
    "    for c, dtype in zip(df.columns, df.dtypes):\n",
    "        if dtype == np.float64:        \n",
    "            df[c] = df[c].astype(np.float32)\n",
    "        if dtype == np.int64:\n",
    "            df[c] = df[c].astype(np.int32)\n",
    "    return df"
   ]
  },
  {
   "cell_type": "code",
   "execution_count": 11,
   "id": "70556d94",
   "metadata": {},
   "outputs": [],
   "source": [
    "dfAll = int_float_to32(dfAll)"
   ]
  },
  {
   "cell_type": "code",
   "execution_count": 12,
   "id": "1eb02591",
   "metadata": {},
   "outputs": [
    {
     "name": "stdout",
     "output_type": "stream",
     "text": [
      "<class 'pandas.core.frame.DataFrame'>\n",
      "RangeIndex: 167888 entries, 0 to 167887\n",
      "Data columns (total 60 columns):\n",
      " #   Column                        Non-Null Count   Dtype  \n",
      "---  ------                        --------------   -----  \n",
      " 0   parcelid                      167888 non-null  int32  \n",
      " 1   airconditioningtypeid         53788 non-null   float32\n",
      " 2   architecturalstyletypeid      468 non-null     float32\n",
      " 3   basementsqft                  93 non-null      float32\n",
      " 4   bathroomcnt                   167854 non-null  float32\n",
      " 5   bedroomcnt                    167854 non-null  float32\n",
      " 6   buildingclasstypeid           31 non-null      float32\n",
      " 7   buildingqualitytypeid         107173 non-null  float32\n",
      " 8   calculatedbathnbr             166056 non-null  float32\n",
      " 9   decktypeid                    1272 non-null    float32\n",
      " 10  finishedfloor1squarefeet      12893 non-null   float32\n",
      " 11  calculatedfinishedsquarefeet  166992 non-null  float32\n",
      " 12  finishedsquarefeet12          159519 non-null  float32\n",
      " 13  finishedsquarefeet13          75 non-null      float32\n",
      " 14  finishedsquarefeet15          6591 non-null    float32\n",
      " 15  finishedsquarefeet50          12893 non-null   float32\n",
      " 16  finishedsquarefeet6           807 non-null     float32\n",
      " 17  fips                          167854 non-null  float32\n",
      " 18  fireplacecnt                  17896 non-null   float32\n",
      " 19  fullbathcnt                   166056 non-null  float32\n",
      " 20  garagecarcnt                  55457 non-null   float32\n",
      " 21  garagetotalsqft               55457 non-null   float32\n",
      " 22  hashottuborspa                3904 non-null    object \n",
      " 23  heatingorsystemtypeid         105651 non-null  float32\n",
      " 24  latitude                      167854 non-null  float32\n",
      " 25  longitude                     167854 non-null  float32\n",
      " 26  lotsizesquarefeet             149446 non-null  float32\n",
      " 27  poolcnt                       34075 non-null   float32\n",
      " 28  poolsizesum                   1838 non-null    float32\n",
      " 29  pooltypeid10                  1626 non-null    float32\n",
      " 30  pooltypeid2                   2278 non-null    float32\n",
      " 31  pooltypeid7                   31776 non-null   float32\n",
      " 32  propertycountylandusecode     167853 non-null  object \n",
      " 33  propertylandusetypeid         167854 non-null  float32\n",
      " 34  propertyzoningdesc            108789 non-null  object \n",
      " 35  rawcensustractandblock        167854 non-null  float32\n",
      " 36  regionidcity                  164579 non-null  float32\n",
      " 37  regionidcounty                167854 non-null  float32\n",
      " 38  regionidneighborhood          66986 non-null   float32\n",
      " 39  regionidzip                   167769 non-null  float32\n",
      " 40  roomcnt                       167854 non-null  float32\n",
      " 41  storytypeid                   93 non-null      float32\n",
      " 42  threequarterbathnbr           22115 non-null   float32\n",
      " 43  typeconstructiontypeid        522 non-null     float32\n",
      " 44  unitcnt                       109056 non-null  float32\n",
      " 45  yardbuildingsqft17            5039 non-null    float32\n",
      " 46  yardbuildingsqft26            165 non-null     float32\n",
      " 47  yearbuilt                     166828 non-null  float32\n",
      " 48  numberofstories               38169 non-null   float32\n",
      " 49  fireplaceflag                 394 non-null     object \n",
      " 50  structuretaxvaluedollarcnt    167359 non-null  float32\n",
      " 51  taxvaluedollarcnt             167852 non-null  float32\n",
      " 52  assessmentyear                167854 non-null  float32\n",
      " 53  landtaxvaluedollarcnt         167851 non-null  float32\n",
      " 54  taxamount                     167843 non-null  float32\n",
      " 55  taxdelinquencyflag            4683 non-null    object \n",
      " 56  taxdelinquencyyear            4683 non-null    float32\n",
      " 57  censustractandblock           167002 non-null  float32\n",
      " 58  logerror                      167888 non-null  float32\n",
      " 59  transactiondate               167888 non-null  object \n",
      "dtypes: float32(53), int32(1), object(6)\n",
      "memory usage: 42.3+ MB\n"
     ]
    }
   ],
   "source": [
    "dfAll.info()"
   ]
  },
  {
   "cell_type": "code",
   "execution_count": 13,
   "id": "94669297",
   "metadata": {},
   "outputs": [
    {
     "data": {
      "text/plain": [
       "(167888, 60)"
      ]
     },
     "execution_count": 13,
     "metadata": {},
     "output_type": "execute_result"
    }
   ],
   "source": [
    "dfAll.shape"
   ]
  },
  {
   "cell_type": "markdown",
   "id": "a8737213",
   "metadata": {},
   "source": [
    "Guardo quante volte occorrono i parcelid, ossia quante volte una casa è stata venduta tra 2016 e 2017"
   ]
  },
  {
   "cell_type": "code",
   "execution_count": 14,
   "id": "f18edb0c",
   "metadata": {},
   "outputs": [
    {
     "data": {
      "text/plain": [
       "10857130    3\n",
       "11991059    3\n",
       "11842707    3\n",
       "14010551    3\n",
       "12478591    3\n",
       "14672826    3\n",
       "17164212    3\n",
       "17237150    3\n",
       "12612211    3\n",
       "11186156    2\n",
       "11991474    2\n",
       "12273962    2\n",
       "11061551    2\n",
       "14659784    2\n",
       "12467034    2\n",
       "11266654    2\n",
       "14008322    2\n",
       "12752161    2\n",
       "11887100    2\n",
       "12239653    2\n",
       "Name: parcelid, dtype: int64"
      ]
     },
     "execution_count": 14,
     "metadata": {},
     "output_type": "execute_result"
    }
   ],
   "source": [
    "dfAll.loc[:,'parcelid'].value_counts().head(20)"
   ]
  },
  {
   "cell_type": "markdown",
   "id": "a9d97c1d",
   "metadata": {},
   "source": [
    "Una casa è stata venduta al massimo tre volte.\n",
    "Estraggo le case vendute tre volte tra 2016 e 2017"
   ]
  },
  {
   "cell_type": "code",
   "execution_count": 15,
   "id": "7ace5fde",
   "metadata": {
    "scrolled": true
   },
   "outputs": [
    {
     "data": {
      "text/plain": [
       "[10857130,\n",
       " 11991059,\n",
       " 11842707,\n",
       " 14010551,\n",
       " 12478591,\n",
       " 14672826,\n",
       " 17164212,\n",
       " 17237150,\n",
       " 12612211]"
      ]
     },
     "execution_count": 15,
     "metadata": {},
     "output_type": "execute_result"
    }
   ],
   "source": [
    "houses = list(dfAll.loc[:,'parcelid'].value_counts()[dfAll.loc[:,'parcelid'].value_counts() == 3].to_dict().keys())\n",
    "houses"
   ]
  },
  {
   "cell_type": "markdown",
   "id": "e5560aec",
   "metadata": {},
   "source": [
    "Ispeziono logerror e data di vendita di queste case"
   ]
  },
  {
   "cell_type": "code",
   "execution_count": 16,
   "id": "d1fa5989",
   "metadata": {},
   "outputs": [
    {
     "data": {
      "text/html": [
       "<div>\n",
       "<style scoped>\n",
       "    .dataframe tbody tr th:only-of-type {\n",
       "        vertical-align: middle;\n",
       "    }\n",
       "\n",
       "    .dataframe tbody tr th {\n",
       "        vertical-align: top;\n",
       "    }\n",
       "\n",
       "    .dataframe thead th {\n",
       "        text-align: right;\n",
       "    }\n",
       "</style>\n",
       "<table border=\"1\" class=\"dataframe\">\n",
       "  <thead>\n",
       "    <tr style=\"text-align: right;\">\n",
       "      <th></th>\n",
       "      <th>parcelid</th>\n",
       "      <th>logerror</th>\n",
       "      <th>transactiondate</th>\n",
       "    </tr>\n",
       "  </thead>\n",
       "  <tbody>\n",
       "    <tr>\n",
       "      <th>135236</th>\n",
       "      <td>10857130</td>\n",
       "      <td>0.053244</td>\n",
       "      <td>2017-06-09</td>\n",
       "    </tr>\n",
       "    <tr>\n",
       "      <th>135237</th>\n",
       "      <td>10857130</td>\n",
       "      <td>0.053244</td>\n",
       "      <td>2017-06-30</td>\n",
       "    </tr>\n",
       "    <tr>\n",
       "      <th>135238</th>\n",
       "      <td>10857130</td>\n",
       "      <td>0.290908</td>\n",
       "      <td>2017-08-25</td>\n",
       "    </tr>\n",
       "    <tr>\n",
       "      <th>55794</th>\n",
       "      <td>11842707</td>\n",
       "      <td>-0.028400</td>\n",
       "      <td>2016-07-14</td>\n",
       "    </tr>\n",
       "    <tr>\n",
       "      <th>55795</th>\n",
       "      <td>11842707</td>\n",
       "      <td>0.057300</td>\n",
       "      <td>2016-08-22</td>\n",
       "    </tr>\n",
       "    <tr>\n",
       "      <th>55796</th>\n",
       "      <td>11842707</td>\n",
       "      <td>0.207800</td>\n",
       "      <td>2016-09-29</td>\n",
       "    </tr>\n",
       "    <tr>\n",
       "      <th>134115</th>\n",
       "      <td>11991059</td>\n",
       "      <td>2.619876</td>\n",
       "      <td>2017-06-06</td>\n",
       "    </tr>\n",
       "    <tr>\n",
       "      <th>134116</th>\n",
       "      <td>11991059</td>\n",
       "      <td>2.670239</td>\n",
       "      <td>2017-06-09</td>\n",
       "    </tr>\n",
       "    <tr>\n",
       "      <th>134117</th>\n",
       "      <td>11991059</td>\n",
       "      <td>2.508444</td>\n",
       "      <td>2017-06-13</td>\n",
       "    </tr>\n",
       "    <tr>\n",
       "      <th>48461</th>\n",
       "      <td>12478591</td>\n",
       "      <td>0.424000</td>\n",
       "      <td>2016-06-23</td>\n",
       "    </tr>\n",
       "    <tr>\n",
       "      <th>97365</th>\n",
       "      <td>12478591</td>\n",
       "      <td>0.012482</td>\n",
       "      <td>2017-02-01</td>\n",
       "    </tr>\n",
       "    <tr>\n",
       "      <th>97366</th>\n",
       "      <td>12478591</td>\n",
       "      <td>0.039378</td>\n",
       "      <td>2017-09-18</td>\n",
       "    </tr>\n",
       "    <tr>\n",
       "      <th>136926</th>\n",
       "      <td>12612211</td>\n",
       "      <td>-0.007561</td>\n",
       "      <td>2017-06-15</td>\n",
       "    </tr>\n",
       "    <tr>\n",
       "      <th>136927</th>\n",
       "      <td>12612211</td>\n",
       "      <td>0.074989</td>\n",
       "      <td>2017-08-31</td>\n",
       "    </tr>\n",
       "    <tr>\n",
       "      <th>136928</th>\n",
       "      <td>12612211</td>\n",
       "      <td>0.089218</td>\n",
       "      <td>2017-09-18</td>\n",
       "    </tr>\n",
       "    <tr>\n",
       "      <th>20217</th>\n",
       "      <td>14010551</td>\n",
       "      <td>1.021000</td>\n",
       "      <td>2016-03-29</td>\n",
       "    </tr>\n",
       "    <tr>\n",
       "      <th>114234</th>\n",
       "      <td>14010551</td>\n",
       "      <td>-0.005612</td>\n",
       "      <td>2017-04-06</td>\n",
       "    </tr>\n",
       "    <tr>\n",
       "      <th>114235</th>\n",
       "      <td>14010551</td>\n",
       "      <td>0.082468</td>\n",
       "      <td>2017-08-11</td>\n",
       "    </tr>\n",
       "    <tr>\n",
       "      <th>33582</th>\n",
       "      <td>14672826</td>\n",
       "      <td>-0.013100</td>\n",
       "      <td>2016-05-10</td>\n",
       "    </tr>\n",
       "    <tr>\n",
       "      <th>33583</th>\n",
       "      <td>14672826</td>\n",
       "      <td>0.007000</td>\n",
       "      <td>2016-09-29</td>\n",
       "    </tr>\n",
       "    <tr>\n",
       "      <th>155870</th>\n",
       "      <td>14672826</td>\n",
       "      <td>-0.000484</td>\n",
       "      <td>2017-08-11</td>\n",
       "    </tr>\n",
       "    <tr>\n",
       "      <th>15385</th>\n",
       "      <td>17164212</td>\n",
       "      <td>-0.080100</td>\n",
       "      <td>2016-03-10</td>\n",
       "    </tr>\n",
       "    <tr>\n",
       "      <th>15386</th>\n",
       "      <td>17164212</td>\n",
       "      <td>-0.018200</td>\n",
       "      <td>2016-08-12</td>\n",
       "    </tr>\n",
       "    <tr>\n",
       "      <th>165695</th>\n",
       "      <td>17164212</td>\n",
       "      <td>-0.003952</td>\n",
       "      <td>2017-09-11</td>\n",
       "    </tr>\n",
       "    <tr>\n",
       "      <th>10416</th>\n",
       "      <td>17237150</td>\n",
       "      <td>0.213500</td>\n",
       "      <td>2016-02-19</td>\n",
       "    </tr>\n",
       "    <tr>\n",
       "      <th>10417</th>\n",
       "      <td>17237150</td>\n",
       "      <td>0.288900</td>\n",
       "      <td>2016-07-11</td>\n",
       "    </tr>\n",
       "    <tr>\n",
       "      <th>104777</th>\n",
       "      <td>17237150</td>\n",
       "      <td>-0.053883</td>\n",
       "      <td>2017-03-03</td>\n",
       "    </tr>\n",
       "  </tbody>\n",
       "</table>\n",
       "</div>"
      ],
      "text/plain": [
       "        parcelid  logerror transactiondate\n",
       "135236  10857130  0.053244      2017-06-09\n",
       "135237  10857130  0.053244      2017-06-30\n",
       "135238  10857130  0.290908      2017-08-25\n",
       "55794   11842707 -0.028400      2016-07-14\n",
       "55795   11842707  0.057300      2016-08-22\n",
       "55796   11842707  0.207800      2016-09-29\n",
       "134115  11991059  2.619876      2017-06-06\n",
       "134116  11991059  2.670239      2017-06-09\n",
       "134117  11991059  2.508444      2017-06-13\n",
       "48461   12478591  0.424000      2016-06-23\n",
       "97365   12478591  0.012482      2017-02-01\n",
       "97366   12478591  0.039378      2017-09-18\n",
       "136926  12612211 -0.007561      2017-06-15\n",
       "136927  12612211  0.074989      2017-08-31\n",
       "136928  12612211  0.089218      2017-09-18\n",
       "20217   14010551  1.021000      2016-03-29\n",
       "114234  14010551 -0.005612      2017-04-06\n",
       "114235  14010551  0.082468      2017-08-11\n",
       "33582   14672826 -0.013100      2016-05-10\n",
       "33583   14672826  0.007000      2016-09-29\n",
       "155870  14672826 -0.000484      2017-08-11\n",
       "15385   17164212 -0.080100      2016-03-10\n",
       "15386   17164212 -0.018200      2016-08-12\n",
       "165695  17164212 -0.003952      2017-09-11\n",
       "10416   17237150  0.213500      2016-02-19\n",
       "10417   17237150  0.288900      2016-07-11\n",
       "104777  17237150 -0.053883      2017-03-03"
      ]
     },
     "execution_count": 16,
     "metadata": {},
     "output_type": "execute_result"
    }
   ],
   "source": [
    "dfAll[dfAll.loc[:,'parcelid'].isin(houses)]\\\n",
    "   .sort_values(by=['parcelid', 'transactiondate']).loc[:, ['parcelid', 'logerror', 'transactiondate']]"
   ]
  },
  {
   "cell_type": "markdown",
   "id": "e44cc598",
   "metadata": {},
   "source": [
    "Noto che il logerror della stessa casa varia di molto a seconda della data di vendita; nella preprazione dei dati sarà dunque importante prendere in considerazione anche il fattore temporale."
   ]
  },
  {
   "cell_type": "markdown",
   "id": "753a2891",
   "metadata": {},
   "source": [
    "# Train, Validation e Test #"
   ]
  },
  {
   "cell_type": "code",
   "execution_count": 17,
   "id": "55acf129",
   "metadata": {},
   "outputs": [],
   "source": [
    "# Given a dataframe and the column-target name,  returns due dataframes:\n",
    "#    - X with all colummns except for the target\n",
    "#    - y with the only target column\n",
    "def split_X_y(df, yname):\n",
    "    Xnames = list(dfAll.columns)\n",
    "    Xnames.remove('logerror')\n",
    "    X = df.loc[:,Xnames]\n",
    "    y = df.loc[:,yname]\n",
    "    return X, y"
   ]
  },
  {
   "cell_type": "markdown",
   "id": "333e774b",
   "metadata": {},
   "source": [
    "Splitto __X__ e __y__ mantendo in __X__ tutte le colonne ad eccezione del __logerror__, che sarà l'unica colonna di __y__"
   ]
  },
  {
   "cell_type": "code",
   "execution_count": 18,
   "id": "9cc47009",
   "metadata": {},
   "outputs": [],
   "source": [
    "df_X, df_y = split_X_y(dfAll, 'logerror')"
   ]
  },
  {
   "cell_type": "markdown",
   "id": "a92db5f2",
   "metadata": {},
   "source": [
    "Divisione in __Train__, __Validation__ e __Test__"
   ]
  },
  {
   "cell_type": "code",
   "execution_count": 19,
   "id": "678cdb22",
   "metadata": {},
   "outputs": [],
   "source": [
    "# Splits the given X and y dataset in three parts:\n",
    "#    - train      0.8\n",
    "#    - validation 0.2\n",
    "#    - test       0.2\n",
    "def train_validation_test(X, y):\n",
    "    X_train_80, X_test, y_train_80, y_test = train_test_split(X, y, \n",
    "                                                         test_size=0.20, random_state=42)\n",
    "    X_train, X_val, y_train, y_val  = train_test_split(X_train_80, y_train_80, \n",
    "                                                       test_size=0.25, random_state=42)\n",
    "    return X_train, y_train, X_val, y_val, X_test, y_test"
   ]
  },
  {
   "cell_type": "code",
   "execution_count": 20,
   "id": "36fa9a22",
   "metadata": {},
   "outputs": [],
   "source": [
    "X_train, y_train, X_val, y_val, X_test, y_test = train_validation_test(df_X, df_y)"
   ]
  },
  {
   "cell_type": "code",
   "execution_count": 21,
   "id": "7552a2b3",
   "metadata": {},
   "outputs": [],
   "source": [
    "del(dfAll)"
   ]
  },
  {
   "cell_type": "code",
   "execution_count": 22,
   "id": "773fc948",
   "metadata": {},
   "outputs": [],
   "source": [
    "# Prints shape of X_train, X_val and X_test\n",
    "# If y flag is on, also prints y'shapes\n",
    "def dimensionality(y=False):\n",
    "    print(f'X_train {  X_train.shape}')\n",
    "    print(f'X_val   {    X_val.shape}')\n",
    "    print(f'X_test  {   X_test.shape}')\n",
    "    if y:\n",
    "        print(f'y_train { y_train.shape}')\n",
    "        print(f'y_val   {   y_val.shape}')\n",
    "        print(f'y_test  {  y_test.shape}')"
   ]
  },
  {
   "cell_type": "code",
   "execution_count": 23,
   "id": "281d9841",
   "metadata": {},
   "outputs": [
    {
     "name": "stdout",
     "output_type": "stream",
     "text": [
      "X_train (100732, 59)\n",
      "X_val   (33578, 59)\n",
      "X_test  (33578, 59)\n",
      "y_train (100732,)\n",
      "y_val   (33578,)\n",
      "y_test  (33578,)\n"
     ]
    }
   ],
   "source": [
    "dimensionality(y=True)"
   ]
  },
  {
   "cell_type": "code",
   "execution_count": 24,
   "id": "a91c5ba7",
   "metadata": {},
   "outputs": [
    {
     "data": {
      "text/html": [
       "<div>\n",
       "<style scoped>\n",
       "    .dataframe tbody tr th:only-of-type {\n",
       "        vertical-align: middle;\n",
       "    }\n",
       "\n",
       "    .dataframe tbody tr th {\n",
       "        vertical-align: top;\n",
       "    }\n",
       "\n",
       "    .dataframe thead th {\n",
       "        text-align: right;\n",
       "    }\n",
       "</style>\n",
       "<table border=\"1\" class=\"dataframe\">\n",
       "  <thead>\n",
       "    <tr style=\"text-align: right;\">\n",
       "      <th></th>\n",
       "      <th>parcelid</th>\n",
       "      <th>transactiondate</th>\n",
       "    </tr>\n",
       "  </thead>\n",
       "  <tbody>\n",
       "    <tr>\n",
       "      <th>153597</th>\n",
       "      <td>14217523</td>\n",
       "      <td>2017-08-02</td>\n",
       "    </tr>\n",
       "    <tr>\n",
       "      <th>146235</th>\n",
       "      <td>11199964</td>\n",
       "      <td>2017-07-11</td>\n",
       "    </tr>\n",
       "    <tr>\n",
       "      <th>25650</th>\n",
       "      <td>12627031</td>\n",
       "      <td>2016-04-15</td>\n",
       "    </tr>\n",
       "    <tr>\n",
       "      <th>122564</th>\n",
       "      <td>13992985</td>\n",
       "      <td>2017-05-02</td>\n",
       "    </tr>\n",
       "    <tr>\n",
       "      <th>84846</th>\n",
       "      <td>12086693</td>\n",
       "      <td>2016-10-13</td>\n",
       "    </tr>\n",
       "  </tbody>\n",
       "</table>\n",
       "</div>"
      ],
      "text/plain": [
       "        parcelid transactiondate\n",
       "153597  14217523      2017-08-02\n",
       "146235  11199964      2017-07-11\n",
       "25650   12627031      2016-04-15\n",
       "122564  13992985      2017-05-02\n",
       "84846   12086693      2016-10-13"
      ]
     },
     "execution_count": 24,
     "metadata": {},
     "output_type": "execute_result"
    }
   ],
   "source": [
    "X_train.loc[: , ['parcelid', 'transactiondate']].head()"
   ]
  },
  {
   "cell_type": "code",
   "execution_count": 25,
   "id": "f7d2b525",
   "metadata": {},
   "outputs": [
    {
     "data": {
      "text/plain": [
       "153597    0.057681\n",
       "146235   -0.010815\n",
       "25650     0.020800\n",
       "122564    0.001967\n",
       "84846    -0.020200\n",
       "Name: logerror, dtype: float32"
      ]
     },
     "execution_count": 25,
     "metadata": {},
     "output_type": "execute_result"
    }
   ],
   "source": [
    "y_train.head()"
   ]
  },
  {
   "cell_type": "markdown",
   "id": "296b69b6",
   "metadata": {},
   "source": [
    "Ripristino il numero di riga"
   ]
  },
  {
   "cell_type": "code",
   "execution_count": 26,
   "id": "642da937",
   "metadata": {},
   "outputs": [],
   "source": [
    "# Given a dataframe set its rows in range from 0 to n in ascending order\n",
    "def arange_rows(df):\n",
    "    df.index = np.arange(len(df))\n",
    "    return df"
   ]
  },
  {
   "cell_type": "code",
   "execution_count": 27,
   "id": "cd738025",
   "metadata": {},
   "outputs": [],
   "source": [
    "for df in [X_train, X_val, X_test, y_train, y_val, y_test]:\n",
    "    df = arange_rows(df)"
   ]
  },
  {
   "cell_type": "code",
   "execution_count": 28,
   "id": "a9d3d355",
   "metadata": {},
   "outputs": [
    {
     "data": {
      "text/html": [
       "<div>\n",
       "<style scoped>\n",
       "    .dataframe tbody tr th:only-of-type {\n",
       "        vertical-align: middle;\n",
       "    }\n",
       "\n",
       "    .dataframe tbody tr th {\n",
       "        vertical-align: top;\n",
       "    }\n",
       "\n",
       "    .dataframe thead th {\n",
       "        text-align: right;\n",
       "    }\n",
       "</style>\n",
       "<table border=\"1\" class=\"dataframe\">\n",
       "  <thead>\n",
       "    <tr style=\"text-align: right;\">\n",
       "      <th></th>\n",
       "      <th>parcelid</th>\n",
       "      <th>transactiondate</th>\n",
       "    </tr>\n",
       "  </thead>\n",
       "  <tbody>\n",
       "    <tr>\n",
       "      <th>0</th>\n",
       "      <td>14217523</td>\n",
       "      <td>2017-08-02</td>\n",
       "    </tr>\n",
       "    <tr>\n",
       "      <th>1</th>\n",
       "      <td>11199964</td>\n",
       "      <td>2017-07-11</td>\n",
       "    </tr>\n",
       "    <tr>\n",
       "      <th>2</th>\n",
       "      <td>12627031</td>\n",
       "      <td>2016-04-15</td>\n",
       "    </tr>\n",
       "    <tr>\n",
       "      <th>3</th>\n",
       "      <td>13992985</td>\n",
       "      <td>2017-05-02</td>\n",
       "    </tr>\n",
       "    <tr>\n",
       "      <th>4</th>\n",
       "      <td>12086693</td>\n",
       "      <td>2016-10-13</td>\n",
       "    </tr>\n",
       "  </tbody>\n",
       "</table>\n",
       "</div>"
      ],
      "text/plain": [
       "   parcelid transactiondate\n",
       "0  14217523      2017-08-02\n",
       "1  11199964      2017-07-11\n",
       "2  12627031      2016-04-15\n",
       "3  13992985      2017-05-02\n",
       "4  12086693      2016-10-13"
      ]
     },
     "execution_count": 28,
     "metadata": {},
     "output_type": "execute_result"
    }
   ],
   "source": [
    "X_train.loc[: , ['parcelid', 'transactiondate']].head()"
   ]
  },
  {
   "cell_type": "code",
   "execution_count": 29,
   "id": "6a647690",
   "metadata": {},
   "outputs": [
    {
     "data": {
      "text/plain": [
       "0    0.057681\n",
       "1   -0.010815\n",
       "2    0.020800\n",
       "3    0.001967\n",
       "4   -0.020200\n",
       "Name: logerror, dtype: float32"
      ]
     },
     "execution_count": 29,
     "metadata": {},
     "output_type": "execute_result"
    }
   ],
   "source": [
    "y_train.head()"
   ]
  },
  {
   "cell_type": "markdown",
   "id": "dc435dee",
   "metadata": {},
   "source": [
    "# Preparazione dei dati #"
   ]
  },
  {
   "cell_type": "code",
   "execution_count": 30,
   "id": "a6120802",
   "metadata": {},
   "outputs": [
    {
     "data": {
      "text/plain": [
       "array([1286., 3101., 2061.,   nan], dtype=float32)"
      ]
     },
     "execution_count": 30,
     "metadata": {},
     "output_type": "execute_result"
    }
   ],
   "source": [
    "X_train.loc[:,'regionidcounty'].unique()"
   ]
  },
  {
   "cell_type": "code",
   "execution_count": 31,
   "id": "2350f7a4",
   "metadata": {},
   "outputs": [
    {
     "name": "stdout",
     "output_type": "stream",
     "text": [
      "<class 'pandas.core.frame.DataFrame'>\n",
      "Int64Index: 33578 entries, 0 to 33577\n",
      "Data columns (total 59 columns):\n",
      " #   Column                        Non-Null Count  Dtype  \n",
      "---  ------                        --------------  -----  \n",
      " 0   parcelid                      33578 non-null  int32  \n",
      " 1   airconditioningtypeid         10753 non-null  float32\n",
      " 2   architecturalstyletypeid      94 non-null     float32\n",
      " 3   basementsqft                  19 non-null     float32\n",
      " 4   bathroomcnt                   33572 non-null  float32\n",
      " 5   bedroomcnt                    33572 non-null  float32\n",
      " 6   buildingclasstypeid           5 non-null      float32\n",
      " 7   buildingqualitytypeid         21486 non-null  float32\n",
      " 8   calculatedbathnbr             33180 non-null  float32\n",
      " 9   decktypeid                    278 non-null    float32\n",
      " 10  finishedfloor1squarefeet      2551 non-null   float32\n",
      " 11  calculatedfinishedsquarefeet  33390 non-null  float32\n",
      " 12  finishedsquarefeet12          31874 non-null  float32\n",
      " 13  finishedsquarefeet13          17 non-null     float32\n",
      " 14  finishedsquarefeet15          1331 non-null   float32\n",
      " 15  finishedsquarefeet50          2551 non-null   float32\n",
      " 16  finishedsquarefeet6           168 non-null    float32\n",
      " 17  fips                          33572 non-null  float32\n",
      " 18  fireplacecnt                  3564 non-null   float32\n",
      " 19  fullbathcnt                   33180 non-null  float32\n",
      " 20  garagecarcnt                  11037 non-null  float32\n",
      " 21  garagetotalsqft               11037 non-null  float32\n",
      " 22  hashottuborspa                808 non-null    object \n",
      " 23  heatingorsystemtypeid         21185 non-null  float32\n",
      " 24  latitude                      33572 non-null  float32\n",
      " 25  longitude                     33572 non-null  float32\n",
      " 26  lotsizesquarefeet             29821 non-null  float32\n",
      " 27  poolcnt                       6793 non-null   float32\n",
      " 28  poolsizesum                   361 non-null    float32\n",
      " 29  pooltypeid10                  308 non-null    float32\n",
      " 30  pooltypeid2                   500 non-null    float32\n",
      " 31  pooltypeid7                   6289 non-null   float32\n",
      " 32  propertycountylandusecode     33571 non-null  object \n",
      " 33  propertylandusetypeid         33572 non-null  float32\n",
      " 34  propertyzoningdesc            21810 non-null  object \n",
      " 35  rawcensustractandblock        33572 non-null  float32\n",
      " 36  regionidcity                  32889 non-null  float32\n",
      " 37  regionidcounty                33572 non-null  float32\n",
      " 38  regionidneighborhood          13347 non-null  float32\n",
      " 39  regionidzip                   33553 non-null  float32\n",
      " 40  roomcnt                       33572 non-null  float32\n",
      " 41  storytypeid                   19 non-null     float32\n",
      " 42  threequarterbathnbr           4361 non-null   float32\n",
      " 43  typeconstructiontypeid        106 non-null    float32\n",
      " 44  unitcnt                       21869 non-null  float32\n",
      " 45  yardbuildingsqft17            999 non-null    float32\n",
      " 46  yardbuildingsqft26            31 non-null     float32\n",
      " 47  yearbuilt                     33346 non-null  float32\n",
      " 48  numberofstories               7597 non-null   float32\n",
      " 49  fireplaceflag                 71 non-null     object \n",
      " 50  structuretaxvaluedollarcnt    33471 non-null  float32\n",
      " 51  taxvaluedollarcnt             33571 non-null  float32\n",
      " 52  assessmentyear                33572 non-null  float32\n",
      " 53  landtaxvaluedollarcnt         33571 non-null  float32\n",
      " 54  taxamount                     33572 non-null  float32\n",
      " 55  taxdelinquencyflag            933 non-null    object \n",
      " 56  taxdelinquencyyear            933 non-null    float32\n",
      " 57  censustractandblock           33381 non-null  float32\n",
      " 58  transactiondate               33578 non-null  object \n",
      "dtypes: float32(52), int32(1), object(6)\n",
      "memory usage: 8.6+ MB\n"
     ]
    }
   ],
   "source": [
    "X_val.info()"
   ]
  },
  {
   "cell_type": "markdown",
   "id": "3d7b0145",
   "metadata": {},
   "source": [
    "## Rappresentazione non corretta dei Nan ##"
   ]
  },
  {
   "cell_type": "code",
   "execution_count": null,
   "id": "8fe83cf5",
   "metadata": {},
   "outputs": [],
   "source": []
  },
  {
   "cell_type": "markdown",
   "id": "740eb0bd",
   "metadata": {},
   "source": [
    "Alcune feature rappresentano la assenza di una caratteristica con un Nan, quando in realtà ai fini di algoritmi di Machine Learning sarebbe più opportuno rappresentarle con zero o con False"
   ]
  },
  {
   "cell_type": "markdown",
   "id": "e98d5048",
   "metadata": {},
   "source": [
    "- __fireplaceflag__ ha valori Nan e True, conversione in una variabile binaria\n",
    "- __fireplacecnt__ e __poolcnt__ hanno un valore numerico se l'elmento è presente, Nan se non è presente. Rappresentazione dell'assenza da Nan a 0."
   ]
  },
  {
   "cell_type": "code",
   "execution_count": 32,
   "id": "088ad4f2",
   "metadata": {},
   "outputs": [],
   "source": [
    "# Given a dataframe and a column name, column's values are set to zero if Nan, one otherwise\n",
    "def set_zero_one(df, col_names):\n",
    "    for col_name in col_names:\n",
    "        is_na = df.loc[:,col_name].isna()\n",
    "        df.loc[:,col_name][is_na]  = 0.\n",
    "        df.loc[:,col_name][~is_na] = 1.\n",
    "    return df"
   ]
  },
  {
   "cell_type": "code",
   "execution_count": 33,
   "id": "d5c453f0",
   "metadata": {},
   "outputs": [],
   "source": [
    "# Given a dataframe and a column name, valuse of that column are set to zero if Nan\n",
    "def nan_to_zero(df, col_names):\n",
    "    for col_name in col_names:\n",
    "        df.loc[:,col_name].fillna(0., inplace=True)\n",
    "    return df"
   ]
  },
  {
   "cell_type": "code",
   "execution_count": 34,
   "id": "3152d061",
   "metadata": {},
   "outputs": [],
   "source": [
    "for X in [X_train, X_val, X_test]:\n",
    "    X = set_zero_one(X, ['fireplaceflag'])\n",
    "    X = nan_to_zero(X, ['fireplacecnt', 'poolcnt'])"
   ]
  },
  {
   "cell_type": "markdown",
   "id": "8619391f",
   "metadata": {},
   "source": [
    "## Rimozione degli Outlier ##"
   ]
  },
  {
   "cell_type": "markdown",
   "id": "b9c6dee0",
   "metadata": {},
   "source": [
    "Rimuovo valori estremi di y"
   ]
  },
  {
   "cell_type": "code",
   "execution_count": 35,
   "id": "e727a1d1",
   "metadata": {},
   "outputs": [],
   "source": [
    "# Given X and y dataframe remove all rows which target value is under the first or over the last percentile\n",
    "def remove_outlier(X, y):\n",
    "    out1 = y < np.percentile(y, 99.5)\n",
    "    out2 = y > np.percentile(y, 00.5)\n",
    "    out  = list(map(lambda o1, o2: o1 and o2, out1, out2))\n",
    "    X = X[out]\n",
    "    y = y[out]\n",
    "    return X, y"
   ]
  },
  {
   "cell_type": "code",
   "execution_count": 36,
   "id": "ac2d10d4",
   "metadata": {
    "scrolled": true
   },
   "outputs": [
    {
     "name": "stdout",
     "output_type": "stream",
     "text": [
      "X_train (100732, 59)\n",
      "X_val   (33578, 59)\n",
      "X_test  (33578, 59)\n"
     ]
    }
   ],
   "source": [
    "dimensionality()"
   ]
  },
  {
   "cell_type": "code",
   "execution_count": 37,
   "id": "ea0fd3fa",
   "metadata": {},
   "outputs": [],
   "source": [
    "X_train, y_train = remove_outlier(X_train, y_train)"
   ]
  },
  {
   "cell_type": "code",
   "execution_count": 38,
   "id": "6094f0e5",
   "metadata": {},
   "outputs": [
    {
     "name": "stdout",
     "output_type": "stream",
     "text": [
      "X_train (99724, 59)\n",
      "X_val   (33578, 59)\n",
      "X_test  (33578, 59)\n",
      "y_train (99724,)\n",
      "y_val   (33578,)\n",
      "y_test  (33578,)\n"
     ]
    }
   ],
   "source": [
    "dimensionality(y=True)"
   ]
  },
  {
   "cell_type": "markdown",
   "id": "1ded229d",
   "metadata": {},
   "source": [
    "## Rimozione colonne con alta percentuale di Nan ##"
   ]
  },
  {
   "cell_type": "markdown",
   "id": "acb69e17",
   "metadata": {},
   "source": [
    "Rimuovo le colonne con un'alta percentuale di valori assenti, in quanto arricchiscono l'informazione del dataset in maniera molto limitata"
   ]
  },
  {
   "cell_type": "code",
   "execution_count": 39,
   "id": "0a75a76c",
   "metadata": {},
   "outputs": [],
   "source": [
    "# Given the dataframe and the name of a column returns the column\n",
    "def get_col(df, colName):\n",
    "    return df.loc[:, colName]\n",
    "\n",
    "# Given a column returns Nan-count and Nan-percentage\n",
    "def get_col_nan_info(col):\n",
    "    count = col.isna().sum()\n",
    "    tot = len(col)\n",
    "    perc = count/tot\n",
    "    return count, perc\n",
    "\n",
    "# Given the df and a cut-off returns a list of column names with Nan-percentage greater or equal to the cut-off\n",
    "def get_cols_over_nan_percentage(df, cutoff):\n",
    "    names = df.columns\n",
    "    overPercentage = []\n",
    "    for name in names:\n",
    "        col = get_col(df, name)\n",
    "        _ , perc = get_col_nan_info(col)\n",
    "        if perc > cutoff:\n",
    "            overPercentage.append(name)\n",
    "    return overPercentage"
   ]
  },
  {
   "cell_type": "code",
   "execution_count": 40,
   "id": "dea7633f",
   "metadata": {},
   "outputs": [
    {
     "name": "stdout",
     "output_type": "stream",
     "text": [
      "airconditioningtypeid : (67655, 0.6784224459508242)\n",
      "architecturalstyletypeid : (99455, 0.9973025550519433)\n",
      "basementsqft : (99676, 0.9995186715334323)\n",
      "buildingclasstypeid : (99708, 0.9998395571778108)\n",
      "decktypeid : (99016, 0.992900405118126)\n",
      "finishedfloor1squarefeet : (91940, 0.9219445670049337)\n",
      "finishedsquarefeet13 : (99676, 0.9995186715334323)\n",
      "finishedsquarefeet15 : (95882, 0.9614736673218082)\n",
      "finishedsquarefeet50 : (91940, 0.9219445670049337)\n",
      "finishedsquarefeet6 : (99264, 0.9953872688620593)\n",
      "garagecarcnt : (66611, 0.6679535518029762)\n",
      "garagetotalsqft : (66611, 0.6679535518029762)\n",
      "hashottuborspa : (97394, 0.9766355140186916)\n",
      "poolsizesum : (98619, 0.9889194175925554)\n",
      "pooltypeid10 : (98711, 0.9898419638201436)\n",
      "pooltypeid2 : (98407, 0.986793550198548)\n",
      "pooltypeid7 : (80817, 0.8104067225542497)\n",
      "regionidneighborhood : (59904, 0.6006979262765232)\n",
      "storytypeid : (99676, 0.9995186715334323)\n",
      "threequarterbathnbr : (86493, 0.8673238137258834)\n",
      "typeconstructiontypeid : (99417, 0.9969215033492439)\n",
      "yardbuildingsqft17 : (96665, 0.9693253379326943)\n",
      "yardbuildingsqft26 : (99626, 0.9990172877140909)\n",
      "numberofstories : (76959, 0.7717199470538687)\n",
      "taxdelinquencyflag : (96979, 0.9724740283181581)\n",
      "taxdelinquencyyear : (96979, 0.9724740283181581)\n",
      "Length: 26\n"
     ]
    }
   ],
   "source": [
    "col_to_delete = get_cols_over_nan_percentage(X_train, 0.6)\n",
    "\n",
    "for o in col_to_delete:\n",
    "    print(f'{o} : {get_col_nan_info(get_col(X_train, o))}')\n",
    "print(f'Length: {len(col_to_delete)}')"
   ]
  },
  {
   "cell_type": "code",
   "execution_count": 41,
   "id": "97cd26aa",
   "metadata": {},
   "outputs": [],
   "source": [
    "# Given a dataframe and a column name returns the dataframe within that column\n",
    "def remove_column(df, col_names):\n",
    "    df.drop(col_names, axis=1, inplace=True)\n",
    "    return df"
   ]
  },
  {
   "cell_type": "code",
   "execution_count": 42,
   "id": "01a92ab0",
   "metadata": {},
   "outputs": [
    {
     "data": {
      "text/plain": [
       "['airconditioningtypeid',\n",
       " 'architecturalstyletypeid',\n",
       " 'basementsqft',\n",
       " 'buildingclasstypeid',\n",
       " 'decktypeid',\n",
       " 'finishedfloor1squarefeet',\n",
       " 'finishedsquarefeet13',\n",
       " 'finishedsquarefeet15',\n",
       " 'finishedsquarefeet50',\n",
       " 'finishedsquarefeet6',\n",
       " 'garagecarcnt',\n",
       " 'garagetotalsqft',\n",
       " 'hashottuborspa',\n",
       " 'poolsizesum',\n",
       " 'pooltypeid10',\n",
       " 'pooltypeid2',\n",
       " 'pooltypeid7',\n",
       " 'regionidneighborhood',\n",
       " 'storytypeid',\n",
       " 'threequarterbathnbr',\n",
       " 'typeconstructiontypeid',\n",
       " 'yardbuildingsqft17',\n",
       " 'yardbuildingsqft26',\n",
       " 'numberofstories',\n",
       " 'taxdelinquencyflag',\n",
       " 'taxdelinquencyyear']"
      ]
     },
     "execution_count": 42,
     "metadata": {},
     "output_type": "execute_result"
    }
   ],
   "source": [
    "col_to_delete"
   ]
  },
  {
   "cell_type": "code",
   "execution_count": 43,
   "id": "28351b61",
   "metadata": {},
   "outputs": [],
   "source": [
    "for X in [X_train, X_val, X_test]:\n",
    "    X = remove_column(X, col_to_delete)"
   ]
  },
  {
   "cell_type": "code",
   "execution_count": 44,
   "id": "eca86b85",
   "metadata": {},
   "outputs": [
    {
     "name": "stdout",
     "output_type": "stream",
     "text": [
      "X_train (99724, 33)\n",
      "X_val   (33578, 33)\n",
      "X_test  (33578, 33)\n"
     ]
    }
   ],
   "source": [
    "dimensionality()"
   ]
  },
  {
   "cell_type": "markdown",
   "id": "4561463e",
   "metadata": {},
   "source": [
    "## Feature con stesso significato ##"
   ]
  },
  {
   "cell_type": "markdown",
   "id": "408e91c1",
   "metadata": {},
   "source": [
    "__fireplaceflag__ e __fireplacecnt__: la prima dice se esiste almeno un impianto, la seconda quanti ce ne sono. La seconda feature porta una informazione almeno uguale a quello della prima."
   ]
  },
  {
   "cell_type": "code",
   "execution_count": 45,
   "id": "458ecfe6",
   "metadata": {},
   "outputs": [
    {
     "data": {
      "text/html": [
       "<div>\n",
       "<style scoped>\n",
       "    .dataframe tbody tr th:only-of-type {\n",
       "        vertical-align: middle;\n",
       "    }\n",
       "\n",
       "    .dataframe tbody tr th {\n",
       "        vertical-align: top;\n",
       "    }\n",
       "\n",
       "    .dataframe thead th {\n",
       "        text-align: right;\n",
       "    }\n",
       "</style>\n",
       "<table border=\"1\" class=\"dataframe\">\n",
       "  <thead>\n",
       "    <tr style=\"text-align: right;\">\n",
       "      <th></th>\n",
       "      <th>fireplacecnt</th>\n",
       "      <th>fireplaceflag</th>\n",
       "    </tr>\n",
       "  </thead>\n",
       "  <tbody>\n",
       "    <tr>\n",
       "      <th>0</th>\n",
       "      <td>0.0</td>\n",
       "      <td>0.0</td>\n",
       "    </tr>\n",
       "    <tr>\n",
       "      <th>1</th>\n",
       "      <td>0.0</td>\n",
       "      <td>0.0</td>\n",
       "    </tr>\n",
       "    <tr>\n",
       "      <th>2</th>\n",
       "      <td>0.0</td>\n",
       "      <td>0.0</td>\n",
       "    </tr>\n",
       "    <tr>\n",
       "      <th>3</th>\n",
       "      <td>0.0</td>\n",
       "      <td>0.0</td>\n",
       "    </tr>\n",
       "    <tr>\n",
       "      <th>4</th>\n",
       "      <td>0.0</td>\n",
       "      <td>0.0</td>\n",
       "    </tr>\n",
       "    <tr>\n",
       "      <th>5</th>\n",
       "      <td>1.0</td>\n",
       "      <td>0.0</td>\n",
       "    </tr>\n",
       "    <tr>\n",
       "      <th>6</th>\n",
       "      <td>1.0</td>\n",
       "      <td>0.0</td>\n",
       "    </tr>\n",
       "    <tr>\n",
       "      <th>7</th>\n",
       "      <td>0.0</td>\n",
       "      <td>0.0</td>\n",
       "    </tr>\n",
       "    <tr>\n",
       "      <th>8</th>\n",
       "      <td>0.0</td>\n",
       "      <td>0.0</td>\n",
       "    </tr>\n",
       "    <tr>\n",
       "      <th>9</th>\n",
       "      <td>0.0</td>\n",
       "      <td>0.0</td>\n",
       "    </tr>\n",
       "    <tr>\n",
       "      <th>10</th>\n",
       "      <td>0.0</td>\n",
       "      <td>0.0</td>\n",
       "    </tr>\n",
       "    <tr>\n",
       "      <th>11</th>\n",
       "      <td>1.0</td>\n",
       "      <td>0.0</td>\n",
       "    </tr>\n",
       "    <tr>\n",
       "      <th>12</th>\n",
       "      <td>0.0</td>\n",
       "      <td>0.0</td>\n",
       "    </tr>\n",
       "    <tr>\n",
       "      <th>13</th>\n",
       "      <td>0.0</td>\n",
       "      <td>0.0</td>\n",
       "    </tr>\n",
       "    <tr>\n",
       "      <th>14</th>\n",
       "      <td>0.0</td>\n",
       "      <td>0.0</td>\n",
       "    </tr>\n",
       "    <tr>\n",
       "      <th>15</th>\n",
       "      <td>0.0</td>\n",
       "      <td>0.0</td>\n",
       "    </tr>\n",
       "    <tr>\n",
       "      <th>16</th>\n",
       "      <td>0.0</td>\n",
       "      <td>0.0</td>\n",
       "    </tr>\n",
       "    <tr>\n",
       "      <th>17</th>\n",
       "      <td>1.0</td>\n",
       "      <td>0.0</td>\n",
       "    </tr>\n",
       "    <tr>\n",
       "      <th>18</th>\n",
       "      <td>0.0</td>\n",
       "      <td>0.0</td>\n",
       "    </tr>\n",
       "    <tr>\n",
       "      <th>19</th>\n",
       "      <td>0.0</td>\n",
       "      <td>0.0</td>\n",
       "    </tr>\n",
       "  </tbody>\n",
       "</table>\n",
       "</div>"
      ],
      "text/plain": [
       "    fireplacecnt fireplaceflag\n",
       "0            0.0           0.0\n",
       "1            0.0           0.0\n",
       "2            0.0           0.0\n",
       "3            0.0           0.0\n",
       "4            0.0           0.0\n",
       "5            1.0           0.0\n",
       "6            1.0           0.0\n",
       "7            0.0           0.0\n",
       "8            0.0           0.0\n",
       "9            0.0           0.0\n",
       "10           0.0           0.0\n",
       "11           1.0           0.0\n",
       "12           0.0           0.0\n",
       "13           0.0           0.0\n",
       "14           0.0           0.0\n",
       "15           0.0           0.0\n",
       "16           0.0           0.0\n",
       "17           1.0           0.0\n",
       "18           0.0           0.0\n",
       "19           0.0           0.0"
      ]
     },
     "execution_count": 45,
     "metadata": {},
     "output_type": "execute_result"
    }
   ],
   "source": [
    "X_train.loc[:,['fireplacecnt', 'fireplaceflag']].head(20)"
   ]
  },
  {
   "cell_type": "markdown",
   "id": "6bfe349f",
   "metadata": {},
   "source": [
    "Non c'è coerenza tra le due feature"
   ]
  },
  {
   "cell_type": "code",
   "execution_count": 46,
   "id": "304db302",
   "metadata": {},
   "outputs": [
    {
     "data": {
      "text/plain": [
       "10773"
      ]
     },
     "execution_count": 46,
     "metadata": {},
     "output_type": "execute_result"
    }
   ],
   "source": [
    "sum((get_col(X_train,['fireplacecnt'])[X_train.loc[:,'fireplaceflag'] == 0] > 0).values.ravel())"
   ]
  },
  {
   "cell_type": "code",
   "execution_count": 47,
   "id": "7d798de8",
   "metadata": {},
   "outputs": [
    {
     "data": {
      "text/plain": [
       "229"
      ]
     },
     "execution_count": 47,
     "metadata": {},
     "output_type": "execute_result"
    }
   ],
   "source": [
    "sum((get_col(X_train,['fireplacecnt'])[X_train.loc[:,'fireplaceflag'] == 1] == 0).values.ravel())"
   ]
  },
  {
   "cell_type": "markdown",
   "id": "98761b82",
   "metadata": {},
   "source": [
    "In 10 mila osservazioni in cui il flag dice che non ci sono impianti, se ne conta almeno uno"
   ]
  },
  {
   "cell_type": "markdown",
   "id": "ee68801c",
   "metadata": {},
   "source": [
    "In 200 osservazioni in cui il flag dice che è presente un impianto non se ne contano\n",
    "E in egual misura in 200 case dove non si contano impianti il flag ne segnala la presenza"
   ]
  },
  {
   "cell_type": "markdown",
   "id": "5aafe022",
   "metadata": {},
   "source": [
    "Scelgo di mantenere l'informazione portata da __fireplacecnt__ perché più esaustiva"
   ]
  },
  {
   "cell_type": "code",
   "execution_count": 48,
   "id": "4bd42e60",
   "metadata": {},
   "outputs": [],
   "source": [
    "for X in [X_train, X_val, X_test]:\n",
    "    X = remove_column(X, ['fireplaceflag'])"
   ]
  },
  {
   "cell_type": "code",
   "execution_count": 49,
   "id": "86982d07",
   "metadata": {},
   "outputs": [
    {
     "name": "stdout",
     "output_type": "stream",
     "text": [
      "X_train (99724, 32)\n",
      "X_val   (33578, 32)\n",
      "X_test  (33578, 32)\n"
     ]
    }
   ],
   "source": [
    "dimensionality()"
   ]
  },
  {
   "cell_type": "markdown",
   "id": "a183d38a",
   "metadata": {},
   "source": [
    " <br><br>"
   ]
  },
  {
   "cell_type": "markdown",
   "id": "c9ae1dac",
   "metadata": {},
   "source": [
    "Conteggio dei bagni"
   ]
  },
  {
   "cell_type": "code",
   "execution_count": 50,
   "id": "f2912b86",
   "metadata": {},
   "outputs": [
    {
     "data": {
      "text/html": [
       "<div>\n",
       "<style scoped>\n",
       "    .dataframe tbody tr th:only-of-type {\n",
       "        vertical-align: middle;\n",
       "    }\n",
       "\n",
       "    .dataframe tbody tr th {\n",
       "        vertical-align: top;\n",
       "    }\n",
       "\n",
       "    .dataframe thead th {\n",
       "        text-align: right;\n",
       "    }\n",
       "</style>\n",
       "<table border=\"1\" class=\"dataframe\">\n",
       "  <thead>\n",
       "    <tr style=\"text-align: right;\">\n",
       "      <th></th>\n",
       "      <th>fullbathcnt</th>\n",
       "      <th>bathroomcnt</th>\n",
       "    </tr>\n",
       "  </thead>\n",
       "  <tbody>\n",
       "    <tr>\n",
       "      <th>0</th>\n",
       "      <td>2.0</td>\n",
       "      <td>2.5</td>\n",
       "    </tr>\n",
       "    <tr>\n",
       "      <th>1</th>\n",
       "      <td>3.0</td>\n",
       "      <td>3.0</td>\n",
       "    </tr>\n",
       "    <tr>\n",
       "      <th>2</th>\n",
       "      <td>2.0</td>\n",
       "      <td>2.0</td>\n",
       "    </tr>\n",
       "    <tr>\n",
       "      <th>3</th>\n",
       "      <td>2.0</td>\n",
       "      <td>2.0</td>\n",
       "    </tr>\n",
       "    <tr>\n",
       "      <th>4</th>\n",
       "      <td>1.0</td>\n",
       "      <td>1.0</td>\n",
       "    </tr>\n",
       "    <tr>\n",
       "      <th>...</th>\n",
       "      <td>...</td>\n",
       "      <td>...</td>\n",
       "    </tr>\n",
       "    <tr>\n",
       "      <th>100727</th>\n",
       "      <td>2.0</td>\n",
       "      <td>2.0</td>\n",
       "    </tr>\n",
       "    <tr>\n",
       "      <th>100728</th>\n",
       "      <td>2.0</td>\n",
       "      <td>2.0</td>\n",
       "    </tr>\n",
       "    <tr>\n",
       "      <th>100729</th>\n",
       "      <td>2.0</td>\n",
       "      <td>2.5</td>\n",
       "    </tr>\n",
       "    <tr>\n",
       "      <th>100730</th>\n",
       "      <td>2.0</td>\n",
       "      <td>2.5</td>\n",
       "    </tr>\n",
       "    <tr>\n",
       "      <th>100731</th>\n",
       "      <td>1.0</td>\n",
       "      <td>1.0</td>\n",
       "    </tr>\n",
       "  </tbody>\n",
       "</table>\n",
       "<p>99724 rows × 2 columns</p>\n",
       "</div>"
      ],
      "text/plain": [
       "        fullbathcnt  bathroomcnt\n",
       "0               2.0          2.5\n",
       "1               3.0          3.0\n",
       "2               2.0          2.0\n",
       "3               2.0          2.0\n",
       "4               1.0          1.0\n",
       "...             ...          ...\n",
       "100727          2.0          2.0\n",
       "100728          2.0          2.0\n",
       "100729          2.0          2.5\n",
       "100730          2.0          2.5\n",
       "100731          1.0          1.0\n",
       "\n",
       "[99724 rows x 2 columns]"
      ]
     },
     "execution_count": 50,
     "metadata": {},
     "output_type": "execute_result"
    }
   ],
   "source": [
    "X_train.loc[:,['fullbathcnt','bathroomcnt']]"
   ]
  },
  {
   "cell_type": "code",
   "execution_count": 51,
   "id": "7c66050a",
   "metadata": {},
   "outputs": [
    {
     "data": {
      "text/plain": [
       "11"
      ]
     },
     "execution_count": 51,
     "metadata": {},
     "output_type": "execute_result"
    }
   ],
   "source": [
    "sum((get_col(X_train, 'bathroomcnt') - get_col(X_train, 'fullbathcnt') > 1).values.ravel())"
   ]
  },
  {
   "cell_type": "markdown",
   "id": "02bacfb9",
   "metadata": {},
   "source": [
    "In solo una decina di istanze il dato non ha lo stessa parte intera"
   ]
  },
  {
   "cell_type": "code",
   "execution_count": 52,
   "id": "796d2f55",
   "metadata": {},
   "outputs": [
    {
     "data": {
      "text/plain": [
       "1"
      ]
     },
     "execution_count": 52,
     "metadata": {},
     "output_type": "execute_result"
    }
   ],
   "source": [
    "sum((get_col(X_train, 'bathroomcnt') - get_col(X_train, 'fullbathcnt') > 1.5).values.ravel())"
   ]
  },
  {
   "cell_type": "markdown",
   "id": "8b9e31ee",
   "metadata": {},
   "source": [
    "E in solo una è maggiore di 1.5"
   ]
  },
  {
   "cell_type": "markdown",
   "id": "e224c5dd",
   "metadata": {},
   "source": [
    "Scelgo di mantenere solo la colonna bathroomcnt poiché più dettagliata"
   ]
  },
  {
   "cell_type": "code",
   "execution_count": 53,
   "id": "87ce266a",
   "metadata": {},
   "outputs": [],
   "source": [
    "for X in [X_train, X_val, X_test]:\n",
    "    X = remove_column(X, 'fullbathcnt')"
   ]
  },
  {
   "cell_type": "code",
   "execution_count": 54,
   "id": "3c1b2fe5",
   "metadata": {},
   "outputs": [
    {
     "name": "stdout",
     "output_type": "stream",
     "text": [
      "X_train (99724, 31)\n",
      "X_val   (33578, 31)\n",
      "X_test  (33578, 31)\n"
     ]
    }
   ],
   "source": [
    "dimensionality()"
   ]
  },
  {
   "cell_type": "markdown",
   "id": "bf6b2264",
   "metadata": {},
   "source": [
    "<br> <br>"
   ]
  },
  {
   "cell_type": "markdown",
   "id": "3bdf9b07",
   "metadata": {},
   "source": [
    "__fips__ e __censurtackblock__"
   ]
  },
  {
   "cell_type": "code",
   "execution_count": 55,
   "id": "b2f9b127",
   "metadata": {},
   "outputs": [
    {
     "data": {
      "text/html": [
       "<div>\n",
       "<style scoped>\n",
       "    .dataframe tbody tr th:only-of-type {\n",
       "        vertical-align: middle;\n",
       "    }\n",
       "\n",
       "    .dataframe tbody tr th {\n",
       "        vertical-align: top;\n",
       "    }\n",
       "\n",
       "    .dataframe thead th {\n",
       "        text-align: right;\n",
       "    }\n",
       "</style>\n",
       "<table border=\"1\" class=\"dataframe\">\n",
       "  <thead>\n",
       "    <tr style=\"text-align: right;\">\n",
       "      <th></th>\n",
       "      <th>fips</th>\n",
       "      <th>censustractandblock</th>\n",
       "    </tr>\n",
       "  </thead>\n",
       "  <tbody>\n",
       "    <tr>\n",
       "      <th>0</th>\n",
       "      <td>6059.0</td>\n",
       "      <td>6.059022e+13</td>\n",
       "    </tr>\n",
       "    <tr>\n",
       "      <th>1</th>\n",
       "      <td>6037.0</td>\n",
       "      <td>6.037910e+13</td>\n",
       "    </tr>\n",
       "    <tr>\n",
       "      <th>2</th>\n",
       "      <td>6037.0</td>\n",
       "      <td>6.037294e+13</td>\n",
       "    </tr>\n",
       "    <tr>\n",
       "      <th>3</th>\n",
       "      <td>6059.0</td>\n",
       "      <td>6.059087e+13</td>\n",
       "    </tr>\n",
       "    <tr>\n",
       "      <th>4</th>\n",
       "      <td>6037.0</td>\n",
       "      <td>6.037302e+13</td>\n",
       "    </tr>\n",
       "    <tr>\n",
       "      <th>...</th>\n",
       "      <td>...</td>\n",
       "      <td>...</td>\n",
       "    </tr>\n",
       "    <tr>\n",
       "      <th>100727</th>\n",
       "      <td>6037.0</td>\n",
       "      <td>6.037571e+13</td>\n",
       "    </tr>\n",
       "    <tr>\n",
       "      <th>100728</th>\n",
       "      <td>6059.0</td>\n",
       "      <td>6.059089e+13</td>\n",
       "    </tr>\n",
       "    <tr>\n",
       "      <th>100729</th>\n",
       "      <td>6111.0</td>\n",
       "      <td>6.111007e+13</td>\n",
       "    </tr>\n",
       "    <tr>\n",
       "      <th>100730</th>\n",
       "      <td>6059.0</td>\n",
       "      <td>6.059022e+13</td>\n",
       "    </tr>\n",
       "    <tr>\n",
       "      <th>100731</th>\n",
       "      <td>6037.0</td>\n",
       "      <td>6.037530e+13</td>\n",
       "    </tr>\n",
       "  </tbody>\n",
       "</table>\n",
       "<p>99724 rows × 2 columns</p>\n",
       "</div>"
      ],
      "text/plain": [
       "          fips  censustractandblock\n",
       "0       6059.0         6.059022e+13\n",
       "1       6037.0         6.037910e+13\n",
       "2       6037.0         6.037294e+13\n",
       "3       6059.0         6.059087e+13\n",
       "4       6037.0         6.037302e+13\n",
       "...        ...                  ...\n",
       "100727  6037.0         6.037571e+13\n",
       "100728  6059.0         6.059089e+13\n",
       "100729  6111.0         6.111007e+13\n",
       "100730  6059.0         6.059022e+13\n",
       "100731  6037.0         6.037530e+13\n",
       "\n",
       "[99724 rows x 2 columns]"
      ]
     },
     "execution_count": 55,
     "metadata": {},
     "output_type": "execute_result"
    }
   ],
   "source": [
    "get_col(X_train, ['fips', 'censustractandblock'])"
   ]
  },
  {
   "cell_type": "markdown",
   "id": "0a497e4f",
   "metadata": {},
   "source": [
    "Rappresentano lo stesso dato con diversa rappresentazione numerica"
   ]
  },
  {
   "cell_type": "code",
   "execution_count": 56,
   "id": "2e231305",
   "metadata": {},
   "outputs": [
    {
     "data": {
      "text/plain": [
       "99724"
      ]
     },
     "execution_count": 56,
     "metadata": {},
     "output_type": "execute_result"
    }
   ],
   "source": [
    "equal = []\n",
    "for i, j in zip(\n",
    "        get_col(X_train, ['fips']).values.ravel(),\\\n",
    "        (get_col(X_train, ['censustractandblock']) / 10**10).fillna(0).astype('int32').astype('float32').values.ravel()\\\n",
    "    ):\n",
    "    equal.append(i==j)\n",
    "    \n",
    "len(equal)"
   ]
  },
  {
   "cell_type": "markdown",
   "id": "61059bab",
   "metadata": {},
   "source": [
    "In equal ho tutte le colonne per cui la relazione numerica vale, controllo dove non vale"
   ]
  },
  {
   "cell_type": "code",
   "execution_count": 57,
   "id": "b85a2bac",
   "metadata": {},
   "outputs": [
    {
     "data": {
      "text/html": [
       "<div>\n",
       "<style scoped>\n",
       "    .dataframe tbody tr th:only-of-type {\n",
       "        vertical-align: middle;\n",
       "    }\n",
       "\n",
       "    .dataframe tbody tr th {\n",
       "        vertical-align: top;\n",
       "    }\n",
       "\n",
       "    .dataframe thead th {\n",
       "        text-align: right;\n",
       "    }\n",
       "</style>\n",
       "<table border=\"1\" class=\"dataframe\">\n",
       "  <thead>\n",
       "    <tr style=\"text-align: right;\">\n",
       "      <th></th>\n",
       "      <th>fips</th>\n",
       "      <th>censustractandblock</th>\n",
       "    </tr>\n",
       "  </thead>\n",
       "  <tbody>\n",
       "    <tr>\n",
       "      <th>301</th>\n",
       "      <td>6059.0</td>\n",
       "      <td>NaN</td>\n",
       "    </tr>\n",
       "    <tr>\n",
       "      <th>465</th>\n",
       "      <td>6037.0</td>\n",
       "      <td>NaN</td>\n",
       "    </tr>\n",
       "    <tr>\n",
       "      <th>727</th>\n",
       "      <td>6037.0</td>\n",
       "      <td>NaN</td>\n",
       "    </tr>\n",
       "    <tr>\n",
       "      <th>804</th>\n",
       "      <td>6037.0</td>\n",
       "      <td>NaN</td>\n",
       "    </tr>\n",
       "    <tr>\n",
       "      <th>1021</th>\n",
       "      <td>6059.0</td>\n",
       "      <td>NaN</td>\n",
       "    </tr>\n",
       "    <tr>\n",
       "      <th>...</th>\n",
       "      <td>...</td>\n",
       "      <td>...</td>\n",
       "    </tr>\n",
       "    <tr>\n",
       "      <th>99663</th>\n",
       "      <td>6037.0</td>\n",
       "      <td>NaN</td>\n",
       "    </tr>\n",
       "    <tr>\n",
       "      <th>99733</th>\n",
       "      <td>6037.0</td>\n",
       "      <td>NaN</td>\n",
       "    </tr>\n",
       "    <tr>\n",
       "      <th>100174</th>\n",
       "      <td>6037.0</td>\n",
       "      <td>NaN</td>\n",
       "    </tr>\n",
       "    <tr>\n",
       "      <th>100179</th>\n",
       "      <td>6037.0</td>\n",
       "      <td>NaN</td>\n",
       "    </tr>\n",
       "    <tr>\n",
       "      <th>100345</th>\n",
       "      <td>6037.0</td>\n",
       "      <td>NaN</td>\n",
       "    </tr>\n",
       "  </tbody>\n",
       "</table>\n",
       "<p>490 rows × 2 columns</p>\n",
       "</div>"
      ],
      "text/plain": [
       "          fips  censustractandblock\n",
       "301     6059.0                  NaN\n",
       "465     6037.0                  NaN\n",
       "727     6037.0                  NaN\n",
       "804     6037.0                  NaN\n",
       "1021    6059.0                  NaN\n",
       "...        ...                  ...\n",
       "99663   6037.0                  NaN\n",
       "99733   6037.0                  NaN\n",
       "100174  6037.0                  NaN\n",
       "100179  6037.0                  NaN\n",
       "100345  6037.0                  NaN\n",
       "\n",
       "[490 rows x 2 columns]"
      ]
     },
     "execution_count": 57,
     "metadata": {},
     "output_type": "execute_result"
    }
   ],
   "source": [
    "get_col(X_train, ['fips', 'censustractandblock'])[[not e for e in equal]] "
   ]
  },
  {
   "cell_type": "code",
   "execution_count": 58,
   "id": "76886f16",
   "metadata": {},
   "outputs": [
    {
     "data": {
      "text/plain": [
       "481"
      ]
     },
     "execution_count": 58,
     "metadata": {},
     "output_type": "execute_result"
    }
   ],
   "source": [
    "sum((get_col(X_train, 'censustractandblock')[[not e for e in equal]]).isna())"
   ]
  },
  {
   "cell_type": "markdown",
   "id": "21608336",
   "metadata": {},
   "source": [
    "Per i valori in cui non concide che censustractandblock ha valore Nan"
   ]
  },
  {
   "cell_type": "markdown",
   "id": "79eca4cb",
   "metadata": {},
   "source": [
    "Rimuovo la colonna censutractandblock che presenza l'assenza di qualche valore a differenza di fips"
   ]
  },
  {
   "cell_type": "code",
   "execution_count": 59,
   "id": "d8a94a7e",
   "metadata": {},
   "outputs": [],
   "source": [
    "for X in [X_train, X_val, X_test]:\n",
    "    X = remove_column(X, 'censustractandblock')"
   ]
  },
  {
   "cell_type": "code",
   "execution_count": 60,
   "id": "5a91e68c",
   "metadata": {},
   "outputs": [
    {
     "name": "stdout",
     "output_type": "stream",
     "text": [
      "X_train (99724, 30)\n",
      "X_val   (33578, 30)\n",
      "X_test  (33578, 30)\n"
     ]
    }
   ],
   "source": [
    "dimensionality()"
   ]
  },
  {
   "cell_type": "markdown",
   "id": "257a3712",
   "metadata": {},
   "source": [
    "## Rimozione righe con molti Nan ##"
   ]
  },
  {
   "cell_type": "markdown",
   "id": "61651e90",
   "metadata": {},
   "source": [
    "Rimuovo istanze poco significative"
   ]
  },
  {
   "cell_type": "code",
   "execution_count": 61,
   "id": "0e8dd2f2",
   "metadata": {},
   "outputs": [],
   "source": [
    "# Given the dataframe and the index of the row returns the row\n",
    "def get_row(df, index):\n",
    "    return df.loc[index, :]\n",
    "\n",
    "# Given a row returns Nan-count and Nan-percentage\n",
    "def get_row_nan_info(row):\n",
    "    count = row.isna().sum()\n",
    "    tot = len(row)\n",
    "    perc = count/tot\n",
    "    return count, perc\n",
    "\n",
    "# Given the df and a cut-off returns a list of row ids with Nan-percentage greater or equal the cut-off\n",
    "def get_rows_over_nan_percentage(df, cutoff):\n",
    "    overPercentage_indexes = []\n",
    "    for i in df.index:\n",
    "        row = get_row(df, i)\n",
    "        _ , perc = get_row_nan_info(row)\n",
    "        if perc > cutoff:\n",
    "            overPercentage_indexes.append(i)\n",
    "    return overPercentage_indexes"
   ]
  },
  {
   "cell_type": "code",
   "execution_count": 62,
   "id": "f234c08e",
   "metadata": {},
   "outputs": [],
   "source": [
    "# Given X and y dataframe and a cut-off removes from both all rows whith a percentage of Nan greater than the cut-off\n",
    "def drop_fullnan_rows(df, dfy, cutoff):\n",
    "    indexes = get_rows_over_nan_percentage(df, cutoff)\n",
    "    return df.drop(indexes, axis=0, inplace=True), dfy.drop(indexes, axis=0, inplace=True)"
   ]
  },
  {
   "cell_type": "code",
   "execution_count": 63,
   "id": "e9fd304a",
   "metadata": {},
   "outputs": [
    {
     "name": "stdout",
     "output_type": "stream",
     "text": [
      "X_train (99724, 30)\n",
      "X_val   (33578, 30)\n",
      "X_test  (33578, 30)\n",
      "y_train (99724,)\n",
      "y_val   (33578,)\n",
      "y_test  (33578,)\n"
     ]
    }
   ],
   "source": [
    "dimensionality(y=True)"
   ]
  },
  {
   "cell_type": "code",
   "execution_count": 64,
   "id": "4ab88fd2",
   "metadata": {
    "scrolled": true
   },
   "outputs": [],
   "source": [
    "for X, y in [[X_train, y_train], [X_val, y_val], [X_test, y_test]]:\n",
    "    X, y = drop_fullnan_rows(X, y, 0.5)"
   ]
  },
  {
   "cell_type": "code",
   "execution_count": 65,
   "id": "0aed01a5",
   "metadata": {},
   "outputs": [
    {
     "name": "stdout",
     "output_type": "stream",
     "text": [
      "X_train (99709, 30)\n",
      "X_val   (33572, 30)\n",
      "X_test  (33567, 30)\n",
      "y_train (99709,)\n",
      "y_val   (33572,)\n",
      "y_test  (33567,)\n"
     ]
    }
   ],
   "source": [
    "dimensionality(y=True)"
   ]
  },
  {
   "cell_type": "markdown",
   "id": "4856cdbd",
   "metadata": {},
   "source": [
    "Sono state rimosse qualche centinaia di righe che portavano un'informazione ridotta"
   ]
  },
  {
   "cell_type": "markdown",
   "id": "6735226d",
   "metadata": {},
   "source": [
    "## Conversione di valor non numerici ##"
   ]
  },
  {
   "cell_type": "code",
   "execution_count": 66,
   "id": "ca2e1b15",
   "metadata": {},
   "outputs": [
    {
     "name": "stdout",
     "output_type": "stream",
     "text": [
      "<class 'pandas.core.frame.DataFrame'>\n",
      "Int64Index: 99709 entries, 0 to 100731\n",
      "Data columns (total 30 columns):\n",
      " #   Column                        Non-Null Count  Dtype  \n",
      "---  ------                        --------------  -----  \n",
      " 0   parcelid                      99709 non-null  int32  \n",
      " 1   bathroomcnt                   99709 non-null  float32\n",
      " 2   bedroomcnt                    99709 non-null  float32\n",
      " 3   buildingqualitytypeid         63558 non-null  float32\n",
      " 4   calculatedbathnbr             98697 non-null  float32\n",
      " 5   calculatedfinishedsquarefeet  99224 non-null  float32\n",
      " 6   finishedsquarefeet12          94874 non-null  float32\n",
      " 7   fips                          99709 non-null  float32\n",
      " 8   fireplacecnt                  99709 non-null  float32\n",
      " 9   heatingorsystemtypeid         62661 non-null  float32\n",
      " 10  latitude                      99709 non-null  float32\n",
      " 11  longitude                     99709 non-null  float32\n",
      " 12  lotsizesquarefeet             88847 non-null  float32\n",
      " 13  poolcnt                       99709 non-null  float32\n",
      " 14  propertycountylandusecode     99709 non-null  object \n",
      " 15  propertylandusetypeid         99709 non-null  float32\n",
      " 16  propertyzoningdesc            64482 non-null  object \n",
      " 17  rawcensustractandblock        99709 non-null  float32\n",
      " 18  regionidcity                  97773 non-null  float32\n",
      " 19  regionidcounty                99709 non-null  float32\n",
      " 20  regionidzip                   99661 non-null  float32\n",
      " 21  roomcnt                       99709 non-null  float32\n",
      " 22  unitcnt                       64641 non-null  float32\n",
      " 23  yearbuilt                     99138 non-null  float32\n",
      " 24  structuretaxvaluedollarcnt    99436 non-null  float32\n",
      " 25  taxvaluedollarcnt             99708 non-null  float32\n",
      " 26  assessmentyear                99709 non-null  float32\n",
      " 27  landtaxvaluedollarcnt         99708 non-null  float32\n",
      " 28  taxamount                     99699 non-null  float32\n",
      " 29  transactiondate               99709 non-null  object \n",
      "dtypes: float32(26), int32(1), object(3)\n",
      "memory usage: 13.3+ MB\n"
     ]
    }
   ],
   "source": [
    "X_train.info()"
   ]
  },
  {
   "cell_type": "code",
   "execution_count": 67,
   "id": "0279e012",
   "metadata": {},
   "outputs": [],
   "source": [
    "# Given a dataframe returns al list of column-names which type is different from int32 and float32\n",
    "def get_not_numeric_cols(df):\n",
    "    \n",
    "    def is_numeric(value):\n",
    "        return value != np.int32 and\\\n",
    "               value != np.float32\n",
    "    \n",
    "    not_numeric = []\n",
    "    for k, v in dict(df.dtypes).items():\n",
    "        if(is_numeric(v)):\n",
    "            not_numeric.append(k)\n",
    "    return not_numeric"
   ]
  },
  {
   "cell_type": "code",
   "execution_count": 68,
   "id": "39c1b636",
   "metadata": {},
   "outputs": [
    {
     "name": "stdout",
     "output_type": "stream",
     "text": [
      "propertycountylandusecode\n",
      "propertyzoningdesc\n",
      "transactiondate\n"
     ]
    }
   ],
   "source": [
    "not_numeric = get_not_numeric_cols(X_train)\n",
    "print(*not_numeric, sep='\\n')"
   ]
  },
  {
   "cell_type": "markdown",
   "id": "731ada9b",
   "metadata": {},
   "source": [
    "Ho tre valori non numerici"
   ]
  },
  {
   "cell_type": "code",
   "execution_count": 69,
   "id": "42a9b5d3",
   "metadata": {},
   "outputs": [
    {
     "name": "stdout",
     "output_type": "stream",
     "text": [
      "Values:\n",
      "['122' '0100' '010E' '1111' '34' '010C' '1129' '0101' '1' '010D' '0300'\n",
      " '1128' '012C' '01DC' '0200' '1117' '010H' '010F' '0104' '1110' '0108'\n",
      " '010V' '0400' '020G' '0103' '010G' '96' '0201' '1210' '01HC' '135' '38'\n",
      " '070D' '1222' '010M' '0700' '1014' '0131' '1410' '0109' '1116' '012D'\n",
      " '100V' '1720' '1112' '73' '0102' '01HE' '1722' '0110' '0111' '0113'\n",
      " '012E' '105' '1420' '040V' '1310' '0301' '6050' '030G' '0114' '0401'\n",
      " '0130' '0115' '8800' '1432' '020E' '1012' '1321' '0303' '0105' '1011'\n",
      " '1120' '1421' '0' '040B' '1333' '0141' '0204']\n",
      "\n",
      "Occurcences:\n",
      "0100    34060\n",
      "122     16979\n",
      "010C    11428\n",
      "0101     8196\n",
      "34       6396\n",
      "        ...  \n",
      "1012        1\n",
      "6050        1\n",
      "0115        1\n",
      "1011        1\n",
      "0105        1\n",
      "Name: propertycountylandusecode, Length: 79, dtype: int64\n"
     ]
    }
   ],
   "source": [
    "# propertycountylandusecode\n",
    "values = get_col(X_train, 'propertycountylandusecode')\n",
    "print(f'Values:\\n{values.unique()      }\\n')\n",
    "print(f'Occurcences:\\n{values.value_counts()}')"
   ]
  },
  {
   "cell_type": "code",
   "execution_count": 70,
   "id": "31b9141b",
   "metadata": {},
   "outputs": [
    {
     "name": "stdout",
     "output_type": "stream",
     "text": [
      "Values:\n",
      "[nan 'PDR1*' 'LAR1' ... 'BRR1*' 'LVPID*' 'LC105*']\n",
      "\n",
      "Occurcences:\n",
      "LAR1          8508\n",
      "LAR3          3131\n",
      "LARS          1720\n",
      "LBR1N         1600\n",
      "LARD1.5       1442\n",
      "              ... \n",
      "CARS-RM25U       1\n",
      "LCA1**           1\n",
      "NORI YY          1\n",
      "PRRE             1\n",
      "LBR4N*           1\n",
      "Name: propertyzoningdesc, Length: 2052, dtype: int64\n"
     ]
    }
   ],
   "source": [
    "# propertyzoningdesc\n",
    "values = get_col(X_train, 'propertyzoningdesc')\n",
    "print(f'Values:\\n{values.unique()      }\\n')\n",
    "print(f'Occurcences:\\n{values.value_counts()}')"
   ]
  },
  {
   "cell_type": "markdown",
   "id": "a1e31b47",
   "metadata": {},
   "source": [
    "Per queste due feature mantengo solo le cinque più frequenti: <br>\n",
    "Copro comunque l'informazione sulla maggioranza della popalazione, senza far esplodere il numero di colonne con il one-hot encoding."
   ]
  },
  {
   "cell_type": "code",
   "execution_count": 71,
   "id": "7bf16bbc",
   "metadata": {},
   "outputs": [],
   "source": [
    "# Given a dataframe, a column-name and a importcance treshold, returns a list of his most frequent values\n",
    "def get_frequent(df, col_name, important):\n",
    "    col = get_col(df, col_name)\n",
    "    names = list(col.value_counts().to_dict().keys())[:important]\n",
    "    return names\n",
    "\n",
    "# Given the train-dataframe, some column-names, and importance treshold and a list of dataframes,\n",
    "# foreach dataframe set a value of the specified columns to 'rare' if is not frequent.\n",
    "def set_rare(df, col_name, important, dfs):\n",
    "    frequent = get_frequent(df, col_name, important)\n",
    "    for d in dfs:\n",
    "        d.loc[:,col_name][~d.loc[:,col_name].isin(frequent)] = 'rare'\n",
    "    "
   ]
  },
  {
   "cell_type": "code",
   "execution_count": 72,
   "id": "43eb9104",
   "metadata": {},
   "outputs": [],
   "source": [
    "for col in ['propertycountylandusecode', 'propertyzoningdesc']:\n",
    "    set_rare(X_train, col, 5, [X_train, X_val, X_test])"
   ]
  },
  {
   "cell_type": "markdown",
   "id": "fcbc09b1",
   "metadata": {},
   "source": [
    "Verifico se ho settatto correttamente l'etichetta *rare*"
   ]
  },
  {
   "cell_type": "code",
   "execution_count": 73,
   "id": "893e7de4",
   "metadata": {},
   "outputs": [
    {
     "name": "stdout",
     "output_type": "stream",
     "text": [
      "Values:\n",
      "['122' '0100' 'rare' '34' '010C' '0101']\n",
      "\n",
      "Occurcences:\n",
      "0100    34060\n",
      "rare    22650\n",
      "122     16979\n",
      "010C    11428\n",
      "0101     8196\n",
      "34       6396\n",
      "Name: propertycountylandusecode, dtype: int64\n"
     ]
    }
   ],
   "source": [
    "values = get_col(X_train, 'propertycountylandusecode')\n",
    "print(f'Values:\\n{values.unique()      }\\n')\n",
    "print(f'Occurcences:\\n{values.value_counts()}')"
   ]
  },
  {
   "cell_type": "markdown",
   "id": "828a2844",
   "metadata": {},
   "source": [
    "L'operazione sembra essere avvenuta correttamente :)"
   ]
  },
  {
   "cell_type": "code",
   "execution_count": 74,
   "id": "6486d260",
   "metadata": {
    "scrolled": false
   },
   "outputs": [
    {
     "name": "stdout",
     "output_type": "stream",
     "text": [
      "Values:\n",
      "['2017-08-02' '2017-07-11' '2016-04-15' '2017-05-02' '2016-10-13'\n",
      " '2016-06-13' '2017-01-03' '2016-08-15' '2016-10-20' '2016-08-11'\n",
      " '2016-05-27' '2017-08-10' '2017-06-09' '2017-05-16' '2016-08-03'\n",
      " '2017-01-30' '2017-05-12' '2017-06-28' '2016-07-28' '2016-09-02'\n",
      " '2016-03-11' '2017-06-06' '2017-09-08' '2017-09-01' '2016-07-13'\n",
      " '2017-07-27' '2017-04-05' '2016-12-07' '2017-05-05' '2016-06-30'\n",
      " '2017-01-27' '2016-07-21' '2016-10-07' '2017-07-31' '2017-07-24'\n",
      " '2016-05-24' '2016-04-22' '2017-06-29' '2016-04-13' '2017-03-16'\n",
      " '2017-06-26' '2016-08-25' '2017-07-14' '2016-09-15' '2017-07-13'\n",
      " '2016-03-18' '2016-07-07' '2017-01-05' '2017-01-25' '2017-07-28'\n",
      " '2017-02-28' '2017-08-04' '2016-08-29' '2017-04-12' '2016-06-23'\n",
      " '2017-09-06' '2016-01-14' '2017-06-02' '2016-08-31' '2016-06-24'\n",
      " '2017-05-30' '2017-02-24' '2017-06-08' '2017-06-16' '2017-09-14'\n",
      " '2016-02-28' '2017-04-20' '2016-09-20' '2016-04-21' '2017-03-31'\n",
      " '2017-03-08' '2017-06-01' '2016-02-08' '2016-03-02' '2017-05-24'\n",
      " '2016-06-03' '2016-09-21' '2016-04-01' '2016-06-29' '2016-08-10'\n",
      " '2016-07-05' '2017-01-26' '2017-08-22' '2016-01-13' '2016-08-08'\n",
      " '2016-10-12' '2016-05-10' '2016-07-15' '2017-08-31' '2016-12-05'\n",
      " '2016-04-25' '2016-11-13' '2017-03-21' '2017-03-07' '2016-08-12'\n",
      " '2017-08-29' '2016-03-17' '2016-09-13' '2016-06-21' '2016-01-27'\n",
      " '2016-01-28' '2016-01-21' '2017-05-26' '2017-02-21' '2017-09-19'\n",
      " '2017-01-31' '2016-09-26' '2016-10-14' '2017-04-25' '2016-05-18'\n",
      " '2017-03-27' '2016-08-26' '2017-02-16' '2016-10-03' '2017-08-07'\n",
      " '2016-05-02' '2017-03-09' '2017-02-23' '2016-12-14' '2016-10-19'\n",
      " '2016-02-07' '2016-11-29' '2016-09-16' '2017-03-30' '2017-03-15'\n",
      " '2017-05-10' '2016-05-31' '2016-07-20' '2016-01-05' '2017-02-14'\n",
      " '2016-01-29' '2017-07-12' '2017-07-07' '2016-06-15' '2017-06-07'\n",
      " '2016-10-06' '2016-07-29' '2016-11-01' '2017-02-06' '2016-05-25'\n",
      " '2017-08-25' '2017-02-17' '2016-02-26' '2016-05-19' '2016-05-09'\n",
      " '2017-04-18' '2017-03-03' '2017-05-01' '2016-08-30' '2016-05-20'\n",
      " '2017-06-19' '2017-08-17' '2017-09-11' '2016-11-18' '2017-05-11'\n",
      " '2016-07-27' '2016-01-19' '2017-05-31' '2016-02-11' '2017-01-13'\n",
      " '2017-04-28' '2016-12-29' '2016-06-22' '2017-05-23' '2016-09-29'\n",
      " '2016-06-14' '2017-06-30' '2016-01-11' '2017-06-27' '2016-04-08'\n",
      " '2016-03-29' '2017-06-13' '2016-08-24' '2016-04-20' '2016-03-01'\n",
      " '2017-05-04' '2016-06-17' '2017-01-09' '2016-10-05' '2017-04-14'\n",
      " '2016-07-01' '2016-04-12' '2016-09-06' '2016-06-10' '2017-08-21'\n",
      " '2017-05-22' '2017-07-18' '2017-08-08' '2016-03-04' '2016-06-01'\n",
      " '2016-11-06' '2016-05-12' '2016-04-29' '2017-05-03' '2016-09-30'\n",
      " '2016-09-23' '2016-06-16' '2017-06-05' '2017-06-22' '2016-08-16'\n",
      " '2017-06-23' '2016-01-22' '2016-08-09' '2017-05-19' '2016-08-19'\n",
      " '2016-12-15' '2016-03-10' '2017-04-06' '2016-01-26' '2017-04-27'\n",
      " '2016-10-24' '2016-03-30' '2017-01-04' '2017-07-19' '2017-07-03'\n",
      " '2016-01-06' '2017-02-08' '2017-07-17' '2016-09-09' '2016-08-17'\n",
      " '2017-01-17' '2016-08-18' '2016-11-21' '2017-05-17' '2016-03-28'\n",
      " '2017-03-10' '2017-02-27' '2016-06-27' '2017-05-09' '2017-09-12'\n",
      " '2017-09-13' '2017-03-02' '2016-11-03' '2016-03-23' '2016-08-22'\n",
      " '2016-04-26' '2016-03-16' '2016-12-28' '2016-09-27' '2017-07-26'\n",
      " '2016-04-07' '2017-04-19' '2017-08-18' '2017-05-18' '2017-08-11'\n",
      " '2017-07-25' '2016-07-18' '2016-02-10' '2016-05-11' '2017-07-06'\n",
      " '2017-01-12' '2017-08-30' '2016-02-17' '2017-09-07' '2016-06-02'\n",
      " '2017-06-14' '2016-01-02' '2016-03-31' '2017-02-22' '2017-02-10'\n",
      " '2016-11-14' '2016-12-23' '2016-07-22' '2016-07-26' '2017-06-20'\n",
      " '2017-06-21' '2016-07-12' '2016-06-06' '2017-04-03' '2016-07-19'\n",
      " '2017-08-24' '2017-01-24' '2016-03-24' '2016-09-24' '2016-09-07'\n",
      " '2016-08-05' '2016-06-20' '2017-03-18' '2017-04-10' '2016-04-27'\n",
      " '2017-04-26' '2016-08-23' '2017-04-04' '2017-08-09' '2016-06-28'\n",
      " '2016-11-30' '2016-01-31' '2017-03-24' '2017-08-01' '2017-05-08'\n",
      " '2017-02-26' '2016-06-08' '2017-01-10' '2016-05-26' '2016-05-05'\n",
      " '2016-08-01' '2016-03-06' '2016-09-19' '2017-09-15' '2016-01-12'\n",
      " '2017-07-10' '2016-04-06' '2017-02-09' '2016-06-09' '2016-01-25'\n",
      " '2016-02-25' '2016-04-18' '2017-01-16' '2016-09-22' '2016-05-03'\n",
      " '2017-04-17' '2016-10-04' '2016-07-14' '2017-03-29' '2016-02-02'\n",
      " '2016-11-28' '2016-04-14' '2016-02-18' '2016-03-15' '2017-04-13'\n",
      " '2016-12-27' '2016-02-01' '2016-06-07' '2017-02-05' '2016-07-06'\n",
      " '2016-03-22' '2017-03-23' '2016-11-15' '2016-09-14' '2017-09-18'\n",
      " '2016-10-25' '2016-12-30' '2016-12-02' '2017-01-11' '2016-10-27'\n",
      " '2017-08-15' '2016-05-16' '2017-08-23' '2016-01-08' '2016-03-21'\n",
      " '2017-03-28' '2017-01-23' '2017-01-19' '2016-02-24' '2016-02-29'\n",
      " '2017-08-14' '2016-02-23' '2016-04-19' '2016-02-05' '2016-05-13'\n",
      " '2016-02-22' '2016-12-01' '2017-02-13' '2016-02-03' '2016-12-16'\n",
      " '2017-06-12' '2016-01-04' '2016-09-28' '2016-03-08' '2016-02-12'\n",
      " '2017-02-07' '2017-04-11' '2017-02-01' '2016-12-08' '2016-07-08'\n",
      " '2017-04-21' '2016-04-28' '2016-11-09' '2016-07-11' '2016-11-22'\n",
      " '2017-07-05' '2017-07-21' '2017-01-29' '2017-01-06' '2016-01-07'\n",
      " '2016-01-15' '2017-04-07' '2016-04-16' '2017-01-20' '2017-02-15'\n",
      " '2016-09-01' '2017-03-17' '2016-10-17' '2016-03-25' '2017-08-03'\n",
      " '2016-02-16' '2016-07-25' '2017-01-18' '2017-05-25' '2016-05-04'\n",
      " '2016-05-08' '2017-08-28' '2016-02-09' '2016-02-19' '2016-10-11'\n",
      " '2016-03-03' '2017-01-15' '2017-05-15' '2016-05-06' '2016-09-12'\n",
      " '2016-09-08' '2016-02-04' '2016-01-20' '2017-03-06' '2017-04-24'\n",
      " '2017-07-20' '2017-03-14' '2016-11-23' '2016-05-23' '2017-02-03'\n",
      " '2017-03-01' '2016-08-04' '2017-06-15' '2017-07-30' '2016-02-15'\n",
      " '2016-03-09' '2016-01-24' '2016-03-14' '2016-12-19' '2016-04-11'\n",
      " '2016-11-08' '2016-10-31' '2016-11-27' '2016-11-04' '2017-03-20'\n",
      " '2016-04-05' '2016-08-02' '2017-03-13' '2016-12-04' '2017-08-16'\n",
      " '2017-09-05' '2017-02-02' '2016-12-09' '2017-08-12' '2016-01-10'\n",
      " '2016-11-16' '2016-04-04' '2016-11-07' '2017-02-20' '2016-05-17'\n",
      " '2016-09-25' '2016-12-12' '2016-10-28' '2016-01-17' '2017-01-01'\n",
      " '2016-12-20' '2016-11-20' '2016-07-16' '2016-12-18' '2016-03-07'\n",
      " '2016-12-22' '2016-11-02' '2016-10-21' '2017-07-02' '2016-12-06'\n",
      " '2017-05-29' '2017-03-22' '2016-11-10' '2017-07-29' '2016-12-13'\n",
      " '2016-06-05' '2016-12-21' '2016-02-21' '2017-01-02' '2016-04-30'\n",
      " '2017-07-08' '2017-01-22' '2016-12-24' '2016-10-18' '2017-03-05'\n",
      " '2016-01-03' '2016-02-06' '2017-01-14' '2017-01-08' '2016-01-18'\n",
      " '2016-10-02' '2016-10-26' '2017-07-01' '2016-06-12' '2016-11-17'\n",
      " '2016-07-24' '2016-04-03' '2016-04-10' '2017-01-07' '2016-01-23'\n",
      " '2016-07-02' '2016-06-25' '2017-01-28' '2017-09-17' '2017-03-19'\n",
      " '2017-02-19' '2016-08-28' '2016-09-18' '2016-08-21' '2017-08-20'\n",
      " '2016-02-27' '2017-03-04' '2016-10-10' '2017-04-22' '2016-11-24'\n",
      " '2016-03-05' '2016-07-10' '2016-12-26' '2016-08-13' '2016-04-24'\n",
      " '2017-02-12' '2016-04-09' '2016-09-10' '2016-08-14' '2017-09-04'\n",
      " '2017-07-15' '2016-02-20' '2017-05-14' '2016-02-14' '2016-10-08'\n",
      " '2017-06-25' '2016-10-22' '2016-10-09' '2016-05-15' '2017-04-01'\n",
      " '2016-07-04' '2016-07-31' '2017-05-13' '2017-04-15' '2016-07-17'\n",
      " '2016-09-17' '2016-03-19' '2017-04-29' '2016-08-07' '2017-03-11'\n",
      " '2016-06-26' '2017-02-25' '2016-10-29' '2017-09-20' '2017-02-11'\n",
      " '2016-12-11' '2016-05-30' '2017-06-04' '2017-08-19' '2017-04-30'\n",
      " '2016-06-18' '2017-08-27' '2017-05-21' '2016-11-12' '2016-05-29'\n",
      " '2017-08-26' '2016-06-04' '2016-07-09' '2016-01-09' '2017-01-21'\n",
      " '2016-10-01' '2017-06-17' '2016-06-11' '2016-04-02' '2016-12-25'\n",
      " '2016-02-13' '2017-07-04' '2016-06-19' '2017-05-28' '2016-05-01'\n",
      " '2017-09-10' '2017-04-16' '2017-03-26' '2017-04-23' '2016-05-14'\n",
      " '2016-01-01' '2016-08-27' '2016-03-20' '2017-06-18' '2017-02-04'\n",
      " '2016-07-23' '2016-01-30' '2017-04-09' '2017-06-24' '2016-04-17'\n",
      " '2017-09-02' '2016-09-04' '2017-09-09' '2016-03-27' '2016-09-05'\n",
      " '2016-07-30' '2016-03-13' '2017-07-16' '2016-10-30' '2016-01-16'\n",
      " '2017-06-03' '2016-04-23' '2017-09-16' '2016-09-11' '2017-03-12'\n",
      " '2016-09-03' '2016-08-20' '2017-05-27' '2016-05-22' '2016-05-07'\n",
      " '2017-05-07' '2017-05-20' '2017-07-23' '2017-08-06' '2016-11-19'\n",
      " '2016-08-06' '2017-04-02' '2017-06-10' '2017-06-11' '2017-05-06']\n",
      "\n",
      "Occurcences:\n",
      "2017-06-30    689\n",
      "2016-07-29    561\n",
      "2017-04-28    543\n",
      "2016-05-27    524\n",
      "2016-09-30    523\n",
      "2017-05-31    520\n",
      "2016-04-29    508\n",
      "2016-06-30    504\n",
      "2017-07-28    478\n",
      "2017-08-31    472\n",
      "Name: transactiondate, dtype: int64\n"
     ]
    }
   ],
   "source": [
    "# transactiondate\n",
    "values = get_col(X_train, 'transactiondate')\n",
    "print(f'Values:\\n{values.unique()}\\n')\n",
    "print(f'Occurcences:\\n{values.value_counts().head(10)}')"
   ]
  },
  {
   "cell_type": "markdown",
   "id": "a392e6c8",
   "metadata": {},
   "source": [
    "È interessante notare come la maggior parte delle transizioni si concentrino negli ultimi giorni del mese"
   ]
  },
  {
   "cell_type": "markdown",
   "id": "dd8d865f",
   "metadata": {},
   "source": [
    "Trasformo i dati come giorni passati dall' 1 Gennaio di quell'anno"
   ]
  },
  {
   "cell_type": "code",
   "execution_count": 75,
   "id": "c1d21de7",
   "metadata": {},
   "outputs": [],
   "source": [
    "# Add a row to the given dataframe which value is the days passed from the 1th Genuary of that year\n",
    "def date_to_int(df):\n",
    "     \n",
    "    def string_to_date(date_str):\n",
    "        return dt.strptime(date_str.replace('-', '/'), '%Y/%m/%d')\n",
    "        \n",
    "    start = string_to_date('2016-01-01')\n",
    "    df.loc[:,'int_transactiondate'] = pd.to_datetime(df.loc[:,'transactiondate'], format='%Y/%m/%d')\n",
    "    df.loc[:,'int_transactiondate'] = (df.loc[:,'int_transactiondate'] - start).astype('timedelta64[D]') % 365\n",
    "\n",
    "    return df"
   ]
  },
  {
   "cell_type": "code",
   "execution_count": 76,
   "id": "bff6ea33",
   "metadata": {},
   "outputs": [],
   "source": [
    "for X in [X_train, X_val, X_test]:\n",
    "    X = date_to_int(X)"
   ]
  },
  {
   "cell_type": "code",
   "execution_count": 77,
   "id": "88cbde44",
   "metadata": {},
   "outputs": [
    {
     "data": {
      "text/html": [
       "<div>\n",
       "<style scoped>\n",
       "    .dataframe tbody tr th:only-of-type {\n",
       "        vertical-align: middle;\n",
       "    }\n",
       "\n",
       "    .dataframe tbody tr th {\n",
       "        vertical-align: top;\n",
       "    }\n",
       "\n",
       "    .dataframe thead th {\n",
       "        text-align: right;\n",
       "    }\n",
       "</style>\n",
       "<table border=\"1\" class=\"dataframe\">\n",
       "  <thead>\n",
       "    <tr style=\"text-align: right;\">\n",
       "      <th></th>\n",
       "      <th>parcelid</th>\n",
       "      <th>transactiondate</th>\n",
       "      <th>int_transactiondate</th>\n",
       "    </tr>\n",
       "  </thead>\n",
       "  <tbody>\n",
       "    <tr>\n",
       "      <th>0</th>\n",
       "      <td>14217523</td>\n",
       "      <td>2017-08-02</td>\n",
       "      <td>214.0</td>\n",
       "    </tr>\n",
       "    <tr>\n",
       "      <th>1</th>\n",
       "      <td>11199964</td>\n",
       "      <td>2017-07-11</td>\n",
       "      <td>192.0</td>\n",
       "    </tr>\n",
       "    <tr>\n",
       "      <th>2</th>\n",
       "      <td>12627031</td>\n",
       "      <td>2016-04-15</td>\n",
       "      <td>105.0</td>\n",
       "    </tr>\n",
       "    <tr>\n",
       "      <th>3</th>\n",
       "      <td>13992985</td>\n",
       "      <td>2017-05-02</td>\n",
       "      <td>122.0</td>\n",
       "    </tr>\n",
       "    <tr>\n",
       "      <th>4</th>\n",
       "      <td>12086693</td>\n",
       "      <td>2016-10-13</td>\n",
       "      <td>286.0</td>\n",
       "    </tr>\n",
       "    <tr>\n",
       "      <th>5</th>\n",
       "      <td>14152642</td>\n",
       "      <td>2016-06-13</td>\n",
       "      <td>164.0</td>\n",
       "    </tr>\n",
       "    <tr>\n",
       "      <th>6</th>\n",
       "      <td>17210760</td>\n",
       "      <td>2017-01-03</td>\n",
       "      <td>3.0</td>\n",
       "    </tr>\n",
       "    <tr>\n",
       "      <th>7</th>\n",
       "      <td>14145516</td>\n",
       "      <td>2016-08-15</td>\n",
       "      <td>227.0</td>\n",
       "    </tr>\n",
       "    <tr>\n",
       "      <th>8</th>\n",
       "      <td>14696645</td>\n",
       "      <td>2016-10-20</td>\n",
       "      <td>293.0</td>\n",
       "    </tr>\n",
       "    <tr>\n",
       "      <th>9</th>\n",
       "      <td>11697737</td>\n",
       "      <td>2016-08-11</td>\n",
       "      <td>223.0</td>\n",
       "    </tr>\n",
       "    <tr>\n",
       "      <th>10</th>\n",
       "      <td>14071157</td>\n",
       "      <td>2016-05-27</td>\n",
       "      <td>147.0</td>\n",
       "    </tr>\n",
       "    <tr>\n",
       "      <th>11</th>\n",
       "      <td>14209240</td>\n",
       "      <td>2017-08-10</td>\n",
       "      <td>222.0</td>\n",
       "    </tr>\n",
       "    <tr>\n",
       "      <th>12</th>\n",
       "      <td>12375928</td>\n",
       "      <td>2017-06-09</td>\n",
       "      <td>160.0</td>\n",
       "    </tr>\n",
       "    <tr>\n",
       "      <th>13</th>\n",
       "      <td>12480158</td>\n",
       "      <td>2017-05-16</td>\n",
       "      <td>136.0</td>\n",
       "    </tr>\n",
       "    <tr>\n",
       "      <th>14</th>\n",
       "      <td>10988496</td>\n",
       "      <td>2016-08-03</td>\n",
       "      <td>215.0</td>\n",
       "    </tr>\n",
       "    <tr>\n",
       "      <th>15</th>\n",
       "      <td>10982015</td>\n",
       "      <td>2017-01-30</td>\n",
       "      <td>30.0</td>\n",
       "    </tr>\n",
       "    <tr>\n",
       "      <th>16</th>\n",
       "      <td>11228135</td>\n",
       "      <td>2017-05-12</td>\n",
       "      <td>132.0</td>\n",
       "    </tr>\n",
       "    <tr>\n",
       "      <th>17</th>\n",
       "      <td>17289071</td>\n",
       "      <td>2017-06-28</td>\n",
       "      <td>179.0</td>\n",
       "    </tr>\n",
       "    <tr>\n",
       "      <th>18</th>\n",
       "      <td>11093150</td>\n",
       "      <td>2016-07-28</td>\n",
       "      <td>209.0</td>\n",
       "    </tr>\n",
       "    <tr>\n",
       "      <th>19</th>\n",
       "      <td>12831060</td>\n",
       "      <td>2016-09-02</td>\n",
       "      <td>245.0</td>\n",
       "    </tr>\n",
       "  </tbody>\n",
       "</table>\n",
       "</div>"
      ],
      "text/plain": [
       "    parcelid transactiondate  int_transactiondate\n",
       "0   14217523      2017-08-02                214.0\n",
       "1   11199964      2017-07-11                192.0\n",
       "2   12627031      2016-04-15                105.0\n",
       "3   13992985      2017-05-02                122.0\n",
       "4   12086693      2016-10-13                286.0\n",
       "5   14152642      2016-06-13                164.0\n",
       "6   17210760      2017-01-03                  3.0\n",
       "7   14145516      2016-08-15                227.0\n",
       "8   14696645      2016-10-20                293.0\n",
       "9   11697737      2016-08-11                223.0\n",
       "10  14071157      2016-05-27                147.0\n",
       "11  14209240      2017-08-10                222.0\n",
       "12  12375928      2017-06-09                160.0\n",
       "13  12480158      2017-05-16                136.0\n",
       "14  10988496      2016-08-03                215.0\n",
       "15  10982015      2017-01-30                 30.0\n",
       "16  11228135      2017-05-12                132.0\n",
       "17  17289071      2017-06-28                179.0\n",
       "18  11093150      2016-07-28                209.0\n",
       "19  12831060      2016-09-02                245.0"
      ]
     },
     "execution_count": 77,
     "metadata": {},
     "output_type": "execute_result"
    }
   ],
   "source": [
    "X_train.loc[:,['parcelid', 'transactiondate', 'int_transactiondate']].head(20)"
   ]
  },
  {
   "cell_type": "markdown",
   "id": "b2e08a0c",
   "metadata": {},
   "source": [
    "# Aggiunta di colonne #"
   ]
  },
  {
   "cell_type": "markdown",
   "id": "ae5914a7",
   "metadata": {},
   "source": [
    "## Media delle transazioni di quel periodo in quella nazione ##"
   ]
  },
  {
   "cell_type": "markdown",
   "id": "a2de3abb",
   "metadata": {},
   "source": [
    "Aggiungo colonna: prezzo medio di vendita per quel mese e anno in quello stato"
   ]
  },
  {
   "cell_type": "code",
   "execution_count": 78,
   "id": "a75b3f0e",
   "metadata": {},
   "outputs": [],
   "source": [
    "# Given a dataframe, a month, a year and a region_id returns all rows which match with the params\n",
    "def get_prices(df, month, year, region_id):\n",
    "    list_of_dates = list(pd.to_datetime(df.loc[:,'transactiondate'], format='%Y/%m/%d').to_dict().values())\n",
    "    cond1 = list(df['regionidcounty'] == region_id)\n",
    "    cond2 = list(map(lambda date: date.year  ==  year, list_of_dates))\n",
    "    cond3 = list(map(lambda date: date.month == month, list_of_dates))\n",
    "    cond =  list(map(lambda c1, c2, c3: c1 and c2 and c3, cond1, cond2, cond3))\n",
    "    return df[cond]\n",
    "\n",
    "# Given a dataframe and its target, a monthm a year and a region id,\n",
    "# returns the mean log-error for rows that match with the given params\n",
    "def get_period_mean(df, dfy, month, year, region_id):\n",
    "    ret = get_prices(df, month, year, region_id)\n",
    "    indexes = ret.index\n",
    "    return dfy[indexes].mean()\n",
    "\n",
    "# Given country-id, year and month returns the corresponding key for the dictionary\n",
    "def generate_key(c, y, m):\n",
    "    return f'{int(c)}_{int(y)}_{int(m)}'\n",
    "\n",
    "# Given a dataframe and its target, country-ids and years returns a dictionary\n",
    "# which reprent the mean price for the specified country-id, year and month\n",
    "def get_dictionary(df, dfy, country_ids, years):\n",
    "    d = {}\n",
    "    months = range(1,13)\n",
    "    for c_id in country_ids:\n",
    "        for year in years:\n",
    "            for month in months:\n",
    "                key = generate_key(c_id, year, month)\n",
    "                d[key] = get_period_mean(df, dfy, month, year, c_id)\n",
    "    return d\n",
    "\n",
    "# Given a list of dataframes and train dataset and its target, country-ids and years\n",
    "# add a column which values correpond to the mean log-error of sale for that country in that year and month\n",
    "def add_mean_logerror_column(df_list, dfx, dfy, country_ids, years):\n",
    "    prices_dict = get_dictionary(dfx, dfy, country_ids, years)\n",
    "    for df in df_list:\n",
    "        df = add_mean_logerror_column_aux(df, prices_dict)\n",
    "    \n",
    "def add_mean_logerror_column_aux(df, prices_dict):\n",
    "    rows_null = []\n",
    "    df['period_mean_price'] = np.nan\n",
    "    for i in df.index:\n",
    "        c_id = df.at[i,'regionidcounty']\n",
    "        month = pd.to_datetime(df.at[i, 'transactiondate'], format='%Y/%m/%d').month\n",
    "        year  = pd.to_datetime(df.at[i, 'transactiondate'], format='%Y/%m/%d').year\n",
    "        key = generate_key(c_id, year, month)\n",
    "        df.at[i, 'period_mean_price'] = prices_dict[key]"
   ]
  },
  {
   "cell_type": "code",
   "execution_count": 79,
   "id": "fc367d72",
   "metadata": {},
   "outputs": [],
   "source": [
    "add_mean_logerror_column([X_train, X_test, X_val], X_train, y_train, [1286, 3101, 2061], [2016, 2017])"
   ]
  },
  {
   "cell_type": "markdown",
   "id": "335e574f",
   "metadata": {},
   "source": [
    "L'informazione transactiondate è stata converita in intero e ne è stata ricavata un'ulteriore informazione. Ora posso rimuovere la colonna object con la data di vendita."
   ]
  },
  {
   "cell_type": "code",
   "execution_count": 80,
   "id": "798f18ed",
   "metadata": {},
   "outputs": [
    {
     "data": {
      "text/html": [
       "<div>\n",
       "<style scoped>\n",
       "    .dataframe tbody tr th:only-of-type {\n",
       "        vertical-align: middle;\n",
       "    }\n",
       "\n",
       "    .dataframe tbody tr th {\n",
       "        vertical-align: top;\n",
       "    }\n",
       "\n",
       "    .dataframe thead th {\n",
       "        text-align: right;\n",
       "    }\n",
       "</style>\n",
       "<table border=\"1\" class=\"dataframe\">\n",
       "  <thead>\n",
       "    <tr style=\"text-align: right;\">\n",
       "      <th></th>\n",
       "      <th>parcelid</th>\n",
       "      <th>regionidcounty</th>\n",
       "      <th>transactiondate</th>\n",
       "      <th>int_transactiondate</th>\n",
       "      <th>period_mean_price</th>\n",
       "    </tr>\n",
       "  </thead>\n",
       "  <tbody>\n",
       "    <tr>\n",
       "      <th>0</th>\n",
       "      <td>14217523</td>\n",
       "      <td>1286.0</td>\n",
       "      <td>2017-08-02</td>\n",
       "      <td>214.0</td>\n",
       "      <td>0.018485</td>\n",
       "    </tr>\n",
       "    <tr>\n",
       "      <th>1</th>\n",
       "      <td>11199964</td>\n",
       "      <td>3101.0</td>\n",
       "      <td>2017-07-11</td>\n",
       "      <td>192.0</td>\n",
       "      <td>0.011598</td>\n",
       "    </tr>\n",
       "    <tr>\n",
       "      <th>2</th>\n",
       "      <td>12627031</td>\n",
       "      <td>3101.0</td>\n",
       "      <td>2016-04-15</td>\n",
       "      <td>105.0</td>\n",
       "      <td>0.005537</td>\n",
       "    </tr>\n",
       "    <tr>\n",
       "      <th>3</th>\n",
       "      <td>13992985</td>\n",
       "      <td>1286.0</td>\n",
       "      <td>2017-05-02</td>\n",
       "      <td>122.0</td>\n",
       "      <td>0.010939</td>\n",
       "    </tr>\n",
       "    <tr>\n",
       "      <th>4</th>\n",
       "      <td>12086693</td>\n",
       "      <td>3101.0</td>\n",
       "      <td>2016-10-13</td>\n",
       "      <td>286.0</td>\n",
       "      <td>0.015765</td>\n",
       "    </tr>\n",
       "    <tr>\n",
       "      <th>5</th>\n",
       "      <td>14152642</td>\n",
       "      <td>1286.0</td>\n",
       "      <td>2016-06-13</td>\n",
       "      <td>164.0</td>\n",
       "      <td>0.008718</td>\n",
       "    </tr>\n",
       "    <tr>\n",
       "      <th>6</th>\n",
       "      <td>17210760</td>\n",
       "      <td>2061.0</td>\n",
       "      <td>2017-01-03</td>\n",
       "      <td>3.0</td>\n",
       "      <td>0.020255</td>\n",
       "    </tr>\n",
       "    <tr>\n",
       "      <th>7</th>\n",
       "      <td>14145516</td>\n",
       "      <td>1286.0</td>\n",
       "      <td>2016-08-15</td>\n",
       "      <td>227.0</td>\n",
       "      <td>0.012602</td>\n",
       "    </tr>\n",
       "    <tr>\n",
       "      <th>8</th>\n",
       "      <td>14696645</td>\n",
       "      <td>1286.0</td>\n",
       "      <td>2016-10-20</td>\n",
       "      <td>293.0</td>\n",
       "      <td>0.022827</td>\n",
       "    </tr>\n",
       "    <tr>\n",
       "      <th>9</th>\n",
       "      <td>11697737</td>\n",
       "      <td>3101.0</td>\n",
       "      <td>2016-08-11</td>\n",
       "      <td>223.0</td>\n",
       "      <td>0.008038</td>\n",
       "    </tr>\n",
       "    <tr>\n",
       "      <th>10</th>\n",
       "      <td>14071157</td>\n",
       "      <td>1286.0</td>\n",
       "      <td>2016-05-27</td>\n",
       "      <td>147.0</td>\n",
       "      <td>0.008571</td>\n",
       "    </tr>\n",
       "    <tr>\n",
       "      <th>11</th>\n",
       "      <td>14209240</td>\n",
       "      <td>1286.0</td>\n",
       "      <td>2017-08-10</td>\n",
       "      <td>222.0</td>\n",
       "      <td>0.018485</td>\n",
       "    </tr>\n",
       "    <tr>\n",
       "      <th>12</th>\n",
       "      <td>12375928</td>\n",
       "      <td>3101.0</td>\n",
       "      <td>2017-06-09</td>\n",
       "      <td>160.0</td>\n",
       "      <td>0.009990</td>\n",
       "    </tr>\n",
       "    <tr>\n",
       "      <th>13</th>\n",
       "      <td>12480158</td>\n",
       "      <td>3101.0</td>\n",
       "      <td>2017-05-16</td>\n",
       "      <td>136.0</td>\n",
       "      <td>0.005966</td>\n",
       "    </tr>\n",
       "    <tr>\n",
       "      <th>14</th>\n",
       "      <td>10988496</td>\n",
       "      <td>3101.0</td>\n",
       "      <td>2016-08-03</td>\n",
       "      <td>215.0</td>\n",
       "      <td>0.008038</td>\n",
       "    </tr>\n",
       "    <tr>\n",
       "      <th>15</th>\n",
       "      <td>10982015</td>\n",
       "      <td>3101.0</td>\n",
       "      <td>2017-01-30</td>\n",
       "      <td>30.0</td>\n",
       "      <td>0.018386</td>\n",
       "    </tr>\n",
       "    <tr>\n",
       "      <th>16</th>\n",
       "      <td>11228135</td>\n",
       "      <td>3101.0</td>\n",
       "      <td>2017-05-12</td>\n",
       "      <td>132.0</td>\n",
       "      <td>0.005966</td>\n",
       "    </tr>\n",
       "    <tr>\n",
       "      <th>17</th>\n",
       "      <td>17289071</td>\n",
       "      <td>2061.0</td>\n",
       "      <td>2017-06-28</td>\n",
       "      <td>179.0</td>\n",
       "      <td>0.010030</td>\n",
       "    </tr>\n",
       "    <tr>\n",
       "      <th>18</th>\n",
       "      <td>11093150</td>\n",
       "      <td>3101.0</td>\n",
       "      <td>2016-07-28</td>\n",
       "      <td>209.0</td>\n",
       "      <td>0.011585</td>\n",
       "    </tr>\n",
       "    <tr>\n",
       "      <th>19</th>\n",
       "      <td>12831060</td>\n",
       "      <td>3101.0</td>\n",
       "      <td>2016-09-02</td>\n",
       "      <td>245.0</td>\n",
       "      <td>0.016233</td>\n",
       "    </tr>\n",
       "  </tbody>\n",
       "</table>\n",
       "</div>"
      ],
      "text/plain": [
       "    parcelid  regionidcounty transactiondate  int_transactiondate  \\\n",
       "0   14217523          1286.0      2017-08-02                214.0   \n",
       "1   11199964          3101.0      2017-07-11                192.0   \n",
       "2   12627031          3101.0      2016-04-15                105.0   \n",
       "3   13992985          1286.0      2017-05-02                122.0   \n",
       "4   12086693          3101.0      2016-10-13                286.0   \n",
       "5   14152642          1286.0      2016-06-13                164.0   \n",
       "6   17210760          2061.0      2017-01-03                  3.0   \n",
       "7   14145516          1286.0      2016-08-15                227.0   \n",
       "8   14696645          1286.0      2016-10-20                293.0   \n",
       "9   11697737          3101.0      2016-08-11                223.0   \n",
       "10  14071157          1286.0      2016-05-27                147.0   \n",
       "11  14209240          1286.0      2017-08-10                222.0   \n",
       "12  12375928          3101.0      2017-06-09                160.0   \n",
       "13  12480158          3101.0      2017-05-16                136.0   \n",
       "14  10988496          3101.0      2016-08-03                215.0   \n",
       "15  10982015          3101.0      2017-01-30                 30.0   \n",
       "16  11228135          3101.0      2017-05-12                132.0   \n",
       "17  17289071          2061.0      2017-06-28                179.0   \n",
       "18  11093150          3101.0      2016-07-28                209.0   \n",
       "19  12831060          3101.0      2016-09-02                245.0   \n",
       "\n",
       "    period_mean_price  \n",
       "0            0.018485  \n",
       "1            0.011598  \n",
       "2            0.005537  \n",
       "3            0.010939  \n",
       "4            0.015765  \n",
       "5            0.008718  \n",
       "6            0.020255  \n",
       "7            0.012602  \n",
       "8            0.022827  \n",
       "9            0.008038  \n",
       "10           0.008571  \n",
       "11           0.018485  \n",
       "12           0.009990  \n",
       "13           0.005966  \n",
       "14           0.008038  \n",
       "15           0.018386  \n",
       "16           0.005966  \n",
       "17           0.010030  \n",
       "18           0.011585  \n",
       "19           0.016233  "
      ]
     },
     "execution_count": 80,
     "metadata": {},
     "output_type": "execute_result"
    }
   ],
   "source": [
    "X_train.loc[:,['parcelid', 'regionidcounty', 'transactiondate', 'int_transactiondate', 'period_mean_price']].head(20)"
   ]
  },
  {
   "cell_type": "code",
   "execution_count": 81,
   "id": "b07d57a6",
   "metadata": {},
   "outputs": [],
   "source": [
    "for X in [X_train, X_val, X_test]:\n",
    "    X = remove_column(X, ['transactiondate'])"
   ]
  },
  {
   "cell_type": "markdown",
   "id": "ede91d31",
   "metadata": {},
   "source": [
    "## Media delle transazioni delle case vicine ##"
   ]
  },
  {
   "cell_type": "markdown",
   "id": "ed95e3e0",
   "metadata": {},
   "source": [
    "La longitudine ha sempre valori negativi, ne effettuo una trasformazione in valore assoluto per semplificare i conti pur mantendendo la stessa informazione"
   ]
  },
  {
   "cell_type": "code",
   "execution_count": 82,
   "id": "59450c8f",
   "metadata": {},
   "outputs": [],
   "source": [
    "# Given a dataframe set its longitude to positive\n",
    "def abs_longitude(df):\n",
    "    df.loc[:,'longitude'] = abs(df.loc[:,'longitude'])\n",
    "    return df"
   ]
  },
  {
   "cell_type": "code",
   "execution_count": 83,
   "id": "26edf4c0",
   "metadata": {},
   "outputs": [],
   "source": [
    "for X in [X_train, X_val, X_test]:\n",
    "     X = abs_longitude(X)"
   ]
  },
  {
   "cell_type": "code",
   "execution_count": 84,
   "id": "39dc2842",
   "metadata": {},
   "outputs": [],
   "source": [
    "# Given a dataframe, longitude, latitude and distance returns all rows which distance is less or equal to the given distance\n",
    "def get_neighborhood(df, lon, lat, distance):\n",
    "    cond1 = lon - distance <= df.loc[:,'longitude']\n",
    "    cond2 = df.loc[:,'longitude'] <= lon + distance\n",
    "    cond3 = lat - distance <= df.loc[:,'latitude']\n",
    "    cond4 = df.loc[:,'latitude'] <= lat + distance\n",
    "    cond =  list(map(lambda c1, c2, c3, c4: c1 and c2 and c3 and c4, cond1, cond2, cond3, cond4))\n",
    "    return df[cond]\n",
    "\n",
    "def get_neighborhood_mean(df, dfy, lat, lon, distance):\n",
    "    ret = get_neighborhood(df, lat, lon, distance)\n",
    "    indexes = ret.index\n",
    "    return dfy[indexes].mean()"
   ]
  },
  {
   "cell_type": "code",
   "execution_count": 85,
   "id": "b538f41d",
   "metadata": {},
   "outputs": [],
   "source": [
    "# Floor a in_value in a multiple of the distance\n",
    "def round_lat_lon(dim, dist):\n",
    "        return dim - (dim % dist)"
   ]
  },
  {
   "cell_type": "code",
   "execution_count": 86,
   "id": "70e2e1f3",
   "metadata": {},
   "outputs": [],
   "source": [
    "# Given longitude, latitude and distance generate the corresponding key flooring two values\n",
    "def generate_key(lon, lat, dist):\n",
    "    lon = round_lat_lon(lon, dist)\n",
    "    lat = round_lat_lon(lat, dist)\n",
    "    key = f'{lon}_{lat}'\n",
    "    return key"
   ]
  },
  {
   "cell_type": "code",
   "execution_count": 87,
   "id": "b908e08b",
   "metadata": {},
   "outputs": [],
   "source": [
    "# Generate a dictionary with the mean log-error of the neighborhood, defined by the given distance.\n",
    "def create_distance_dict(df, dfy, dist):\n",
    "    \n",
    "    lon_start = round_lat_lon(df.loc[:,'longitude'].min(), dist)\n",
    "    lon_end   = round_lat_lon(df.loc[:,'longitude'].max(), dist)\n",
    "    lat_start = round_lat_lon(df.loc[:,'latitude' ].min(), dist)\n",
    "    lat_end   = round_lat_lon(df.loc[:,'latitude' ].max(), dist)\n",
    "    \n",
    "    dict_dist = {}\n",
    "    \n",
    "    lon = lon_start\n",
    "    lat = lat_start\n",
    "    \n",
    "    while(lon < lon_end):\n",
    "        lat = lat_start\n",
    "        while(lat < lat_end):\n",
    "            key = generate_key(lon, lat, dist)\n",
    "            dict_dist[key] = get_neighborhood_mean(df, dfy, lon, lat, dist)\n",
    "            lat += dist\n",
    "        lon += dist\n",
    "    \n",
    "    return dict_dist\n",
    "    "
   ]
  },
  {
   "cell_type": "code",
   "execution_count": 88,
   "id": "0c16aa67",
   "metadata": {},
   "outputs": [],
   "source": [
    "def add_neighborhood_logerror_column_aux(df, dist, dict_dist):\n",
    "    \n",
    "        df['neighborhood_mean_price'] = np.nan\n",
    "\n",
    "        for i in df.index:\n",
    "            lon = df.at[i,'longitude']\n",
    "            lat = df.at[i,'latitude']\n",
    "            key = generate_key(lon, lat, dist)\n",
    "            try:\n",
    "                df.at[i, 'neighborhood_mean_price'] = dict_dist[key]\n",
    "            except:\n",
    "                print(f'Chiave {key} non esiste')\n",
    "                pass   \n",
    "            \n",
    "        return df\n",
    "\n",
    "# Given a list of dataframes, train datataset and its target and a distance\n",
    "# add a column with the mean-price of the neighborhood defined from the distance given\n",
    "def add_neighborhood_logerror_column(df_list, dfx, dfy, distance):\n",
    "\n",
    "    dict_dist = create_distance_dict(\n",
    "        dfx,\n",
    "        dfy,\n",
    "        distance\n",
    "    )\n",
    "    \n",
    "    for df in df_list:\n",
    "        df = add_neighborhood_logerror_column_aux(df, distance, dict_dist)"
   ]
  },
  {
   "cell_type": "code",
   "execution_count": 89,
   "id": "48db4da1",
   "metadata": {},
   "outputs": [],
   "source": [
    "DIST = 30000"
   ]
  },
  {
   "cell_type": "code",
   "execution_count": 90,
   "id": "2f708780",
   "metadata": {},
   "outputs": [
    {
     "name": "stdout",
     "output_type": "stream",
     "text": [
      "Chiave 118260000.0_34800000.0 non esiste\n",
      "Chiave 118230000.0_34800000.0 non esiste\n",
      "Chiave 119430000.0_34380000.0 non esiste\n",
      "Chiave 119430000.0_34350000.0 non esiste\n",
      "Chiave 119430000.0_34350000.0 non esiste\n",
      "Chiave 118230000.0_34800000.0 non esiste\n",
      "Chiave 118230000.0_34800000.0 non esiste\n",
      "Chiave 119430000.0_34350000.0 non esiste\n",
      "Chiave 118260000.0_34800000.0 non esiste\n",
      "Chiave 119430000.0_34350000.0 non esiste\n",
      "Chiave 119430000.0_34350000.0 non esiste\n",
      "Chiave 119430000.0_34350000.0 non esiste\n",
      "Chiave 118230000.0_34800000.0 non esiste\n",
      "Chiave 118320000.0_34800000.0 non esiste\n",
      "Chiave 118260000.0_34800000.0 non esiste\n",
      "Chiave 119430000.0_34350000.0 non esiste\n",
      "Chiave 118230000.0_34800000.0 non esiste\n",
      "Chiave 119460000.0_34350000.0 non esiste\n",
      "Chiave 118410000.0_34800000.0 non esiste\n",
      "Chiave 119430000.0_34350000.0 non esiste\n"
     ]
    }
   ],
   "source": [
    "add_neighborhood_logerror_column([X_train, X_val, X_test], X_train, y_train, DIST)"
   ]
  },
  {
   "cell_type": "markdown",
   "id": "9cafbb6a",
   "metadata": {},
   "source": [
    "Alcuni valori non coperti dal Train, in Validation e Test avranno valore Nan"
   ]
  },
  {
   "cell_type": "code",
   "execution_count": 91,
   "id": "76863bb6",
   "metadata": {},
   "outputs": [],
   "source": [
    "for X in [X_train, X_val, X_test]:\n",
    "    sum(X.loc[:,'neighborhood_mean_price'].isna())"
   ]
  },
  {
   "cell_type": "code",
   "execution_count": 92,
   "id": "aad91141",
   "metadata": {},
   "outputs": [
    {
     "data": {
      "text/html": [
       "<div>\n",
       "<style scoped>\n",
       "    .dataframe tbody tr th:only-of-type {\n",
       "        vertical-align: middle;\n",
       "    }\n",
       "\n",
       "    .dataframe tbody tr th {\n",
       "        vertical-align: top;\n",
       "    }\n",
       "\n",
       "    .dataframe thead th {\n",
       "        text-align: right;\n",
       "    }\n",
       "</style>\n",
       "<table border=\"1\" class=\"dataframe\">\n",
       "  <thead>\n",
       "    <tr style=\"text-align: right;\">\n",
       "      <th></th>\n",
       "      <th>parcelid</th>\n",
       "      <th>longitude</th>\n",
       "      <th>latitude</th>\n",
       "      <th>neighborhood_mean_price</th>\n",
       "    </tr>\n",
       "  </thead>\n",
       "  <tbody>\n",
       "    <tr>\n",
       "      <th>0</th>\n",
       "      <td>14217523</td>\n",
       "      <td>117760080.0</td>\n",
       "      <td>33834352.0</td>\n",
       "      <td>0.017423</td>\n",
       "    </tr>\n",
       "    <tr>\n",
       "      <th>1</th>\n",
       "      <td>11199964</td>\n",
       "      <td>118103008.0</td>\n",
       "      <td>34563684.0</td>\n",
       "      <td>-0.002890</td>\n",
       "    </tr>\n",
       "    <tr>\n",
       "      <th>2</th>\n",
       "      <td>12627031</td>\n",
       "      <td>118277552.0</td>\n",
       "      <td>33791928.0</td>\n",
       "      <td>0.017852</td>\n",
       "    </tr>\n",
       "    <tr>\n",
       "      <th>3</th>\n",
       "      <td>13992985</td>\n",
       "      <td>117946520.0</td>\n",
       "      <td>33829112.0</td>\n",
       "      <td>0.006387</td>\n",
       "    </tr>\n",
       "    <tr>\n",
       "      <th>4</th>\n",
       "      <td>12086693</td>\n",
       "      <td>118232000.0</td>\n",
       "      <td>34139900.0</td>\n",
       "      <td>-0.002875</td>\n",
       "    </tr>\n",
       "    <tr>\n",
       "      <th>5</th>\n",
       "      <td>14152642</td>\n",
       "      <td>117926168.0</td>\n",
       "      <td>33936776.0</td>\n",
       "      <td>0.003294</td>\n",
       "    </tr>\n",
       "    <tr>\n",
       "      <th>6</th>\n",
       "      <td>17210760</td>\n",
       "      <td>118869328.0</td>\n",
       "      <td>34224248.0</td>\n",
       "      <td>0.018469</td>\n",
       "    </tr>\n",
       "    <tr>\n",
       "      <th>7</th>\n",
       "      <td>14145516</td>\n",
       "      <td>117940552.0</td>\n",
       "      <td>33907560.0</td>\n",
       "      <td>0.007479</td>\n",
       "    </tr>\n",
       "    <tr>\n",
       "      <th>8</th>\n",
       "      <td>14696645</td>\n",
       "      <td>117833896.0</td>\n",
       "      <td>33608692.0</td>\n",
       "      <td>0.021820</td>\n",
       "    </tr>\n",
       "    <tr>\n",
       "      <th>9</th>\n",
       "      <td>11697737</td>\n",
       "      <td>118341384.0</td>\n",
       "      <td>33992188.0</td>\n",
       "      <td>-0.006688</td>\n",
       "    </tr>\n",
       "    <tr>\n",
       "      <th>10</th>\n",
       "      <td>14071157</td>\n",
       "      <td>117991024.0</td>\n",
       "      <td>33714372.0</td>\n",
       "      <td>0.009464</td>\n",
       "    </tr>\n",
       "    <tr>\n",
       "      <th>11</th>\n",
       "      <td>14209240</td>\n",
       "      <td>117825080.0</td>\n",
       "      <td>33848864.0</td>\n",
       "      <td>0.019038</td>\n",
       "    </tr>\n",
       "    <tr>\n",
       "      <th>12</th>\n",
       "      <td>12375928</td>\n",
       "      <td>118115272.0</td>\n",
       "      <td>34014304.0</td>\n",
       "      <td>0.015102</td>\n",
       "    </tr>\n",
       "    <tr>\n",
       "      <th>13</th>\n",
       "      <td>12480158</td>\n",
       "      <td>118108120.0</td>\n",
       "      <td>33865344.0</td>\n",
       "      <td>0.018492</td>\n",
       "    </tr>\n",
       "    <tr>\n",
       "      <th>14</th>\n",
       "      <td>10988496</td>\n",
       "      <td>118371936.0</td>\n",
       "      <td>34250192.0</td>\n",
       "      <td>0.007338</td>\n",
       "    </tr>\n",
       "    <tr>\n",
       "      <th>15</th>\n",
       "      <td>10982015</td>\n",
       "      <td>118379000.0</td>\n",
       "      <td>34275600.0</td>\n",
       "      <td>0.011258</td>\n",
       "    </tr>\n",
       "    <tr>\n",
       "      <th>16</th>\n",
       "      <td>11228135</td>\n",
       "      <td>117970096.0</td>\n",
       "      <td>34533360.0</td>\n",
       "      <td>0.020102</td>\n",
       "    </tr>\n",
       "    <tr>\n",
       "      <th>17</th>\n",
       "      <td>17289071</td>\n",
       "      <td>118805160.0</td>\n",
       "      <td>34159224.0</td>\n",
       "      <td>0.007006</td>\n",
       "    </tr>\n",
       "    <tr>\n",
       "      <th>18</th>\n",
       "      <td>11093150</td>\n",
       "      <td>118514960.0</td>\n",
       "      <td>34241808.0</td>\n",
       "      <td>0.014025</td>\n",
       "    </tr>\n",
       "    <tr>\n",
       "      <th>19</th>\n",
       "      <td>12831060</td>\n",
       "      <td>117964736.0</td>\n",
       "      <td>33948352.0</td>\n",
       "      <td>0.014360</td>\n",
       "    </tr>\n",
       "  </tbody>\n",
       "</table>\n",
       "</div>"
      ],
      "text/plain": [
       "    parcelid    longitude    latitude  neighborhood_mean_price\n",
       "0   14217523  117760080.0  33834352.0                 0.017423\n",
       "1   11199964  118103008.0  34563684.0                -0.002890\n",
       "2   12627031  118277552.0  33791928.0                 0.017852\n",
       "3   13992985  117946520.0  33829112.0                 0.006387\n",
       "4   12086693  118232000.0  34139900.0                -0.002875\n",
       "5   14152642  117926168.0  33936776.0                 0.003294\n",
       "6   17210760  118869328.0  34224248.0                 0.018469\n",
       "7   14145516  117940552.0  33907560.0                 0.007479\n",
       "8   14696645  117833896.0  33608692.0                 0.021820\n",
       "9   11697737  118341384.0  33992188.0                -0.006688\n",
       "10  14071157  117991024.0  33714372.0                 0.009464\n",
       "11  14209240  117825080.0  33848864.0                 0.019038\n",
       "12  12375928  118115272.0  34014304.0                 0.015102\n",
       "13  12480158  118108120.0  33865344.0                 0.018492\n",
       "14  10988496  118371936.0  34250192.0                 0.007338\n",
       "15  10982015  118379000.0  34275600.0                 0.011258\n",
       "16  11228135  117970096.0  34533360.0                 0.020102\n",
       "17  17289071  118805160.0  34159224.0                 0.007006\n",
       "18  11093150  118514960.0  34241808.0                 0.014025\n",
       "19  12831060  117964736.0  33948352.0                 0.014360"
      ]
     },
     "execution_count": 92,
     "metadata": {},
     "output_type": "execute_result"
    }
   ],
   "source": [
    "X_train.loc[:,['parcelid', 'longitude', 'latitude', 'neighborhood_mean_price']].head(20)"
   ]
  },
  {
   "cell_type": "markdown",
   "id": "2a069dc2",
   "metadata": {},
   "source": [
    "## Colonne aggiuntive calcolate su rapporti ##"
   ]
  },
  {
   "cell_type": "code",
   "execution_count": 93,
   "id": "083ff9e2",
   "metadata": {},
   "outputs": [],
   "source": [
    "# Add three columns to the given dataset dividing other two\n",
    "def add_tax_info(df):\n",
    "    df['living_area_prop'] = df['calculatedfinishedsquarefeet'] / df['lotsizesquarefeet']\n",
    "    df['tax_ratio']        = df['taxvaluedollarcnt']            / df['taxamount']\n",
    "    df['tax_prop']         = df['structuretaxvaluedollarcnt']   / df['landtaxvaluedollarcnt']\n",
    "    return df"
   ]
  },
  {
   "cell_type": "code",
   "execution_count": 94,
   "id": "e8f7d44d",
   "metadata": {},
   "outputs": [],
   "source": [
    "for df in [X_train, X_val, X_test]:\n",
    "    df = add_tax_info(df)"
   ]
  },
  {
   "cell_type": "markdown",
   "id": "c0eb404c",
   "metadata": {},
   "source": [
    "## Valori discreti ##"
   ]
  },
  {
   "cell_type": "code",
   "execution_count": 95,
   "id": "56ef29ed",
   "metadata": {},
   "outputs": [],
   "source": [
    "# Given a dataframe and a cut-off returns a list of column-names which has less than cut-off different values\n",
    "def get_discrete(df, cutoff):\n",
    "    discretes = []\n",
    "    for col_name in df.columns:\n",
    "        values_count = len(get_col(df,col_name).unique())\n",
    "        if values_count < cutoff:\n",
    "            discretes.append(col_name)\n",
    "    return discretes\n",
    "\n",
    "# Given a list of columns prints for each column all his differente values\n",
    "def discrete_info(df, discretes):\n",
    "    for discrete in discretes:\n",
    "        values = get_col(df, discrete).unique()\n",
    "        print(f'{discrete}\\n{values} ({len(values)})\\n')"
   ]
  },
  {
   "cell_type": "code",
   "execution_count": 96,
   "id": "c614878d",
   "metadata": {},
   "outputs": [
    {
     "name": "stdout",
     "output_type": "stream",
     "text": [
      "bathroomcnt\n",
      "[ 2.5  3.   2.   1.   4.   1.5  5.   3.5  0.   4.5  6.   6.5  5.5  8.\n",
      " 10.   7.5  7.  15.   9.  11.  18.  13.  12.   8.5] (24)\n",
      "\n",
      "bedroomcnt\n",
      "[ 3.  4.  5.  0.  2.  1.  6.  8.  7.  9. 10. 12. 11. 16. 14. 13.] (16)\n",
      "\n",
      "buildingqualitytypeid\n",
      "[nan  8.  7.  4.  6. 10.  9.  1.  5. 11. 12.  3.  2.] (13)\n",
      "\n",
      "calculatedbathnbr\n",
      "[ 2.5  3.   2.   1.   4.   1.5  5.   3.5  nan  4.5  6.   6.5  5.5  8.\n",
      " 10.   7.5  7.  15.   9.  11.  18.  13.  12.   8.5] (24)\n",
      "\n",
      "fips\n",
      "[6059. 6037. 6111.] (3)\n",
      "\n",
      "fireplacecnt\n",
      "[0. 1. 2. 3. 4. 5.] (6)\n",
      "\n",
      "heatingorsystemtypeid\n",
      "[nan  2.  7. 24.  6. 13. 20. 18.  1. 11. 10. 12.] (12)\n",
      "\n",
      "poolcnt\n",
      "[0. 1.] (2)\n",
      "\n",
      "propertycountylandusecode\n",
      "['122' '0100' 'rare' '34' '010C' '0101'] (6)\n",
      "\n",
      "propertylandusetypeid\n",
      "[261. 266. 269. 247. 265. 246. 275. 267. 260. 248. 263.  31. 264.] (13)\n",
      "\n",
      "propertyzoningdesc\n",
      "['rare' 'LAR1' 'LAR3' 'LARD1.5' 'LBR1N' 'LARS'] (6)\n",
      "\n",
      "regionidcounty\n",
      "[1286. 3101. 2061.] (3)\n",
      "\n",
      "roomcnt\n",
      "[ 7.  0.  8.  6.  5.  4.  9. 10.  3.  2. 11. 15. 12. 13. 14.  1.] (16)\n",
      "\n",
      "unitcnt\n",
      "[ nan   1.   3.   2.   4. 143.   9.  70.   6. 237.  11.] (11)\n",
      "\n",
      "assessmentyear\n",
      "[2016. 2015.] (2)\n",
      "\n"
     ]
    }
   ],
   "source": [
    "discrete_info(X_train, get_discrete(X_train, 30))"
   ]
  },
  {
   "cell_type": "code",
   "execution_count": 97,
   "id": "18ae0fcc",
   "metadata": {},
   "outputs": [],
   "source": [
    "# Valori discreti: cateogirci e ordinali\n",
    "categorical = ['fips',\\\n",
    "               'heatingorsystemtypeid',\\\n",
    "               'poolcnt',\\\n",
    "               'propertycountylandusecode',\\\n",
    "               'propertylandusetypeid',\\\n",
    "               'propertyzoningdesc',\\\n",
    "               'regionidcounty'\\\n",
    "              ]\n",
    "ordinal = ['bathroomcnt',\\\n",
    "           'bedroomcnt',\\\n",
    "           'buildingqualitytypeid',\\\n",
    "           'calculatedbathnbr',\\\n",
    "           'fireplacecnt',\\\n",
    "           'roomcnt',\\\n",
    "           'unitcnt'\\\n",
    "          ]"
   ]
  },
  {
   "cell_type": "code",
   "execution_count": 98,
   "id": "ee50816b",
   "metadata": {},
   "outputs": [],
   "source": [
    "# Valori continui: numerici:\n",
    "numeric = list(set(X_train.columns) - set(categorical + ordinal) - {'parcelid'})"
   ]
  },
  {
   "cell_type": "code",
   "execution_count": 99,
   "id": "e69c896a",
   "metadata": {},
   "outputs": [
    {
     "name": "stdout",
     "output_type": "stream",
     "text": [
      "<class 'pandas.core.frame.DataFrame'>\n",
      "Int64Index: 99709 entries, 0 to 100731\n",
      "Data columns (total 20 columns):\n",
      " #   Column                        Non-Null Count  Dtype  \n",
      "---  ------                        --------------  -----  \n",
      " 0   lotsizesquarefeet             88847 non-null  float32\n",
      " 1   latitude                      99709 non-null  float32\n",
      " 2   structuretaxvaluedollarcnt    99436 non-null  float32\n",
      " 3   neighborhood_mean_price       99700 non-null  float64\n",
      " 4   longitude                     99709 non-null  float32\n",
      " 5   living_area_prop              88583 non-null  float32\n",
      " 6   tax_prop                      99436 non-null  float32\n",
      " 7   calculatedfinishedsquarefeet  99224 non-null  float32\n",
      " 8   regionidcity                  97773 non-null  float32\n",
      " 9   int_transactiondate           99709 non-null  float64\n",
      " 10  yearbuilt                     99138 non-null  float32\n",
      " 11  regionidzip                   99661 non-null  float32\n",
      " 12  finishedsquarefeet12          94874 non-null  float32\n",
      " 13  taxamount                     99699 non-null  float32\n",
      " 14  landtaxvaluedollarcnt         99708 non-null  float32\n",
      " 15  assessmentyear                99709 non-null  float32\n",
      " 16  tax_ratio                     99698 non-null  float32\n",
      " 17  period_mean_price             99709 non-null  float64\n",
      " 18  rawcensustractandblock        99709 non-null  float32\n",
      " 19  taxvaluedollarcnt             99708 non-null  float32\n",
      "dtypes: float32(17), float64(3)\n",
      "memory usage: 11.5 MB\n"
     ]
    }
   ],
   "source": [
    "X_train[numeric].info()"
   ]
  },
  {
   "cell_type": "code",
   "execution_count": 100,
   "id": "eb3ad8ff",
   "metadata": {},
   "outputs": [
    {
     "name": "stdout",
     "output_type": "stream",
     "text": [
      "X_train (99709, 35)\n",
      "X_val   (33572, 35)\n",
      "X_test  (33567, 35)\n"
     ]
    }
   ],
   "source": [
    "dimensionality()"
   ]
  },
  {
   "cell_type": "code",
   "execution_count": 101,
   "id": "29b1f7d3",
   "metadata": {},
   "outputs": [
    {
     "data": {
      "text/plain": [
       "35"
      ]
     },
     "execution_count": 101,
     "metadata": {},
     "output_type": "execute_result"
    }
   ],
   "source": [
    "len(numeric) + len(categorical) + len(ordinal) + 1"
   ]
  },
  {
   "cell_type": "code",
   "execution_count": 102,
   "id": "03538cb9",
   "metadata": {},
   "outputs": [],
   "source": [
    "def dim_check():\n",
    "    return X_train.shape[1] == len(numeric) + len(categorical) + len(ordinal) + 1"
   ]
  },
  {
   "cell_type": "code",
   "execution_count": 103,
   "id": "cda9236d",
   "metadata": {},
   "outputs": [
    {
     "data": {
      "text/plain": [
       "True"
      ]
     },
     "execution_count": 103,
     "metadata": {},
     "output_type": "execute_result"
    }
   ],
   "source": [
    "dim_check()"
   ]
  },
  {
   "cell_type": "code",
   "execution_count": 104,
   "id": "d90716a6",
   "metadata": {},
   "outputs": [
    {
     "name": "stdout",
     "output_type": "stream",
     "text": [
      "Numeric:\n",
      "['lotsizesquarefeet', 'latitude', 'structuretaxvaluedollarcnt', 'neighborhood_mean_price', 'longitude', 'living_area_prop', 'tax_prop', 'calculatedfinishedsquarefeet', 'regionidcity', 'int_transactiondate', 'yearbuilt', 'regionidzip', 'finishedsquarefeet12', 'taxamount', 'landtaxvaluedollarcnt', 'assessmentyear', 'tax_ratio', 'period_mean_price', 'rawcensustractandblock', 'taxvaluedollarcnt'] (20)\n",
      "\n",
      "Categorical:\n",
      "['fips', 'heatingorsystemtypeid', 'poolcnt', 'propertycountylandusecode', 'propertylandusetypeid', 'propertyzoningdesc', 'regionidcounty'] (7)\n",
      "\n",
      "Ordinal:\n",
      "['bathroomcnt', 'bedroomcnt', 'buildingqualitytypeid', 'calculatedbathnbr', 'fireplacecnt', 'roomcnt', 'unitcnt'] (7)\n",
      "\n"
     ]
    }
   ],
   "source": [
    "print(f'Numeric:\\n{numeric} ({len(numeric)})\\n')\n",
    "print(f'Categorical:\\n{categorical} ({len(categorical)})\\n')\n",
    "print(f'Ordinal:\\n{ordinal} ({len(ordinal)})\\n')"
   ]
  },
  {
   "cell_type": "markdown",
   "id": "aeef4f13",
   "metadata": {},
   "source": [
    "## Missing Values: numerici e ordinali ##"
   ]
  },
  {
   "cell_type": "markdown",
   "id": "5ba7ae86",
   "metadata": {},
   "source": [
    "Controllo la percentuale di missing value in questi tipi di dati per controllare se è sensato inserire le missing-flags"
   ]
  },
  {
   "cell_type": "code",
   "execution_count": 105,
   "id": "55b8b79b",
   "metadata": {},
   "outputs": [],
   "source": [
    "def over_nan_percentage(colnames, cutoff, verbose=False):\n",
    "    over = []\n",
    "    for cn in colnames:\n",
    "        col = get_col(X_train, cn)\n",
    "        _, perc = get_col_nan_info(col)\n",
    "        if verbose:\n",
    "            print(f'{cn}: {perc}')\n",
    "        if perc > cutoff:\n",
    "            over.append(cn)\n",
    "    return over"
   ]
  },
  {
   "cell_type": "code",
   "execution_count": 106,
   "id": "0a95d390",
   "metadata": {},
   "outputs": [
    {
     "name": "stdout",
     "output_type": "stream",
     "text": [
      "lotsizesquarefeet: 0.10893700668946635\n",
      "latitude: 0.0\n",
      "structuretaxvaluedollarcnt: 0.002737967485382463\n",
      "neighborhood_mean_price: 9.0262664353268e-05\n",
      "longitude: 0.0\n",
      "living_area_prop: 0.11158471151049554\n",
      "tax_prop: 0.002737967485382463\n",
      "calculatedfinishedsquarefeet: 0.004864154690148332\n",
      "regionidcity: 0.019416502020880765\n",
      "int_transactiondate: 0.0\n",
      "yearbuilt: 0.0057266645939684484\n",
      "regionidzip: 0.00048140087655076274\n",
      "finishedsquarefeet12: 0.0484911091275612\n",
      "taxamount: 0.0001002918492814089\n",
      "landtaxvaluedollarcnt: 1.002918492814089e-05\n",
      "assessmentyear: 0.0\n",
      "tax_ratio: 0.00011032103420954979\n",
      "period_mean_price: 0.0\n",
      "rawcensustractandblock: 0.0\n",
      "taxvaluedollarcnt: 1.002918492814089e-05\n",
      "bathroomcnt: 0.0\n",
      "bedroomcnt: 0.0\n",
      "buildingqualitytypeid: 0.3625650643372213\n",
      "calculatedbathnbr: 0.010149535147278581\n",
      "fireplacecnt: 0.0\n",
      "roomcnt: 0.0\n",
      "unitcnt: 0.35170345706004474\n"
     ]
    },
    {
     "data": {
      "text/plain": [
       "['buildingqualitytypeid', 'unitcnt']"
      ]
     },
     "execution_count": 106,
     "metadata": {},
     "output_type": "execute_result"
    }
   ],
   "source": [
    "put_nan_flag = over_nan_percentage(numeric+ordinal, 0.2, verbose=True)\n",
    "put_nan_flag"
   ]
  },
  {
   "cell_type": "markdown",
   "id": "6508850c",
   "metadata": {},
   "source": [
    "I missing value hanno una bassissima percentaule, scelgo di non usare i missing-flag, fatta eccezione per unitcnt. <br>\n",
    "Uso il missing flag per unitcnt"
   ]
  },
  {
   "cell_type": "code",
   "execution_count": 107,
   "id": "4d93eae2",
   "metadata": {},
   "outputs": [],
   "source": [
    "# Given a dataframe and a column_name adds the missing flag\n",
    "def add_missing_flag(df, col_name):\n",
    "    df[col_name+'_na_flag'] = df.loc[:,col_name].isna().astype(int)\n",
    "    return df"
   ]
  },
  {
   "cell_type": "code",
   "execution_count": 108,
   "id": "80366b28",
   "metadata": {},
   "outputs": [],
   "source": [
    "for df in [X_train, X_val, X_test]:\n",
    "    for cname in put_nan_flag:\n",
    "        df = add_missing_flag(df, cname)"
   ]
  },
  {
   "cell_type": "code",
   "execution_count": 109,
   "id": "4875c3f1",
   "metadata": {
    "scrolled": false
   },
   "outputs": [
    {
     "name": "stdout",
     "output_type": "stream",
     "text": [
      "        buildingqualitytypeid  buildingqualitytypeid_na_flag\n",
      "0                         NaN                              1\n",
      "1                         8.0                              0\n",
      "2                         7.0                              0\n",
      "3                         NaN                              1\n",
      "4                         4.0                              0\n",
      "...                       ...                            ...\n",
      "100727                    7.0                              0\n",
      "100728                    NaN                              1\n",
      "100729                    NaN                              1\n",
      "100730                    NaN                              1\n",
      "100731                    7.0                              0\n",
      "\n",
      "[99709 rows x 2 columns]\n",
      "        unitcnt  unitcnt_na_flag\n",
      "0           NaN                1\n",
      "1           1.0                0\n",
      "2           1.0                0\n",
      "3           NaN                1\n",
      "4           1.0                0\n",
      "...         ...              ...\n",
      "100727      1.0                0\n",
      "100728      NaN                1\n",
      "100729      NaN                1\n",
      "100730      NaN                1\n",
      "100731      1.0                0\n",
      "\n",
      "[99709 rows x 2 columns]\n"
     ]
    }
   ],
   "source": [
    "for cname in put_nan_flag:\n",
    "    print(X_train.loc[:, [cname, cname+'_na_flag']])"
   ]
  },
  {
   "cell_type": "code",
   "execution_count": 110,
   "id": "6685cb07",
   "metadata": {},
   "outputs": [
    {
     "name": "stdout",
     "output_type": "stream",
     "text": [
      "X_train (99709, 37)\n",
      "X_val   (33572, 37)\n",
      "X_test  (33567, 37)\n"
     ]
    }
   ],
   "source": [
    "dimensionality()"
   ]
  },
  {
   "cell_type": "code",
   "execution_count": 111,
   "id": "3b6c6627",
   "metadata": {},
   "outputs": [],
   "source": [
    "# Given a dataframe and its column names fill its Nans with the median value of the column for that region\n",
    "def fill_nan_with_median_same_country(df, col_names, country_ids):   \n",
    "    for country_id in country_ids:\n",
    "        df_sub = df[df.loc[:,'regionidcounty'] == country_id]\n",
    "        df_sub = fill_nan_with_median(df_sub, col_names)\n",
    "    return df\n",
    "\n",
    "# Given a dataframe and its column names fill its Nans with the median value of the column\n",
    "def fill_nan_with_median(df, col_names):   \n",
    "    for col_name in col_names:\n",
    "        df[col_name] = df[col_name].fillna(get_col(df, col_name).median())\n",
    "    return df"
   ]
  },
  {
   "cell_type": "code",
   "execution_count": 112,
   "id": "39fcd3b3",
   "metadata": {},
   "outputs": [],
   "source": [
    "for X in [X_train, X_val, X_test]:\n",
    "    X = fill_nan_with_median(X, numeric+ordinal)\n",
    "    # X = fill_nan_with_median_same_country(X, numeric+ordinal, [1286., 2061., 3101.])"
   ]
  },
  {
   "cell_type": "code",
   "execution_count": 113,
   "id": "0676dc15",
   "metadata": {},
   "outputs": [
    {
     "name": "stdout",
     "output_type": "stream",
     "text": [
      "<class 'pandas.core.frame.DataFrame'>\n",
      "Int64Index: 99709 entries, 0 to 100731\n",
      "Data columns (total 27 columns):\n",
      " #   Column                        Non-Null Count  Dtype  \n",
      "---  ------                        --------------  -----  \n",
      " 0   lotsizesquarefeet             99709 non-null  float32\n",
      " 1   latitude                      99709 non-null  float32\n",
      " 2   structuretaxvaluedollarcnt    99709 non-null  float32\n",
      " 3   neighborhood_mean_price       99709 non-null  float64\n",
      " 4   longitude                     99709 non-null  float32\n",
      " 5   living_area_prop              99709 non-null  float32\n",
      " 6   tax_prop                      99709 non-null  float32\n",
      " 7   calculatedfinishedsquarefeet  99709 non-null  float32\n",
      " 8   regionidcity                  99709 non-null  float32\n",
      " 9   int_transactiondate           99709 non-null  float64\n",
      " 10  yearbuilt                     99709 non-null  float32\n",
      " 11  regionidzip                   99709 non-null  float32\n",
      " 12  finishedsquarefeet12          99709 non-null  float32\n",
      " 13  taxamount                     99709 non-null  float32\n",
      " 14  landtaxvaluedollarcnt         99709 non-null  float32\n",
      " 15  assessmentyear                99709 non-null  float32\n",
      " 16  tax_ratio                     99709 non-null  float32\n",
      " 17  period_mean_price             99709 non-null  float64\n",
      " 18  rawcensustractandblock        99709 non-null  float32\n",
      " 19  taxvaluedollarcnt             99709 non-null  float32\n",
      " 20  bathroomcnt                   99709 non-null  float32\n",
      " 21  bedroomcnt                    99709 non-null  float32\n",
      " 22  buildingqualitytypeid         99709 non-null  float32\n",
      " 23  calculatedbathnbr             99709 non-null  float32\n",
      " 24  fireplacecnt                  99709 non-null  float32\n",
      " 25  roomcnt                       99709 non-null  float32\n",
      " 26  unitcnt                       99709 non-null  float32\n",
      "dtypes: float32(24), float64(3)\n",
      "memory usage: 14.2 MB\n"
     ]
    }
   ],
   "source": [
    "X_train[numeric + ordinal].info()"
   ]
  },
  {
   "cell_type": "markdown",
   "id": "7511c8ca",
   "metadata": {},
   "source": [
    "## One-hot encoding delle variabili categoriali ##"
   ]
  },
  {
   "cell_type": "code",
   "execution_count": 114,
   "id": "53b32b2b",
   "metadata": {},
   "outputs": [
    {
     "data": {
      "text/plain": [
       "['fips',\n",
       " 'heatingorsystemtypeid',\n",
       " 'poolcnt',\n",
       " 'propertycountylandusecode',\n",
       " 'propertylandusetypeid',\n",
       " 'propertyzoningdesc',\n",
       " 'regionidcounty']"
      ]
     },
     "execution_count": 114,
     "metadata": {},
     "output_type": "execute_result"
    }
   ],
   "source": [
    "categorical"
   ]
  },
  {
   "cell_type": "code",
   "execution_count": 115,
   "id": "1baa16ba",
   "metadata": {},
   "outputs": [],
   "source": [
    "# Given a train-dataframe, its column-names and a list of dataframes,\n",
    "# trains a one-hot-encoder to the train\n",
    "# makes a one-hot-enconding for each dataframe\n",
    "def one_hot_encoding(df_fit, col_names, dfs):\n",
    "    oh = OneHotEncoder(sparse=False, handle_unknown='ignore')\n",
    "    oh.fit(df_fit[col_names])\n",
    "    for df in dfs:\n",
    "        encoded = oh.transform(df[col_names])\n",
    "        for i, col in enumerate(oh.get_feature_names(col_names)):\n",
    "            df[col] = encoded[:,i]\n",
    "        df.drop(col_names, axis=1, inplace=True)"
   ]
  },
  {
   "cell_type": "code",
   "execution_count": 116,
   "id": "5a16fc49",
   "metadata": {},
   "outputs": [],
   "source": [
    "one_hot_encoding(X_train, categorical, [X_train, X_val, X_test])"
   ]
  },
  {
   "cell_type": "code",
   "execution_count": 117,
   "id": "0829d6bb",
   "metadata": {},
   "outputs": [
    {
     "name": "stdout",
     "output_type": "stream",
     "text": [
      "X_train (99709, 75)\n",
      "X_val   (33572, 75)\n",
      "X_test  (33567, 75)\n"
     ]
    }
   ],
   "source": [
    "dimensionality()"
   ]
  },
  {
   "cell_type": "markdown",
   "id": "7628108f",
   "metadata": {},
   "source": [
    "Rimuovo colonne che codficano i Nan per One-Hot-Encoding: mantengo righe di soli zeri"
   ]
  },
  {
   "cell_type": "code",
   "execution_count": 118,
   "id": "69b4e4e5",
   "metadata": {},
   "outputs": [
    {
     "name": "stdout",
     "output_type": "stream",
     "text": [
      "['heatingorsystemtypeid_nan']\n"
     ]
    }
   ],
   "source": [
    "nan_column = list(filter(re.compile(\"^.*_nan$\").match, list(X_train.columns)))\n",
    "print(nan_column)"
   ]
  },
  {
   "cell_type": "code",
   "execution_count": 119,
   "id": "82f1e5e7",
   "metadata": {},
   "outputs": [],
   "source": [
    "for X in [X_train, X_val, X_test]:\n",
    "    X = remove_column(X, nan_column)\n",
    "    X = remove_column(X, 'poolcnt_0.0')"
   ]
  },
  {
   "cell_type": "markdown",
   "id": "3f5710fa",
   "metadata": {},
   "source": [
    "Fireplace flag e poolcnt sono variabili binarie"
   ]
  },
  {
   "cell_type": "code",
   "execution_count": 120,
   "id": "7f6d9b5e",
   "metadata": {},
   "outputs": [
    {
     "name": "stdout",
     "output_type": "stream",
     "text": [
      "X_train (99709, 73)\n",
      "X_val   (33572, 73)\n",
      "X_test  (33567, 73)\n"
     ]
    }
   ],
   "source": [
    "dimensionality()"
   ]
  },
  {
   "cell_type": "markdown",
   "id": "b1a1958f",
   "metadata": {},
   "source": [
    "# Scrittura csv #"
   ]
  },
  {
   "cell_type": "code",
   "execution_count": 122,
   "id": "6d38de10",
   "metadata": {},
   "outputs": [],
   "source": [
    "dir_name = 'preparazione'\n",
    "\n",
    "X_train.to_csv(dir_name + '/X_train.csv', index=False)\n",
    "y_train.to_csv(dir_name + '/y_train.csv', index=False)\n",
    "X_val  .to_csv(dir_name + '/X_val.csv',   index=False)\n",
    "y_val  .to_csv(dir_name + '/y_val.csv',   index=False)\n",
    "X_test .to_csv(dir_name + '/X_test.csv',  index=False)\n",
    "y_test .to_csv(dir_name + '/y_test.csv',  index=False)"
   ]
  }
 ],
 "metadata": {
  "kernelspec": {
   "display_name": "Python 3",
   "language": "python",
   "name": "python3"
  },
  "language_info": {
   "codemirror_mode": {
    "name": "ipython",
    "version": 3
   },
   "file_extension": ".py",
   "mimetype": "text/x-python",
   "name": "python",
   "nbconvert_exporter": "python",
   "pygments_lexer": "ipython3",
   "version": "3.8.8"
  }
 },
 "nbformat": 4,
 "nbformat_minor": 5
}

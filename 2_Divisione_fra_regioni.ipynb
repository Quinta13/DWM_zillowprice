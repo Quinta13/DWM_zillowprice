{
 "cells": [
  {
   "cell_type": "code",
   "execution_count": 1,
   "id": "83a93d9e",
   "metadata": {},
   "outputs": [],
   "source": [
    "# Libraries\n",
    "import pandas as pd\n",
    "import numpy  as np\n",
    "import re\n",
    "import warnings\n",
    "import matplotlib.pyplot  as plt\n",
    "import matplotlib.patches as mpatches\n",
    "\n",
    "from sklearn.preprocessing import StandardScaler\n",
    "from sklearn.cluster       import KMeans\n",
    "from sklearn.cluster       import AgglomerativeClustering\n",
    "from sklearn.cluster       import DBSCAN\n",
    "from sklearn.metrics       import accuracy_score\n",
    "from sklearn.metrics       import confusion_matrix\n",
    "from sklearn.metrics       import plot_confusion_matrix\n",
    "from sklearn.decomposition import PCA\n",
    "from sklearn.ensemble      import RandomForestClassifier\n",
    "from sklearn.utils         import resample\n",
    "\n",
    "warnings.filterwarnings('ignore')"
   ]
  },
  {
   "cell_type": "code",
   "execution_count": 2,
   "id": "6bdb7857",
   "metadata": {},
   "outputs": [],
   "source": [
    "# local file paths\n",
    "dir_name = 'preparazione'\n",
    "\n",
    "fp_xtrain = dir_name + \"/X_train.csv\"\n",
    "fp_ytrain = dir_name + \"/y_train.csv\"\n",
    "fp_xval   = dir_name + \"/X_val.csv\"\n",
    "fp_yval   = dir_name + \"/y_val.csv\"\n",
    "fp_xtest  = dir_name + \"/X_test.csv\"\n",
    "fp_ytest  = dir_name + \"/y_test.csv\""
   ]
  },
  {
   "cell_type": "code",
   "execution_count": 3,
   "id": "f958bb4c",
   "metadata": {},
   "outputs": [],
   "source": [
    "# Reading dataframes\n",
    "X_train = pd.read_csv(fp_xtrain, low_memory=False)\n",
    "y_train = pd.read_csv(fp_ytrain, low_memory=False)\n",
    "X_val   = pd.read_csv(fp_xval,   low_memory=False)\n",
    "y_val   = pd.read_csv(fp_yval,   low_memory=False)\n",
    "X_test  = pd.read_csv(fp_xtest,  low_memory=False)\n",
    "y_test  = pd.read_csv(fp_ytest,  low_memory=False)"
   ]
  },
  {
   "cell_type": "code",
   "execution_count": 4,
   "id": "27d6a1fc",
   "metadata": {},
   "outputs": [],
   "source": [
    "# Removes from the given dataframe the column with the given name\n",
    "def remove_column(df, col_names):\n",
    "    df.drop(col_names, axis=1, inplace=True)\n",
    "    return df"
   ]
  },
  {
   "cell_type": "code",
   "execution_count": 5,
   "id": "0dfbbdb5",
   "metadata": {},
   "outputs": [],
   "source": [
    "for X in [X_train, X_val, X_test]:\n",
    "    X = remove_column(X, ['parcelid'])"
   ]
  },
  {
   "cell_type": "code",
   "execution_count": 6,
   "id": "67d68e00",
   "metadata": {},
   "outputs": [],
   "source": [
    "# Prints all dataframes shape\n",
    "def dimensionality(y=False):\n",
    "    print(f'X_train {  X_train.shape}')\n",
    "    print(f'X_val   {    X_val.shape}')\n",
    "    print(f'X_test  {   X_test.shape}')\n",
    "    if y:\n",
    "        print(f'y_train { y_train.shape}')\n",
    "        print(f'y_val   {   y_val.shape}')\n",
    "        print(f'y_test  {  y_test.shape}')"
   ]
  },
  {
   "cell_type": "code",
   "execution_count": 7,
   "id": "df7f2299",
   "metadata": {},
   "outputs": [
    {
     "name": "stdout",
     "output_type": "stream",
     "text": [
      "X_train (99709, 72)\n",
      "X_val   (33572, 72)\n",
      "X_test  (33567, 72)\n",
      "y_train (99709, 1)\n",
      "y_val   (33572, 1)\n",
      "y_test  (33567, 1)\n"
     ]
    }
   ],
   "source": [
    "dimensionality(y=True)"
   ]
  },
  {
   "cell_type": "code",
   "execution_count": 8,
   "id": "39c16eb2",
   "metadata": {},
   "outputs": [
    {
     "name": "stdout",
     "output_type": "stream",
     "text": [
      "bathroomcnt\n",
      "bedroomcnt\n",
      "buildingqualitytypeid\n",
      "calculatedbathnbr\n",
      "calculatedfinishedsquarefeet\n",
      "finishedsquarefeet12\n",
      "fireplacecnt\n",
      "latitude\n",
      "longitude\n",
      "lotsizesquarefeet\n",
      "rawcensustractandblock\n",
      "regionidcity\n",
      "regionidzip\n",
      "roomcnt\n",
      "unitcnt\n",
      "yearbuilt\n",
      "structuretaxvaluedollarcnt\n",
      "taxvaluedollarcnt\n",
      "assessmentyear\n",
      "landtaxvaluedollarcnt\n",
      "taxamount\n",
      "int_transactiondate\n",
      "period_mean_price\n",
      "neighborhood_mean_price\n",
      "living_area_prop\n",
      "tax_ratio\n",
      "tax_prop\n",
      "buildingqualitytypeid_na_flag\n",
      "unitcnt_na_flag\n",
      "fips_6037.0\n",
      "fips_6059.0\n",
      "fips_6111.0\n",
      "heatingorsystemtypeid_1.0\n",
      "heatingorsystemtypeid_2.0\n",
      "heatingorsystemtypeid_6.0\n",
      "heatingorsystemtypeid_7.0\n",
      "heatingorsystemtypeid_10.0\n",
      "heatingorsystemtypeid_11.0\n",
      "heatingorsystemtypeid_12.0\n",
      "heatingorsystemtypeid_13.0\n",
      "heatingorsystemtypeid_18.0\n",
      "heatingorsystemtypeid_20.0\n",
      "heatingorsystemtypeid_24.0\n",
      "poolcnt_1.0\n",
      "propertycountylandusecode_0100\n",
      "propertycountylandusecode_0101\n",
      "propertycountylandusecode_010C\n",
      "propertycountylandusecode_122\n",
      "propertycountylandusecode_34\n",
      "propertycountylandusecode_rare\n",
      "propertylandusetypeid_31.0\n",
      "propertylandusetypeid_246.0\n",
      "propertylandusetypeid_247.0\n",
      "propertylandusetypeid_248.0\n",
      "propertylandusetypeid_260.0\n",
      "propertylandusetypeid_261.0\n",
      "propertylandusetypeid_263.0\n",
      "propertylandusetypeid_264.0\n",
      "propertylandusetypeid_265.0\n",
      "propertylandusetypeid_266.0\n",
      "propertylandusetypeid_267.0\n",
      "propertylandusetypeid_269.0\n",
      "propertylandusetypeid_275.0\n",
      "propertyzoningdesc_LAR1\n",
      "propertyzoningdesc_LAR3\n",
      "propertyzoningdesc_LARD1.5\n",
      "propertyzoningdesc_LARS\n",
      "propertyzoningdesc_LBR1N\n",
      "propertyzoningdesc_rare\n",
      "regionidcounty_1286.0\n",
      "regionidcounty_2061.0\n",
      "regionidcounty_3101.0\n"
     ]
    }
   ],
   "source": [
    "print(*X_train.columns, sep='\\n')"
   ]
  },
  {
   "cell_type": "code",
   "execution_count": 9,
   "id": "ad4edfee",
   "metadata": {},
   "outputs": [],
   "source": [
    "regionids = ['regionidcounty_1286.0', 'regionidcounty_2061.0', 'regionidcounty_3101.0']\n",
    "\n",
    "region_names = np.array(['A', 'B', 'C'])"
   ]
  },
  {
   "cell_type": "markdown",
   "id": "67cafe1c",
   "metadata": {},
   "source": [
    "## Clustering ##"
   ]
  },
  {
   "cell_type": "code",
   "execution_count": 10,
   "id": "46643cf8",
   "metadata": {},
   "outputs": [],
   "source": [
    "# Returns a new dataframe X without region infos, which are returned in y vector in 0, 1, 2 encoding\n",
    "def get_X_y(X):\n",
    "    X_ = X.copy() \n",
    "    y_ = X_.loc[:, regionids]  \n",
    "    y_.loc[:,['region']] =\\\n",
    "        y_.loc[:,regionids[0]] * 0 +\\\n",
    "        y_.loc[:,regionids[1]] * 1 +\\\n",
    "        y_.loc[:,regionids[2]] * 2\n",
    "    X_ = remove_column(X_, regionids)\n",
    "    y_ = remove_column(y_, regionids)\n",
    "    y_ = y_.values.ravel().astype(np.int64)\n",
    "    return X_, y_"
   ]
  },
  {
   "cell_type": "markdown",
   "id": "3789eb54",
   "metadata": {},
   "source": [
    "Guardo se un algoritmo di clustering individua le tre differenti regioni"
   ]
  },
  {
   "cell_type": "markdown",
   "id": "b93f8cf6",
   "metadata": {},
   "source": [
    "### k-means "
   ]
  },
  {
   "cell_type": "code",
   "execution_count": 11,
   "id": "ad03d243",
   "metadata": {},
   "outputs": [],
   "source": [
    "def kmeans_clustering(X):\n",
    "    kmeans = KMeans(n_clusters=3).fit(X)\n",
    "    print(kmeans.labels_)\n",
    "    return kmeans, kmeans.labels_"
   ]
  },
  {
   "cell_type": "code",
   "execution_count": 12,
   "id": "2f0bd164",
   "metadata": {},
   "outputs": [],
   "source": [
    "# Given a vector and a mapping function returns the corresponding transormation\n",
    "def transform(y, mapping):\n",
    "    y_2 = map(mapping, y) \n",
    "    y_2 = np.array(list(y_2))\n",
    "    return y_2"
   ]
  },
  {
   "cell_type": "code",
   "execution_count": 13,
   "id": "a0f89c3c",
   "metadata": {},
   "outputs": [],
   "source": [
    "# Returns the accuracy score given actual values and predictions\n",
    "def accuracy(y_true, y_pred, verbose = False):\n",
    "    acc = accuracy_score(y_true, y_pred)\n",
    "    if verbose:\n",
    "        print(y_pred [:35])\n",
    "        print(y_true [:35])\n",
    "        print('Accuracy: ', acc)\n",
    "    return acc"
   ]
  },
  {
   "cell_type": "code",
   "execution_count": 14,
   "id": "d695d64a",
   "metadata": {},
   "outputs": [],
   "source": [
    "X_clu, y_true = get_X_y(X_train)"
   ]
  },
  {
   "cell_type": "markdown",
   "id": "12ebca90",
   "metadata": {},
   "source": [
    "Provo con un algoritmo di clustering k-means"
   ]
  },
  {
   "cell_type": "code",
   "execution_count": 15,
   "id": "df55edcd",
   "metadata": {
    "scrolled": true
   },
   "outputs": [
    {
     "name": "stdout",
     "output_type": "stream",
     "text": [
      "[1 1 1 ... 1 1 1]\n"
     ]
    }
   ],
   "source": [
    "_, y_pred = kmeans_clustering(X_clu)"
   ]
  },
  {
   "cell_type": "code",
   "execution_count": 16,
   "id": "1a965c12",
   "metadata": {},
   "outputs": [
    {
     "name": "stdout",
     "output_type": "stream",
     "text": [
      "True      [0 2 2 0 2 0 1 0 0 2 0 0 2 2 2 2 2 1 2 2 2 0 2 2 2 2 1 2 2 0 2 2 0 2 2]\n",
      "Predicted [1 1 1 1 1 1 1 1 1 1 1 1 1 1 1 1 1 1 1 1 1 1 1 1 1 1 1 1 1 1 1 1 1 1 1]\n"
     ]
    }
   ],
   "source": [
    "print('True     ', y_true[:35],)\n",
    "print('Predicted', y_pred[:35],)"
   ]
  },
  {
   "cell_type": "markdown",
   "id": "399043c6",
   "metadata": {},
   "source": [
    "Sembra che l'algoritmo abbia individuato un cluster molto grande rispetto agli altri"
   ]
  },
  {
   "cell_type": "code",
   "execution_count": 17,
   "id": "c8b173d8",
   "metadata": {},
   "outputs": [
    {
     "name": "stdout",
     "output_type": "stream",
     "text": [
      "Occorrenze RegioneA : 26819\n",
      "Occorrenze RegioneB : 8119\n",
      "Occorrenze RegioneC : 64771\n",
      "\n",
      "Occorrenze Cluster0 : 7662\n",
      "Occorrenze Cluster1 : 91784\n",
      "Occorrenze Cluster2 : 263\n"
     ]
    }
   ],
   "source": [
    "for i in range(3):\n",
    "    print(f'Occorrenze Regione{region_names[i]} : {np.bincount(y_true)[i]}')\n",
    "print()\n",
    "\n",
    "for i in range(3):\n",
    "    print(f'Occorrenze Cluster{i} : {np.bincount(y_pred)[i]}')"
   ]
  },
  {
   "cell_type": "markdown",
   "id": "f882d853",
   "metadata": {},
   "source": [
    "Quasi tutte le instanze infatti sono nel cluster 0, le proporzioni tra cluster non sono quelle attese\n",
    "L'algoritmo trova un cluster molto grande."
   ]
  },
  {
   "cell_type": "markdown",
   "id": "828543f9",
   "metadata": {},
   "source": [
    "Per indagarne meglio il fenomeno, riduco la dimensionalità a 2 usando una Principal Componenet Analysis"
   ]
  },
  {
   "cell_type": "markdown",
   "id": "9dc73a94",
   "metadata": {},
   "source": [
    "## PCA ##"
   ]
  },
  {
   "cell_type": "code",
   "execution_count": 18,
   "id": "b81293ed",
   "metadata": {},
   "outputs": [],
   "source": [
    "X_pca, y_pca = get_X_y(X_train)"
   ]
  },
  {
   "cell_type": "code",
   "execution_count": 19,
   "id": "4fda960f",
   "metadata": {},
   "outputs": [
    {
     "name": "stdout",
     "output_type": "stream",
     "text": [
      "Occorrenze RegioneA : 26819\n",
      "Occorrenze RegioneB : 8119\n",
      "Occorrenze RegioneC : 64771\n"
     ]
    }
   ],
   "source": [
    "for i in range(3):\n",
    "    print(f'Occorrenze Regione{region_names[i]} : {np.bincount(y_pca)[i]}')"
   ]
  },
  {
   "cell_type": "code",
   "execution_count": 20,
   "id": "b478105c",
   "metadata": {},
   "outputs": [
    {
     "data": {
      "text/plain": [
       "(99709, 72)"
      ]
     },
     "execution_count": 20,
     "metadata": {},
     "output_type": "execute_result"
    }
   ],
   "source": [
    "X_train.shape"
   ]
  },
  {
   "cell_type": "code",
   "execution_count": 21,
   "id": "2fdb3661",
   "metadata": {},
   "outputs": [
    {
     "data": {
      "text/plain": [
       "(99709, 69)"
      ]
     },
     "execution_count": 21,
     "metadata": {},
     "output_type": "execute_result"
    }
   ],
   "source": [
    "X_pca.shape"
   ]
  },
  {
   "cell_type": "code",
   "execution_count": 22,
   "id": "cc132976",
   "metadata": {},
   "outputs": [
    {
     "data": {
      "text/plain": [
       "(99709,)"
      ]
     },
     "execution_count": 22,
     "metadata": {},
     "output_type": "execute_result"
    }
   ],
   "source": [
    "y_pca.shape"
   ]
  },
  {
   "cell_type": "markdown",
   "id": "b5d9184c",
   "metadata": {},
   "source": [
    "Riduco X a due dimensioni"
   ]
  },
  {
   "cell_type": "code",
   "execution_count": 23,
   "id": "dc44f385",
   "metadata": {},
   "outputs": [],
   "source": [
    "X_pca_2 = PCA(n_components=2).fit_transform(X_pca)"
   ]
  },
  {
   "cell_type": "code",
   "execution_count": 24,
   "id": "21f5c050",
   "metadata": {},
   "outputs": [
    {
     "data": {
      "text/plain": [
       "array([[-0.64895157, -0.68434986],\n",
       "       [-0.58386064,  0.25612239],\n",
       "       [-0.44948455, -0.09577817],\n",
       "       ...,\n",
       "       [ 0.21777951,  1.05291519],\n",
       "       [ 0.17748752, -0.66358975],\n",
       "       [-0.56275111, -0.14930415]])"
      ]
     },
     "execution_count": 24,
     "metadata": {},
     "output_type": "execute_result"
    }
   ],
   "source": [
    "X_pca_2 * (100.0/X_pca_2.max())"
   ]
  },
  {
   "cell_type": "code",
   "execution_count": 25,
   "id": "f9d2028d",
   "metadata": {},
   "outputs": [],
   "source": [
    "def plot_regions(X, y, title=\"\", file_name=''):\n",
    "    \n",
    "    plt.rcParams.update({'font.size': 20})\n",
    "    fig, ax = plt.subplots(figsize=(10,6))\n",
    "\n",
    "    colors = np.array([\n",
    "        (1., .1, .1, .3),\n",
    "        (.1, 1., .1, .3),\n",
    "        (.1, .1, 1., .3)]\n",
    "    )\n",
    "\n",
    "    # scatter is ismilar to plot, additionally a color per point is provided\n",
    "    scatter = ax.scatter(X[:,0],X[:,1], c=colors[y], label=region_names[y])\n",
    "\n",
    "    handles = []\n",
    "    for c,l in zip(colors, region_names):\n",
    "        handles.append(mpatches.Patch(color=c, label=l))\n",
    "    plt.legend(handles=handles)\n",
    "\n",
    "    ax.set_xlabel(\"1st Component\")\n",
    "    ax.set_ylabel(\"2nd Component\")\n",
    "    ax.set_title(title, fontsize=20)\n",
    "    ax.grid(linestyle=':', linewidth=.5)\n",
    "    \n",
    "    if file_name != '':\n",
    "        fig.savefig('images/' + file_name + '.jpg')"
   ]
  },
  {
   "cell_type": "code",
   "execution_count": 26,
   "id": "09bcbd99",
   "metadata": {},
   "outputs": [
    {
     "data": {
      "image/png": "[encoded data removed]",
      "text/plain": [
       "<Figure size 720x432 with 1 Axes>"
      ]
     },
     "metadata": {
      "needs_background": "light"
     },
     "output_type": "display_data"
    }
   ],
   "source": [
    "plot_regions(X_pca_2, y_pca, title=\"PCA\", file_name='regioni')"
   ]
  },
  {
   "cell_type": "markdown",
   "id": "9fe4599f",
   "metadata": {},
   "source": [
    "Indago con un dataset bisimensionale il comportamento di k-means sfruttando la rappresentazione grafica"
   ]
  },
  {
   "cell_type": "code",
   "execution_count": 27,
   "id": "3436df0f",
   "metadata": {
    "scrolled": true
   },
   "outputs": [
    {
     "name": "stdout",
     "output_type": "stream",
     "text": [
      "[0 0 0 ... 0 0 0]\n"
     ]
    }
   ],
   "source": [
    "est, y_pred = kmeans_clustering(X_pca_2)"
   ]
  },
  {
   "cell_type": "code",
   "execution_count": 28,
   "id": "42bd0a8d",
   "metadata": {},
   "outputs": [
    {
     "name": "stdout",
     "output_type": "stream",
     "text": [
      "True      [0 2 2 0 2 0 1 0 0 2 0 0 2 2 2 2 2 1 2 2 2 0 2 2 2 2 1 2 2 0 2 2 0 2 2]\n",
      "Predicted [0 0 0 0 0 0 0 0 0 0 0 0 0 0 0 0 0 0 0 0 0 0 0 0 0 0 0 0 0 0 0 0 0 0 0]\n"
     ]
    }
   ],
   "source": [
    "print('True     ', y_true[:35],)\n",
    "print('Predicted', y_pred[:35],)"
   ]
  },
  {
   "cell_type": "code",
   "execution_count": 29,
   "id": "583e32f6",
   "metadata": {},
   "outputs": [
    {
     "data": {
      "image/png": "[encoded data removed]",
      "text/plain": [
       "<Figure size 720x432 with 1 Axes>"
      ]
     },
     "metadata": {
      "needs_background": "light"
     },
     "output_type": "display_data"
    }
   ],
   "source": [
    "plot_regions(X_pca_2, y_pred, title=\"K-Means\", file_name='k_means')"
   ]
  },
  {
   "cell_type": "markdown",
   "id": "a804b711",
   "metadata": {},
   "source": [
    "Il clustering con k_means non individua in maniera precisa i tre cluster, poiché ha il limite di individuare specialmente cluster circolari, differenti da questo particolare caso."
   ]
  },
  {
   "cell_type": "markdown",
   "id": "199ce7bb",
   "metadata": {},
   "source": [
    "Provo quindi un altro tipo di clustering, DBSCAN"
   ]
  },
  {
   "cell_type": "code",
   "execution_count": 30,
   "id": "421454ab",
   "metadata": {},
   "outputs": [],
   "source": [
    "# Validation clustering to tune EPS\n",
    "def valid_dbscan_clustering(X):\n",
    "    n_clu      = 1\n",
    "    CLU_SEARCH = 3\n",
    "    EPSMIN      = 0.001\n",
    "    EPSMAX      = 1.\n",
    "    while(n_clu != CLU_SEARCH and EPSMIN < EPSMAX):\n",
    "        EPS = (EPSMIN + EPSMAX) / 2\n",
    "        print(f'EPS: {EPS}, EPSMIN: {EPSMIN}, EPSMAX: {EPSMAX}, NCLU: {n_clu}')\n",
    "        n_clu = valid_dbscan_clustering_aux(X, EPS)\n",
    "        if n_clu < CLU_SEARCH:\n",
    "            EPSMIN = EPS\n",
    "        else:\n",
    "            EPSMAX = EPS\n",
    "    return EPS  \n",
    "\n",
    "def get_dbscan(X, eps):\n",
    "    return DBSCAN(eps=eps, min_samples=3, n_jobs=-1).fit(X)\n",
    "\n",
    "def valid_dbscan_clustering_aux(X, eps):\n",
    "    X = StandardScaler().fit_transform(X)\n",
    "    db = get_dbscan(X, eps)\n",
    "    labels = db.labels_\n",
    "    n_clu = len(set(labels)) - (1 if -1 in labels else 0)\n",
    "    print(f'EPS: {eps}, NCLU: {n_clu}')\n",
    "    return n_clu"
   ]
  },
  {
   "cell_type": "code",
   "execution_count": 31,
   "id": "79e7509e",
   "metadata": {},
   "outputs": [
    {
     "data": {
      "text/plain": [
       "(99709, 2)"
      ]
     },
     "execution_count": 31,
     "metadata": {},
     "output_type": "execute_result"
    }
   ],
   "source": [
    "X_pca_2.shape"
   ]
  },
  {
   "cell_type": "code",
   "execution_count": 32,
   "id": "8a5a8dcf",
   "metadata": {},
   "outputs": [
    {
     "name": "stdout",
     "output_type": "stream",
     "text": [
      "EPS: 0.5005, EPSMIN: 0.001, EPSMAX: 1.0, NCLU: 1\n",
      "EPS: 0.5005, NCLU: 5\n",
      "EPS: 0.25075, EPSMIN: 0.001, EPSMAX: 0.5005, NCLU: 5\n",
      "EPS: 0.25075, NCLU: 8\n",
      "EPS: 0.125875, EPSMIN: 0.001, EPSMAX: 0.25075, NCLU: 8\n",
      "EPS: 0.125875, NCLU: 31\n",
      "EPS: 0.0634375, EPSMIN: 0.001, EPSMAX: 0.125875, NCLU: 31\n",
      "EPS: 0.0634375, NCLU: 88\n",
      "EPS: 0.03221875, EPSMIN: 0.001, EPSMAX: 0.0634375, NCLU: 88\n",
      "EPS: 0.03221875, NCLU: 216\n",
      "EPS: 0.016609375, EPSMIN: 0.001, EPSMAX: 0.03221875, NCLU: 216\n",
      "EPS: 0.016609375, NCLU: 726\n",
      "EPS: 0.0088046875, EPSMIN: 0.001, EPSMAX: 0.016609375, NCLU: 726\n",
      "EPS: 0.0088046875, NCLU: 524\n",
      "EPS: 0.00490234375, EPSMIN: 0.001, EPSMAX: 0.0088046875, NCLU: 524\n",
      "EPS: 0.00490234375, NCLU: 104\n",
      "EPS: 0.002951171875, EPSMIN: 0.001, EPSMAX: 0.00490234375, NCLU: 104\n",
      "EPS: 0.002951171875, NCLU: 18\n",
      "EPS: 0.0019755859374999997, EPSMIN: 0.001, EPSMAX: 0.002951171875, NCLU: 18\n",
      "EPS: 0.0019755859374999997, NCLU: 4\n",
      "EPS: 0.0014877929687499999, EPSMIN: 0.001, EPSMAX: 0.0019755859374999997, NCLU: 4\n",
      "EPS: 0.0014877929687499999, NCLU: 0\n",
      "EPS: 0.0017316894531249998, EPSMIN: 0.0014877929687499999, EPSMAX: 0.0019755859374999997, NCLU: 0\n",
      "EPS: 0.0017316894531249998, NCLU: 3\n"
     ]
    }
   ],
   "source": [
    "# Valido eps su un sottoinsieme dei dati\n",
    "eps_valid = valid_dbscan_clustering(X_pca_2[:10000])"
   ]
  },
  {
   "cell_type": "markdown",
   "id": "9b654441",
   "metadata": {},
   "source": [
    "Per questo specifico valore epsilon individua tre cluster"
   ]
  },
  {
   "cell_type": "code",
   "execution_count": 33,
   "id": "db32b744",
   "metadata": {},
   "outputs": [],
   "source": [
    "dbscan = get_dbscan(X_pca_2, eps_valid)"
   ]
  },
  {
   "cell_type": "code",
   "execution_count": 34,
   "id": "56f08033",
   "metadata": {},
   "outputs": [
    {
     "data": {
      "text/plain": [
       "DBSCAN(eps=0.0017316894531249998, min_samples=3, n_jobs=-1)"
      ]
     },
     "execution_count": 34,
     "metadata": {},
     "output_type": "execute_result"
    }
   ],
   "source": [
    "dbscan"
   ]
  },
  {
   "cell_type": "code",
   "execution_count": 35,
   "id": "5dfa8c65",
   "metadata": {},
   "outputs": [],
   "source": [
    "def occurences(l):\n",
    "    l = list(l)\n",
    "    return dict((x, l.count(x)) for x in set(l))"
   ]
  },
  {
   "cell_type": "code",
   "execution_count": 36,
   "id": "1291513e",
   "metadata": {},
   "outputs": [
    {
     "data": {
      "text/plain": [
       "{0: 4,\n",
       " 1: 3,\n",
       " 2: 6,\n",
       " 3: 3,\n",
       " 4: 4,\n",
       " 5: 3,\n",
       " 6: 4,\n",
       " 7: 7,\n",
       " 8: 3,\n",
       " 9: 3,\n",
       " 10: 3,\n",
       " 11: 4,\n",
       " -1: 99662}"
      ]
     },
     "execution_count": 36,
     "metadata": {},
     "output_type": "execute_result"
    }
   ],
   "source": [
    "occurences(dbscan.labels_)"
   ]
  },
  {
   "cell_type": "markdown",
   "id": "fd919119",
   "metadata": {},
   "source": [
    "L'algoritmo individua principalmente outlier e non è in grado di individuare i cluster, questo perché DBSCAN si basa sulla distanza euclidea. Tuttavia i cluster delle regioni non sono ben distanziati nello spazio e DBSCAN non è in grado di separarli"
   ]
  },
  {
   "cell_type": "markdown",
   "id": "3513b37e",
   "metadata": {},
   "source": [
    "Provo con un algoritmo di Classificazione  dividendo il dataset a metà tra train e test"
   ]
  },
  {
   "cell_type": "code",
   "execution_count": 37,
   "id": "220ee3f6",
   "metadata": {},
   "outputs": [],
   "source": [
    "half = int(len(X_pca)*2/3)"
   ]
  },
  {
   "cell_type": "code",
   "execution_count": 38,
   "id": "57ad3a02",
   "metadata": {},
   "outputs": [],
   "source": [
    "X_class_train   = X_pca  [:half]\n",
    "X_class_train_2 = X_pca_2[:half]\n",
    "y_class_train   = y_pca  [:half]\n",
    "\n",
    "\n",
    "X_class_test    = X_pca  [half:]\n",
    "X_class_test_2  = X_pca_2[half:]\n",
    "y_class_test    = y_pca  [half:]"
   ]
  },
  {
   "cell_type": "markdown",
   "id": "64c3f60b",
   "metadata": {},
   "source": [
    "Classificazione usando tutte le colonne"
   ]
  },
  {
   "cell_type": "code",
   "execution_count": 39,
   "id": "8974e9fa",
   "metadata": {},
   "outputs": [],
   "source": [
    "def classifier(X_train, y_train, X_test, y_test):\n",
    "    rfc = RandomForestClassifier(n_estimators=100, n_jobs=-1)\n",
    "    rfc.fit(X_train, y_train)\n",
    "    y_pred = rfc.predict(X_test)\n",
    "    acc = accuracy_score(y_pred, y_test)\n",
    "    print(f'Accuracy: {acc}')\n",
    "    plot_confusion_matrix(rfc, X_test, y_test)"
   ]
  },
  {
   "cell_type": "code",
   "execution_count": 40,
   "id": "568ee3ca",
   "metadata": {},
   "outputs": [
    {
     "name": "stdout",
     "output_type": "stream",
     "text": [
      "Accuracy: 0.9319734031350603\n"
     ]
    },
    {
     "data": {
      "image/png": "[encoded data removed]",
      "text/plain": [
       "<Figure size 432x288 with 2 Axes>"
      ]
     },
     "metadata": {
      "needs_background": "light"
     },
     "output_type": "display_data"
    }
   ],
   "source": [
    "# X con le due feature della PCA\n",
    "classifier(X_class_train_2, y_class_train, X_class_test_2, y_class_test)"
   ]
  },
  {
   "cell_type": "markdown",
   "id": "248ed9a7",
   "metadata": {},
   "source": [
    "Il classificatore ha un'ottima accuracy"
   ]
  },
  {
   "cell_type": "code",
   "execution_count": 41,
   "id": "c0b58957",
   "metadata": {},
   "outputs": [
    {
     "name": "stdout",
     "output_type": "stream",
     "text": [
      "Accuracy: 1.0\n"
     ]
    },
    {
     "data": {
      "image/png": "[encoded data removed]",
      "text/plain": [
       "<Figure size 432x288 with 2 Axes>"
      ]
     },
     "metadata": {
      "needs_background": "light"
     },
     "output_type": "display_data"
    }
   ],
   "source": [
    "# X con le feature originali\n",
    "classifier(X_class_train, y_class_train, X_class_test, y_class_test)"
   ]
  },
  {
   "cell_type": "markdown",
   "id": "3efc9a6f",
   "metadata": {},
   "source": [
    "La classificazione ha la massima precisione, forse nelle feature ne esiste una con la stessa informazione delle regioni. Provo la classificazione non considerando le colonne legate alla regione."
   ]
  },
  {
   "cell_type": "code",
   "execution_count": 42,
   "id": "fe563fa8",
   "metadata": {},
   "outputs": [],
   "source": [
    "def classifier_remove_col(X_train, y_train, X_test, y_test, rem_col):\n",
    "    X_tr = X_train.copy()\n",
    "    X_te = X_test.copy()\n",
    "    X_tr = remove_column(X_tr, rem_col)\n",
    "    X_te = remove_column(X_te, rem_col)\n",
    "    print(X_tr.shape)\n",
    "    print(X_te.shape)\n",
    "    rfc = RandomForestClassifier(n_estimators=100, n_jobs=-1)\n",
    "    rfc.fit(X_tr, y_train)\n",
    "    y_pred = rfc.predict(X_te)\n",
    "    acc = accuracy_score(y_pred, y_test)\n",
    "    print(f'Accuracy: {acc}')\n",
    "    plot_confusion_matrix(rfc, X_te, y_test)"
   ]
  },
  {
   "cell_type": "code",
   "execution_count": 43,
   "id": "a3fd7ddb",
   "metadata": {},
   "outputs": [
    {
     "data": {
      "text/plain": [
       "['propertylandusetypeid_31.0',\n",
       " 'propertylandusetypeid_246.0',\n",
       " 'propertylandusetypeid_247.0',\n",
       " 'propertylandusetypeid_248.0',\n",
       " 'propertylandusetypeid_260.0',\n",
       " 'propertylandusetypeid_261.0',\n",
       " 'propertylandusetypeid_263.0',\n",
       " 'propertylandusetypeid_264.0',\n",
       " 'propertylandusetypeid_265.0',\n",
       " 'propertylandusetypeid_266.0',\n",
       " 'propertylandusetypeid_267.0',\n",
       " 'propertylandusetypeid_269.0',\n",
       " 'propertylandusetypeid_275.0']"
      ]
     },
     "execution_count": 43,
     "metadata": {},
     "output_type": "execute_result"
    }
   ],
   "source": [
    "prop_lti = list(filter(re.compile(\"^propertylandusetypeid_.*$\").match, list(X_train.columns)))\n",
    "prop_lti"
   ]
  },
  {
   "cell_type": "code",
   "execution_count": 44,
   "id": "9edbf703",
   "metadata": {},
   "outputs": [
    {
     "data": {
      "text/plain": [
       "['regionidcity', 'regionidzip', 'rawcensustractandblock']"
      ]
     },
     "execution_count": 44,
     "metadata": {},
     "output_type": "execute_result"
    }
   ],
   "source": [
    "regions = ['regionidcity', 'regionidzip', 'rawcensustractandblock']\n",
    "regions"
   ]
  },
  {
   "cell_type": "code",
   "execution_count": 45,
   "id": "1f953b59",
   "metadata": {},
   "outputs": [
    {
     "data": {
      "text/plain": [
       "['fips_6037.0', 'fips_6059.0', 'fips_6111.0']"
      ]
     },
     "execution_count": 45,
     "metadata": {},
     "output_type": "execute_result"
    }
   ],
   "source": [
    "fips = list(filter(re.compile(\"^fips_.*$\").match, list(X_train.columns)))\n",
    "fips"
   ]
  },
  {
   "cell_type": "code",
   "execution_count": 46,
   "id": "64f8e747",
   "metadata": {},
   "outputs": [
    {
     "data": {
      "text/plain": [
       "['propertylandusetypeid_31.0',\n",
       " 'propertylandusetypeid_246.0',\n",
       " 'propertylandusetypeid_247.0',\n",
       " 'propertylandusetypeid_248.0',\n",
       " 'propertylandusetypeid_260.0',\n",
       " 'propertylandusetypeid_261.0',\n",
       " 'propertylandusetypeid_263.0',\n",
       " 'propertylandusetypeid_264.0',\n",
       " 'propertylandusetypeid_265.0',\n",
       " 'propertylandusetypeid_266.0',\n",
       " 'propertylandusetypeid_267.0',\n",
       " 'propertylandusetypeid_269.0',\n",
       " 'propertylandusetypeid_275.0',\n",
       " 'regionidcity',\n",
       " 'regionidzip',\n",
       " 'rawcensustractandblock',\n",
       " 'fips_6037.0',\n",
       " 'fips_6059.0',\n",
       " 'fips_6111.0']"
      ]
     },
     "execution_count": 46,
     "metadata": {},
     "output_type": "execute_result"
    }
   ],
   "source": [
    "prop_lti + regions + fips"
   ]
  },
  {
   "cell_type": "code",
   "execution_count": 47,
   "id": "594587ab",
   "metadata": {},
   "outputs": [
    {
     "name": "stdout",
     "output_type": "stream",
     "text": [
      "(66472, 50)\n",
      "(33237, 50)\n",
      "Accuracy: 1.0\n"
     ]
    },
    {
     "data": {
      "image/png": "[encoded data removed]",
      "text/plain": [
       "<Figure size 432x288 with 2 Axes>"
      ]
     },
     "metadata": {
      "needs_background": "light"
     },
     "output_type": "display_data"
    }
   ],
   "source": [
    "classifier_remove_col(X_class_train, y_class_train, X_class_test, y_class_test, prop_lti + regions + fips)"
   ]
  },
  {
   "cell_type": "markdown",
   "id": "1c198884",
   "metadata": {},
   "source": [
    "La classificazione ha comunque il massimo della precisione. Forse in una delle feature condiderate si nasconde comunque un'informazione molto precisa sulla regione"
   ]
  },
  {
   "cell_type": "markdown",
   "id": "9fc729fd",
   "metadata": {},
   "source": [
    "Ad ogni modo questa informazione è semplificata e non più reperibile dopo la PCA, che comunque ha una buona accuray. Deduco che è sensato dividere il dataset in base alla regione di appartenenza"
   ]
  },
  {
   "cell_type": "markdown",
   "id": "b69dd446",
   "metadata": {},
   "source": [
    "# Split #"
   ]
  },
  {
   "cell_type": "markdown",
   "id": "559bbc8b",
   "metadata": {},
   "source": [
    "Divido il Dataset a seconda del region_id county"
   ]
  },
  {
   "cell_type": "code",
   "execution_count": 48,
   "id": "ef4791b3",
   "metadata": {},
   "outputs": [],
   "source": [
    "# Returns the X, y dataframes splitted throught regions\n",
    "def split_regionid(X, y):\n",
    "    A = X.loc[:,regionids[0]] == 1\n",
    "    B = X.loc[:,regionids[1]] == 1 \n",
    "    C = X.loc[:,regionids[2]] == 1    \n",
    "    return X[A], X[B], X[C], y[A], y[B], y[C]"
   ]
  },
  {
   "cell_type": "code",
   "execution_count": 49,
   "id": "0308a1bb",
   "metadata": {},
   "outputs": [],
   "source": [
    "X_trainA, X_trainB, X_trainC, y_trainA, y_trainB, y_trainC = split_regionid(X_train, y_train)\n",
    "X_valA,   X_valB,   X_valC,   y_valA,   y_valB,   y_valC   = split_regionid(X_val,   y_val  )\n",
    "X_testA,  X_testB,  X_testC,  y_testA,  y_testB,  y_testC  = split_regionid(X_test,  y_test )"
   ]
  },
  {
   "cell_type": "markdown",
   "id": "7e0e2208",
   "metadata": {},
   "source": [
    "Mantengo i dataframe in un array"
   ]
  },
  {
   "cell_type": "code",
   "execution_count": 50,
   "id": "705abe28",
   "metadata": {},
   "outputs": [],
   "source": [
    "X_train = np.array([X_trainA, X_trainB, X_trainC], dtype=object)\n",
    "X_val   = np.array([X_valA,   X_valB,   X_valC  ], dtype=object)\n",
    "X_test  = np.array([X_testA,  X_testB,  X_testC ], dtype=object)\n",
    "y_train = np.array([y_trainA, y_trainB, y_trainC], dtype=object)\n",
    "y_val   = np.array([y_valA,   y_valB,   y_valC  ], dtype=object)\n",
    "y_test  = np.array([y_testA,  y_testB,  y_testC ], dtype=object)"
   ]
  },
  {
   "cell_type": "code",
   "execution_count": 51,
   "id": "027b9228",
   "metadata": {},
   "outputs": [],
   "source": [
    "for X in [X_train, X_val, X_test]:\n",
    "    for x in X:\n",
    "        x = remove_column(x, regionids)"
   ]
  },
  {
   "cell_type": "code",
   "execution_count": 52,
   "id": "6f7dbcd8",
   "metadata": {},
   "outputs": [],
   "source": [
    "def dimensionality(y=False):\n",
    "    for i in range(3):\n",
    "        print(f'X_train{region_names[i]}: {X_train[i].shape}')\n",
    "        print(f'X_val{region_names[i]}:   {X_val  [i].shape}')\n",
    "        print(f'X_test{region_names[i]}:  {X_test [i].shape}')\n",
    "        if y:\n",
    "            print(f'y_train{region_names[i]}: {y_train[i].shape}')\n",
    "            print(f'y_val{region_names[i]}:   {y_val  [i].shape}')\n",
    "            print(f'y_test{region_names[i]}:  {y_test [i].shape}')\n",
    "            print()"
   ]
  },
  {
   "cell_type": "code",
   "execution_count": 53,
   "id": "4f6b9f99",
   "metadata": {},
   "outputs": [
    {
     "name": "stdout",
     "output_type": "stream",
     "text": [
      "X_trainA: (26819, 69)\n",
      "X_valA:   (9006, 69)\n",
      "X_testA:  (9085, 69)\n",
      "y_trainA: (26819, 1)\n",
      "y_valA:   (9006, 1)\n",
      "y_testA:  (9085, 1)\n",
      "\n",
      "X_trainB: (8119, 69)\n",
      "X_valB:   (2658, 69)\n",
      "X_testB:  (2606, 69)\n",
      "y_trainB: (8119, 1)\n",
      "y_valB:   (2658, 1)\n",
      "y_testB:  (2606, 1)\n",
      "\n",
      "X_trainC: (64771, 69)\n",
      "X_valC:   (21908, 69)\n",
      "X_testC:  (21876, 69)\n",
      "y_trainC: (64771, 1)\n",
      "y_valC:   (21908, 1)\n",
      "y_testC:  (21876, 1)\n",
      "\n"
     ]
    }
   ],
   "source": [
    "dimensionality(y=True)"
   ]
  },
  {
   "cell_type": "code",
   "execution_count": 54,
   "id": "47cccc45",
   "metadata": {},
   "outputs": [],
   "source": [
    "dir_name = 'regioni'\n",
    "\n",
    "for i in range(3):\n",
    "    X_train[i].to_csv( dir_name + f'/X_train{region_names[i]}.csv',  index=False)\n",
    "    X_val  [i].to_csv( dir_name + f'/X_val{  region_names[i]}.csv',  index=False)\n",
    "    X_test [i].to_csv( dir_name + f'/X_test{ region_names[i]}.csv',  index=False)\n",
    "    y_train[i].to_csv( dir_name + f'/y_train{region_names[i]}.csv',  index=False)\n",
    "    y_val  [i].to_csv( dir_name + f'/y_val{  region_names[i]}.csv',  index=False)\n",
    "    y_test [i].to_csv( dir_name + f'/y_test{ region_names[i]}.csv',  index=False)    "
   ]
  }
 ],
 "metadata": {
  "kernelspec": {
   "display_name": "Python 3",
   "language": "python",
   "name": "python3"
  },
  "language_info": {
   "codemirror_mode": {
    "name": "ipython",
    "version": 3
   },
   "file_extension": ".py",
   "mimetype": "text/x-python",
   "name": "python",
   "nbconvert_exporter": "python",
   "pygments_lexer": "ipython3",
   "version": "3.8.8"
  }
 },
 "nbformat": 4,
 "nbformat_minor": 5
}

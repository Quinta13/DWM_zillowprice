{
 "cells": [
  {
   "cell_type": "code",
   "execution_count": 25,
   "id": "83a93d9e",
   "metadata": {},
   "outputs": [],
   "source": [
    "# Libraries\n",
    "import pandas            as pd\n",
    "import numpy             as np\n",
    "import matplotlib.pyplot as plt\n",
    "\n",
    "from sklearn.metrics         import mean_squared_error\n",
    "from sklearn.tree            import DecisionTreeRegressor\n",
    "from sklearn.preprocessing   import StandardScaler\n",
    "from sklearn.utils           import resample\n",
    "from sklearn.ensemble        import AdaBoostRegressor"
   ]
  },
  {
   "cell_type": "code",
   "execution_count": 2,
   "id": "6bdb7857",
   "metadata": {},
   "outputs": [],
   "source": [
    "# local file paths\n",
    "\n",
    "dir_name = 'selezione'\n",
    "\n",
    "fp_XtrainA = dir_name + '/X_trainA.csv'\n",
    "fp_XtrainB = dir_name + '/X_trainB.csv'\n",
    "fp_XtrainC = dir_name + '/X_trainC.csv'\n",
    "fp_ytrainA = dir_name + '/y_trainA.csv'\n",
    "fp_ytrainB = dir_name + '/y_trainB.csv'\n",
    "fp_ytrainC = dir_name + '/y_trainC.csv'\n",
    "\n",
    "fp_XvalA = dir_name + '/X_valA.csv'\n",
    "fp_XvalB = dir_name + '/X_valB.csv'\n",
    "fp_XvalC = dir_name + '/X_valC.csv'\n",
    "fp_yvalA = dir_name + '/y_valA.csv'\n",
    "fp_yvalB = dir_name + '/y_valB.csv'\n",
    "fp_yvalC = dir_name + '/y_valC.csv'\n",
    "\n",
    "fp_XtestA = dir_name + '/X_testA.csv'\n",
    "fp_XtestB = dir_name + '/X_testB.csv'\n",
    "fp_XtestC = dir_name + '/X_testC.csv'\n",
    "fp_ytestA = dir_name + '/y_testA.csv'\n",
    "fp_ytestB = dir_name + '/y_testB.csv'\n",
    "fp_ytestC = dir_name + '/y_testC.csv'\n",
    "\n",
    "# local file paths\n",
    "\n",
    "dir_name = 'selezione'\n",
    "region_names = np.array(['A', 'B', 'C'])\n",
    "\n",
    "fp_Xtrain = []\n",
    "fp_Xval   = []\n",
    "fp_Xtest  = []\n",
    "fp_ytrain = []\n",
    "fp_yval   = []\n",
    "fp_ytest  = []\n",
    "\n",
    "for i in range(3):\n",
    "    fp_Xtrain.append(dir_name + f'/X_train{region_names[i]}.csv')\n",
    "    fp_Xval  .append(dir_name + f'/X_val{  region_names[i]}.csv')\n",
    "    fp_Xtest .append(dir_name + f'/X_test{ region_names[i]}.csv')\n",
    "    fp_ytrain.append(dir_name + f'/y_train{region_names[i]}.csv')\n",
    "    fp_yval  .append(dir_name + f'/y_val{  region_names[i]}.csv')\n",
    "    fp_ytest .append(dir_name + f'/y_test{ region_names[i]}.csv')"
   ]
  },
  {
   "cell_type": "code",
   "execution_count": 3,
   "id": "f958bb4c",
   "metadata": {},
   "outputs": [],
   "source": [
    "# Lettura dei dati\n",
    "\n",
    "X_train = []\n",
    "X_val   = []\n",
    "X_test  = []\n",
    "y_train = []\n",
    "y_val   = []\n",
    "y_test  = []\n",
    "\n",
    "for i in range(3):\n",
    "    X_train.append(pd.read_csv(fp_Xtrain[i], low_memory=False))\n",
    "    X_val  .append(pd.read_csv(fp_Xval  [i], low_memory=False))        \n",
    "    X_test .append(pd.read_csv(fp_Xtest [i], low_memory=False))\n",
    "    y_train.append(pd.read_csv(fp_ytrain[i], low_memory=False))\n",
    "    y_val  .append(pd.read_csv(fp_yval  [i], low_memory=False))        \n",
    "    y_test .append(pd.read_csv(fp_ytest [i], low_memory=False))\n",
    "    \n",
    "X_train = np.array(X_train, dtype=object)\n",
    "X_val   = np.array(X_val,   dtype=object)\n",
    "X_test  = np.array(X_test,  dtype=object)\n",
    "y_train = np.array(y_train, dtype=object)\n",
    "y_val   = np.array(y_val,   dtype=object)\n",
    "y_test  = np.array(y_test,  dtype=object)"
   ]
  },
  {
   "cell_type": "code",
   "execution_count": 4,
   "id": "b29f5024",
   "metadata": {},
   "outputs": [],
   "source": [
    "def dimensionality(y=False):\n",
    "    for i in range(3):\n",
    "        print(f'X_train{region_names[i]}: {X_train[i].shape}')\n",
    "        print(f'X_val{region_names[i]}:   {X_val  [i].shape}')\n",
    "        print(f'X_test{region_names[i]}:  {X_test [i].shape}')\n",
    "        if y:\n",
    "            print(f'y_train{region_names[i]}: {y_train[i].shape}')\n",
    "            print(f'y_val{region_names[i]}:   {y_val  [i].shape}')\n",
    "            print(f'y_test{region_names[i]}:  {y_test [i].shape}')\n",
    "            print()"
   ]
  },
  {
   "cell_type": "code",
   "execution_count": 5,
   "id": "725ab866",
   "metadata": {},
   "outputs": [
    {
     "name": "stdout",
     "output_type": "stream",
     "text": [
      "X_trainA: (26819, 29)\n",
      "X_valA:   (9006, 29)\n",
      "X_testA:  (9085, 29)\n",
      "y_trainA: (26819, 1)\n",
      "y_valA:   (9006, 1)\n",
      "y_testA:  (9085, 1)\n",
      "\n",
      "X_trainB: (8119, 31)\n",
      "X_valB:   (2658, 31)\n",
      "X_testB:  (2606, 31)\n",
      "y_trainB: (8119, 1)\n",
      "y_valB:   (2658, 1)\n",
      "y_testB:  (2606, 1)\n",
      "\n",
      "X_trainC: (64771, 43)\n",
      "X_valC:   (21908, 43)\n",
      "X_testC:  (21876, 43)\n",
      "y_trainC: (64771, 1)\n",
      "y_valC:   (21908, 1)\n",
      "y_testC:  (21876, 1)\n",
      "\n"
     ]
    }
   ],
   "source": [
    "dimensionality(y=True)"
   ]
  },
  {
   "cell_type": "markdown",
   "id": "2f47a15d",
   "metadata": {},
   "source": [
    "# Costruzione DecisionTreeRegressor #"
   ]
  },
  {
   "cell_type": "code",
   "execution_count": 17,
   "id": "e2f51016",
   "metadata": {},
   "outputs": [],
   "source": [
    "plt.rcParams.update({'font.size': 35})"
   ]
  },
  {
   "cell_type": "code",
   "execution_count": 18,
   "id": "e15fccf8",
   "metadata": {},
   "outputs": [],
   "source": [
    "def get_bias_var_mse(X, y, model):\n",
    "        y_pred = model.predict(X)\n",
    "        return {\n",
    "            'bias': ((y - np.mean(y_pred))**2).mean(),\\\n",
    "            'var':  np.var(y_pred).mean(),\\\n",
    "            'mse':  ((y_pred - y.reshape(-1,1))**2).mean()\n",
    "        }"
   ]
  },
  {
   "cell_type": "code",
   "execution_count": 19,
   "id": "8f228590",
   "metadata": {},
   "outputs": [],
   "source": [
    "# Costruzione Decision TreeRegressor\n",
    "def DecisionTreeRegressor_validation(X_train, y_train, X_val, y_val, verbose=False, debug=False):\n",
    "    \n",
    "    def get_dec_tree_reg(max_leaf):\n",
    "        dt = DecisionTreeRegressor(max_leaf_nodes=max_leaf)\n",
    "        dt.fit(X_train,y_train)\n",
    "        return dt\n",
    "    \n",
    "    def bias_var_mse(X, y, model):\n",
    "        stats = get_bias_var_mse(X, y, model)\n",
    "        return stats['bias'],\\\n",
    "               stats['var'],\\\n",
    "               stats['mse']\n",
    "    \n",
    "    def plot_mse(stats, name):\n",
    "    \n",
    "        print (f'TUNING DEL NUMERO DI STIMATORI {name}')\n",
    "        print()\n",
    "    \n",
    "        for n in ['mse', 'bias', 'var']:\n",
    "        \n",
    "            min_  = min(stats[n])\n",
    "            best  = np.argmin(stats[n]) + start\n",
    "            \n",
    "            print (f'Punteggio finale: {stats[n][-1]} ({end}) stimatori')\n",
    "            print (f'Best {n}:, {min_}')\n",
    "            print (f'Best number of Estimators: {best}')\n",
    "            print()\n",
    "\n",
    "        fig, ax = plt.subplots(figsize=(len(stats['mse'])/2, 10))\n",
    "        \n",
    "        ax.tick_params(axis='both', which='major', labelsize=25)\n",
    "        ax.tick_params(axis='both', which='minor', labelsize=15)\n",
    "        \n",
    "        ax.plot(range(start, end+1),  stats['mse' ], 'o-', label='MSE')\n",
    "        ax.plot(range(start, end+1),  stats['bias'], 'o-', label='BIAS')\n",
    "        ax.plot(range(start, end+1),  stats['var' ], 'o-', label='VARIANCE')\n",
    "        \n",
    "        ax.set_title(\"MSE, BIAS, VARIANCE on differe Estimators\", fontsize=15)\n",
    "        ax.set_xlabel(\"Number of Max Estimators used\", fontsize=15)\n",
    "        ax.grid()\n",
    "        ax.legend(prop={'size': 12})\n",
    "        \n",
    "    y_train = y_train.values.ravel()\n",
    "    y_val   = y_val  .values.ravel()\n",
    "\n",
    "    start =   2\n",
    "    end   =  100\n",
    "    \n",
    "    model_start = get_dec_tree_reg(start)\n",
    "    \n",
    "    _, _, best_mse = bias_var_mse(X_train, y_train, model_start)\n",
    "    \n",
    "    best_estimators = start\n",
    "    best_model      = model_start\n",
    "    \n",
    "    info         = []\n",
    "    \n",
    "    train_stats  = {\n",
    "        'bias' : [],\n",
    "        'var'  : [],\n",
    "        'mse'  : []\n",
    "    }\n",
    "    \n",
    "    val_stats    = {\n",
    "        'bias' : [],\n",
    "        'var'  : [],\n",
    "        'mse'  : []\n",
    "    } \n",
    "    \n",
    "    for estimators in range(start, end+1):\n",
    "        \n",
    "        if debug:\n",
    "            print(f'{estimators}/{END}')\n",
    "    \n",
    "        model = get_dec_tree_reg(estimators)\n",
    "        \n",
    "        trn_bias, trn_var, trn_mse = bias_var_mse(X_train, y_train, model)\n",
    "        val_bias, val_var, val_mse = bias_var_mse(  X_val,   y_val, model)\n",
    "\n",
    "        train_stats['bias'].append(trn_bias)\n",
    "        train_stats['var' ].append(trn_var )\n",
    "        train_stats['mse' ].append(trn_mse )\n",
    "        \n",
    "        val_stats['bias'].append(val_bias)\n",
    "        val_stats['var' ].append(val_var )\n",
    "        val_stats['mse' ].append(val_mse )\n",
    "        \n",
    "        info.append(f'Estimators: {estimators}' +\\\n",
    "                    f'\\n(Train MSE:       {trn_mse }  - Val MSE:      {val_mse })' +\\\n",
    "                    f'\\n(Train Bias:      {trn_bias}  - Val Bias:     {val_bias})' +\\\n",
    "                    f'\\n(Train Variance:  {trn_var }  - Val Variance: {val_var })' )\n",
    "\n",
    "        if(val_mse < best_mse):\n",
    "            best_mse = val_mse\n",
    "            best_estimators = estimators\n",
    "            best_model = model\n",
    "    \n",
    "    if verbose:\n",
    "        print()\n",
    "        print(\"MSE, BIAS, VARIANCE Train e Validation\")\n",
    "        print(*info, sep='\\n')\n",
    "        print()\n",
    "        \n",
    "    plot_mse(train_stats, \"TRAIN\"     )\n",
    "    plot_mse(  val_stats, \"VALIDATION\")\n",
    "                \n",
    "    return best_model"
   ]
  },
  {
   "cell_type": "code",
   "execution_count": 20,
   "id": "6d3eb5dc",
   "metadata": {},
   "outputs": [],
   "source": [
    "dt_model = []"
   ]
  },
  {
   "cell_type": "code",
   "execution_count": 23,
   "id": "b041de35",
   "metadata": {},
   "outputs": [
    {
     "ename": "KeyboardInterrupt",
     "evalue": "",
     "output_type": "error",
     "traceback": [
      "\u001b[1;31m---------------------------------------------------------------------------\u001b[0m",
      "\u001b[1;31mKeyboardInterrupt\u001b[0m                         Traceback (most recent call last)",
      "\u001b[1;32m<ipython-input-23-aeff6547e50f>\u001b[0m in \u001b[0;36m<module>\u001b[1;34m\u001b[0m\n\u001b[0;32m      1\u001b[0m dt_model.append(\n\u001b[1;32m----> 2\u001b[1;33m     DecisionTreeRegressor_validation(\n\u001b[0m\u001b[0;32m      3\u001b[0m         \u001b[0mX_train\u001b[0m\u001b[1;33m[\u001b[0m\u001b[1;36m0\u001b[0m\u001b[1;33m]\u001b[0m\u001b[1;33m,\u001b[0m\u001b[0;31m\\\u001b[0m\u001b[1;33m\u001b[0m\u001b[1;33m\u001b[0m\u001b[0m\n\u001b[0;32m      4\u001b[0m         \u001b[0my_train\u001b[0m\u001b[1;33m[\u001b[0m\u001b[1;36m0\u001b[0m\u001b[1;33m]\u001b[0m\u001b[1;33m,\u001b[0m\u001b[0;31m\\\u001b[0m\u001b[1;33m\u001b[0m\u001b[1;33m\u001b[0m\u001b[0m\n\u001b[0;32m      5\u001b[0m         \u001b[0mX_val\u001b[0m  \u001b[1;33m[\u001b[0m\u001b[1;36m0\u001b[0m\u001b[1;33m]\u001b[0m\u001b[1;33m,\u001b[0m\u001b[0;31m\\\u001b[0m\u001b[1;33m\u001b[0m\u001b[1;33m\u001b[0m\u001b[0m\n",
      "\u001b[1;32m<ipython-input-19-631a9242b0aa>\u001b[0m in \u001b[0;36mDecisionTreeRegressor_validation\u001b[1;34m(X_train, y_train, X_val, y_val, verbose, debug)\u001b[0m\n\u001b[0;32m     50\u001b[0m     \u001b[0mmodel_start\u001b[0m \u001b[1;33m=\u001b[0m \u001b[0mget_dec_tree_reg\u001b[0m\u001b[1;33m(\u001b[0m\u001b[0mstart\u001b[0m\u001b[1;33m)\u001b[0m\u001b[1;33m\u001b[0m\u001b[1;33m\u001b[0m\u001b[0m\n\u001b[0;32m     51\u001b[0m \u001b[1;33m\u001b[0m\u001b[0m\n\u001b[1;32m---> 52\u001b[1;33m     \u001b[0m_\u001b[0m\u001b[1;33m,\u001b[0m \u001b[0m_\u001b[0m\u001b[1;33m,\u001b[0m \u001b[0mbest_mse\u001b[0m \u001b[1;33m=\u001b[0m \u001b[0mbias_var_mse\u001b[0m\u001b[1;33m(\u001b[0m\u001b[0mX_train\u001b[0m\u001b[1;33m,\u001b[0m \u001b[0my_train\u001b[0m\u001b[1;33m,\u001b[0m \u001b[0mmodel_start\u001b[0m\u001b[1;33m)\u001b[0m\u001b[1;33m\u001b[0m\u001b[1;33m\u001b[0m\u001b[0m\n\u001b[0m\u001b[0;32m     53\u001b[0m \u001b[1;33m\u001b[0m\u001b[0m\n\u001b[0;32m     54\u001b[0m     \u001b[0mbest_estimators\u001b[0m \u001b[1;33m=\u001b[0m \u001b[0mstart\u001b[0m\u001b[1;33m\u001b[0m\u001b[1;33m\u001b[0m\u001b[0m\n",
      "\u001b[1;32m<ipython-input-19-631a9242b0aa>\u001b[0m in \u001b[0;36mbias_var_mse\u001b[1;34m(X, y, model)\u001b[0m\n\u001b[0;32m      8\u001b[0m \u001b[1;33m\u001b[0m\u001b[0m\n\u001b[0;32m      9\u001b[0m     \u001b[1;32mdef\u001b[0m \u001b[0mbias_var_mse\u001b[0m\u001b[1;33m(\u001b[0m\u001b[0mX\u001b[0m\u001b[1;33m,\u001b[0m \u001b[0my\u001b[0m\u001b[1;33m,\u001b[0m \u001b[0mmodel\u001b[0m\u001b[1;33m)\u001b[0m\u001b[1;33m:\u001b[0m\u001b[1;33m\u001b[0m\u001b[1;33m\u001b[0m\u001b[0m\n\u001b[1;32m---> 10\u001b[1;33m         \u001b[0mstats\u001b[0m \u001b[1;33m=\u001b[0m \u001b[0mget_bias_var_mse\u001b[0m\u001b[1;33m(\u001b[0m\u001b[0mX\u001b[0m\u001b[1;33m,\u001b[0m \u001b[0my\u001b[0m\u001b[1;33m,\u001b[0m \u001b[0mmodel\u001b[0m\u001b[1;33m)\u001b[0m\u001b[1;33m\u001b[0m\u001b[1;33m\u001b[0m\u001b[0m\n\u001b[0m\u001b[0;32m     11\u001b[0m         \u001b[1;32mreturn\u001b[0m \u001b[0mstats\u001b[0m\u001b[1;33m[\u001b[0m\u001b[1;34m'bias'\u001b[0m\u001b[1;33m]\u001b[0m\u001b[1;33m,\u001b[0m\u001b[0;31m\\\u001b[0m\u001b[1;33m\u001b[0m\u001b[1;33m\u001b[0m\u001b[0m\n\u001b[0;32m     12\u001b[0m                \u001b[0mstats\u001b[0m\u001b[1;33m[\u001b[0m\u001b[1;34m'var'\u001b[0m\u001b[1;33m]\u001b[0m\u001b[1;33m,\u001b[0m\u001b[0;31m\\\u001b[0m\u001b[1;33m\u001b[0m\u001b[1;33m\u001b[0m\u001b[0m\n",
      "\u001b[1;32m<ipython-input-18-7b0dd9a27196>\u001b[0m in \u001b[0;36mget_bias_var_mse\u001b[1;34m(X, y, model)\u001b[0m\n\u001b[0;32m      4\u001b[0m             \u001b[1;34m'bias'\u001b[0m\u001b[1;33m:\u001b[0m \u001b[1;33m(\u001b[0m\u001b[1;33m(\u001b[0m\u001b[0my\u001b[0m \u001b[1;33m-\u001b[0m \u001b[0mnp\u001b[0m\u001b[1;33m.\u001b[0m\u001b[0mmean\u001b[0m\u001b[1;33m(\u001b[0m\u001b[0my_pred\u001b[0m\u001b[1;33m)\u001b[0m\u001b[1;33m)\u001b[0m\u001b[1;33m**\u001b[0m\u001b[1;36m2\u001b[0m\u001b[1;33m)\u001b[0m\u001b[1;33m.\u001b[0m\u001b[0mmean\u001b[0m\u001b[1;33m(\u001b[0m\u001b[1;33m)\u001b[0m\u001b[1;33m,\u001b[0m\u001b[0;31m\\\u001b[0m\u001b[1;33m\u001b[0m\u001b[1;33m\u001b[0m\u001b[0m\n\u001b[0;32m      5\u001b[0m             \u001b[1;34m'var'\u001b[0m\u001b[1;33m:\u001b[0m  \u001b[0mnp\u001b[0m\u001b[1;33m.\u001b[0m\u001b[0mvar\u001b[0m\u001b[1;33m(\u001b[0m\u001b[0my_pred\u001b[0m\u001b[1;33m)\u001b[0m\u001b[1;33m.\u001b[0m\u001b[0mmean\u001b[0m\u001b[1;33m(\u001b[0m\u001b[1;33m)\u001b[0m\u001b[1;33m,\u001b[0m\u001b[0;31m\\\u001b[0m\u001b[1;33m\u001b[0m\u001b[1;33m\u001b[0m\u001b[0m\n\u001b[1;32m----> 6\u001b[1;33m             \u001b[1;34m'mse'\u001b[0m\u001b[1;33m:\u001b[0m  \u001b[1;33m(\u001b[0m\u001b[1;33m(\u001b[0m\u001b[0my_pred\u001b[0m \u001b[1;33m-\u001b[0m \u001b[0my\u001b[0m\u001b[1;33m.\u001b[0m\u001b[0mreshape\u001b[0m\u001b[1;33m(\u001b[0m\u001b[1;33m-\u001b[0m\u001b[1;36m1\u001b[0m\u001b[1;33m,\u001b[0m\u001b[1;36m1\u001b[0m\u001b[1;33m)\u001b[0m\u001b[1;33m)\u001b[0m\u001b[1;33m**\u001b[0m\u001b[1;36m2\u001b[0m\u001b[1;33m)\u001b[0m\u001b[1;33m.\u001b[0m\u001b[0mmean\u001b[0m\u001b[1;33m(\u001b[0m\u001b[1;33m)\u001b[0m\u001b[1;33m\u001b[0m\u001b[1;33m\u001b[0m\u001b[0m\n\u001b[0m\u001b[0;32m      7\u001b[0m         }\n",
      "\u001b[1;31mKeyboardInterrupt\u001b[0m: "
     ]
    }
   ],
   "source": [
    "dt_model.append(\n",
    "    DecisionTreeRegressor_validation(\n",
    "        X_train[0],\\\n",
    "        y_train[0],\\\n",
    "        X_val  [0],\\\n",
    "        y_val  [0],\n",
    "        verbose = False,\\\n",
    "        debug   = True,\\\n",
    "    )\n",
    ")"
   ]
  },
  {
   "cell_type": "code",
   "execution_count": null,
   "id": "c0743cb7",
   "metadata": {},
   "outputs": [],
   "source": [
    "dt_model.append(\n",
    "    DecisionTreeRegressor_validation(\n",
    "        X_train[1],\\\n",
    "        y_train[1],\\\n",
    "        X_val  [1],\\\n",
    "        y_val  [1],\n",
    "        verbose = False,\\\n",
    "        debug   = True,\\\n",
    "    )\n",
    ")"
   ]
  },
  {
   "cell_type": "code",
   "execution_count": null,
   "id": "01a75de3",
   "metadata": {},
   "outputs": [],
   "source": [
    "dt_model.append(\n",
    "    DecisionTreeRegressor_validation(\n",
    "        X_train[2],\\\n",
    "        y_train[2],\\\n",
    "        X_val  [2],\\\n",
    "        y_val  [2],\n",
    "        verbose = False,\\\n",
    "        debug   = True,\\\n",
    "    )\n",
    ")"
   ]
  },
  {
   "cell_type": "code",
   "execution_count": 14,
   "id": "0feda60c",
   "metadata": {},
   "outputs": [
    {
     "data": {
      "text/plain": [
       "DecisionTreeRegressor(max_leaf_nodes=2)"
      ]
     },
     "execution_count": 14,
     "metadata": {},
     "output_type": "execute_result"
    }
   ],
   "source": [
    "dt_model"
   ]
  },
  {
   "cell_type": "code",
   "execution_count": null,
   "id": "0a98c366",
   "metadata": {},
   "outputs": [],
   "source": [
    "def get_score(model, X, y):\n",
    "    return {\n",
    "        'mse'  : mean_squared_error(y_true=y,   y_pred=model.predict(X)),\n",
    "        'score': model.score(X, y)\n",
    "    }"
   ]
  },
  {
   "cell_type": "code",
   "execution_count": null,
   "id": "c6d437ed",
   "metadata": {},
   "outputs": [],
   "source": [
    "# Train\n",
    "for i in range(3):\n",
    "    print(region_names[i])\n",
    "    print(get_score(dt_model[i], X_train[i], y_train[i]))\n",
    "    print()"
   ]
  },
  {
   "cell_type": "code",
   "execution_count": null,
   "id": "340db398",
   "metadata": {},
   "outputs": [],
   "source": [
    "# Validation\n",
    "for i in range(3):\n",
    "    print(region_names[i])\n",
    "    print(get_score(dt_model[i], X_val[i], y_val[i]))\n",
    "    print()"
   ]
  },
  {
   "cell_type": "code",
   "execution_count": null,
   "id": "7c44f2aa",
   "metadata": {},
   "outputs": [],
   "source": [
    "# Test\n",
    "for i in range(3):\n",
    "    print(region_names[i])\n",
    "    print(get_score(dt_model[i], X_test[i], y_test[i]))\n",
    "    print()"
   ]
  },
  {
   "cell_type": "markdown",
   "id": "24d4133e",
   "metadata": {},
   "source": [
    "Da dove proviene l'errore?"
   ]
  },
  {
   "cell_type": "code",
   "execution_count": null,
   "id": "8ef65939",
   "metadata": {},
   "outputs": [],
   "source": [
    "for i in range(3):\n",
    "    print('Train',      get_bias_var_mse(X_train[i], y_train[i], dt_model[i]))\n",
    "    print('Validation', get_bias_var_mse(X_val  [i], y_val  [i], dt_model[i]))    \n",
    "    print('Test',       get_bias_var_mse(X_test [i], y_test [i], dt_model[i]))    "
   ]
  },
  {
   "cell_type": "markdown",
   "id": "27393d98",
   "metadata": {},
   "source": [
    "L'errore sembra provenire principalmente dal bias: uso il boosting per ridurlo "
   ]
  },
  {
   "cell_type": "markdown",
   "id": "410ed27b",
   "metadata": {},
   "source": [
    "# Boosting #"
   ]
  },
  {
   "cell_type": "code",
   "execution_count": 48,
   "id": "52b24af6",
   "metadata": {},
   "outputs": [],
   "source": [
    "def boosting_train(X_train, y_train, X_val, y_val, baseModel, verbose=False, debug=False):\n",
    "    \n",
    "    def get_adaboost_regressor(Xs, ys, estimators):\n",
    "        adaboost = AdaBoostRegressor(baseModel, n_estimators=estimators)\n",
    "        adaboost.fit(Xs,ys)\n",
    "        return adaboost\n",
    "    \n",
    "    def bias_var_mse(X, y, model):\n",
    "        stats = get_bias_var_mse(X, y, model)\n",
    "        return stats['bias'],\\\n",
    "               stats['var'],\\\n",
    "               stats['mse']\n",
    "    \n",
    "    \n",
    "    def plot_mse(stats, name):\n",
    "    \n",
    "        print (f'TUNING DEL NUMERO DI STIMATORI {name}')\n",
    "        print()\n",
    "    \n",
    "        for n in ['mse', 'bias', 'var']:\n",
    "        \n",
    "            min_  = min(stats[n])\n",
    "            best  = np.argmin(stats[n]) + START\n",
    "            \n",
    "            print (f'Punteggio finale: {stats[n][-1]} ({END}) stimatori')\n",
    "            print (f'Best {n}:, {min_}')\n",
    "            print (f'Best number of Estimators: {best}')\n",
    "            print()\n",
    "\n",
    "        fig, ax = plt.subplots(figsize=(len(stats['mse'])/2, 10))\n",
    "        \n",
    "        ax.tick_params(axis='both', which='major', labelsize=25)\n",
    "        ax.tick_params(axis='both', which='minor', labelsize=15)\n",
    "        \n",
    "        ax.plot(range(START, END),  stats['mse' ], 'o-', label='MSE')\n",
    "        ax.plot(range(START, END),  stats['bias'], 'o-', label='BIAS')\n",
    "        ax.plot(range(START, END),  stats['var' ], 'o-', label='VARIANCE')\n",
    "        \n",
    "        ax.set_title(\"MSE, BIAS, VARIANCE on differe Estimators\", fontsize=15)\n",
    "        ax.set_xlabel(\"Number of Max Estimators used\", fontsize=15)\n",
    "        ax.grid()\n",
    "        ax.legend(prop={'size': 12})\n",
    "        \n",
    "    \n",
    "    START       = 1\n",
    "    END         = 12\n",
    "    N_TESTS     = 8\n",
    "    SAMPLE_PERC = 2/3 # 0.67\n",
    "    \n",
    "    stats   = np.array([])\n",
    "    boosts  = range(START, END)\n",
    "    \n",
    "    y_train = y_train.values.ravel()\n",
    "    y_val   = y_val  .values.ravel()\n",
    "    \n",
    "    info = []\n",
    "    \n",
    "    train_stats = {\n",
    "        'bias' : [],\n",
    "        'var'  : [],\n",
    "        'mse'  : []\n",
    "    }\n",
    "\n",
    "    val_stats = {\n",
    "        'bias' : [],\n",
    "        'var'  : [],\n",
    "        'mse'  : []\n",
    "    }\n",
    "    \n",
    "    for b in boosts:\n",
    "        \n",
    "        if debug:\n",
    "            print(b)\n",
    "            \n",
    "        train_stats_s = {\n",
    "            'bias' : [],\\\n",
    "            'var'  : [],\\\n",
    "            'mse'  : []\n",
    "        }\n",
    "\n",
    "        val_stats_s = {\n",
    "            'bias' : [],\\\n",
    "            'var'  : [],\\\n",
    "            'mse'  : []\n",
    "        } \n",
    "        \n",
    "        \n",
    "        # Resampling\n",
    "        for i in range(N_TESTS):\n",
    "            \n",
    "            X_sample, y_sample = resample(X_train, y_train, n_samples = int(SAMPLE_PERC*len(y_train)))\n",
    "\n",
    "            ada = get_adaboost_regressor(X_sample, y_sample, b)\n",
    "            \n",
    "            trn_bias, trn_var, trn_mse = bias_var_mse(X_train, y_train, ada)\n",
    "            val_bias, val_var, val_mse = bias_var_mse(  X_val,   y_val, ada)\n",
    "\n",
    "            train_stats_s['bias'].append(trn_bias)\n",
    "            train_stats_s['var' ].append(trn_var )\n",
    "            train_stats_s['mse' ].append(trn_mse )\n",
    "            \n",
    "            val_stats_s  ['bias'].append(val_bias)\n",
    "            val_stats_s  ['var' ].append(val_var )\n",
    "            val_stats_s  ['mse' ].append(val_mse )\n",
    "            \n",
    "        train_stats_s['bias'] = np.array(train_stats_s['bias'])\n",
    "        train_stats_s['var' ] = np.array(train_stats_s['var' ])\n",
    "        train_stats_s['mse' ] = np.array(train_stats_s['mse' ])\n",
    "        val_stats_s  ['bias'] = np.array(val_stats_s  ['bias'])\n",
    "        val_stats_s  ['val' ] = np.array(val_stats_s  ['var' ])\n",
    "        val_stats_s  ['mse' ] = np.array(val_stats_s  ['mse' ])\n",
    "            \n",
    "        train_stats['bias'].append(train_stats_s['bias'].mean())\n",
    "        train_stats['var' ].append(train_stats_s['var' ].mean())\n",
    "        train_stats['mse' ].append(train_stats_s['mse' ].mean())\n",
    "            \n",
    "        val_stats  ['bias'].append(val_stats_s  ['bias'].mean())\n",
    "        val_stats  ['var' ].append(val_stats_s  ['bias'].mean())\n",
    "        val_stats  ['mse' ].append(val_stats_s  ['bias'].mean())\n",
    "        \n",
    "    plot_mse(train_stats, 'TRAIN')\n",
    "    plot_mse(val_stats, 'VALIDATION')       "
   ]
  },
  {
   "cell_type": "code",
   "execution_count": 49,
   "id": "e04dc5af",
   "metadata": {},
   "outputs": [
    {
     "name": "stdout",
     "output_type": "stream",
     "text": [
      "1\n",
      "2\n",
      "3\n",
      "4\n",
      "5\n",
      "6\n",
      "7\n",
      "8\n",
      "9\n",
      "10\n",
      "11\n",
      "TUNING DEL NUMERO DI STIMATORI TRAIN\n",
      "\n",
      "Punteggio finale: 0.013653311690452766 (12) stimatori\n",
      "Best mse:, 0.012454643173045446\n",
      "Best number of Estimators: 9\n",
      "\n",
      "Punteggio finale: 0.00944079073268823 (12) stimatori\n",
      "Best bias:, 0.00944079073268823\n",
      "Best number of Estimators: 11\n",
      "\n",
      "Punteggio finale: 0.004212520957764534 (12) stimatori\n",
      "Best var:, 0.002903082733610821\n",
      "Best number of Estimators: 9\n",
      "\n",
      "TUNING DEL NUMERO DI STIMATORI VALIDATION\n",
      "\n",
      "Punteggio finale: 0.011202507613881592 (12) stimatori\n",
      "Best mse:, 0.010654349762989169\n",
      "Best number of Estimators: 9\n",
      "\n",
      "Punteggio finale: 0.011202507613881592 (12) stimatori\n",
      "Best bias:, 0.010654349762989169\n",
      "Best number of Estimators: 9\n",
      "\n",
      "Punteggio finale: 0.011202507613881592 (12) stimatori\n",
      "Best var:, 0.010654349762989169\n",
      "Best number of Estimators: 9\n",
      "\n"
     ]
    },
    {
     "data": {
      "image/png": "[encoded data removed]",
      "text/plain": [
       "<Figure size 396x720 with 1 Axes>"
      ]
     },
     "metadata": {
      "needs_background": "light"
     },
     "output_type": "display_data"
    },
    {
     "data": {
      "image/png": "[encoded data removed]",
      "text/plain": [
       "<Figure size 396x720 with 1 Axes>"
      ]
     },
     "metadata": {
      "needs_background": "light"
     },
     "output_type": "display_data"
    }
   ],
   "source": [
    "base = DecisionTreeRegressor(max_leaf_nodes=5).fit(X_train[1][:100], y_train[1][:100])\n",
    "boosting_train(X_train[1][:100], y_train[1][:100], X_val[1][:100], y_val[1][:100], base, debug = True)"
   ]
  },
  {
   "cell_type": "code",
   "execution_count": null,
   "id": "fa7f7166",
   "metadata": {},
   "outputs": [],
   "source": []
  },
  {
   "cell_type": "code",
   "execution_count": null,
   "id": "388a633a",
   "metadata": {},
   "outputs": [],
   "source": []
  }
 ],
 "metadata": {
  "kernelspec": {
   "display_name": "Python 3",
   "language": "python",
   "name": "python3"
  },
  "language_info": {
   "codemirror_mode": {
    "name": "ipython",
    "version": 3
   },
   "file_extension": ".py",
   "mimetype": "text/x-python",
   "name": "python",
   "nbconvert_exporter": "python",
   "pygments_lexer": "ipython3",
   "version": "3.8.8"
  }
 },
 "nbformat": 4,
 "nbformat_minor": 5
}

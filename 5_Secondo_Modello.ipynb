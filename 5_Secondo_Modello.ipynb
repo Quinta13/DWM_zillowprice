{
 "cells": [
  {
   "cell_type": "code",
   "execution_count": 1,
   "id": "83a93d9e",
   "metadata": {},
   "outputs": [],
   "source": [
    "# Libraries\n",
    "import pandas            as pd\n",
    "import numpy             as np\n",
    "import matplotlib.pyplot as plt\n",
    "import warnings\n",
    "\n",
    "from sklearn.metrics         import mean_squared_error\n",
    "from sklearn.ensemble        import RandomForestRegressor\n",
    "from sklearn.utils           import resample\n",
    "\n",
    "warnings.filterwarnings('ignore')"
   ]
  },
  {
   "cell_type": "code",
   "execution_count": 2,
   "id": "6bdb7857",
   "metadata": {},
   "outputs": [],
   "source": [
    "# local file paths\n",
    "\n",
    "dir_name = 'selezione'\n",
    "region_names = np.array(['A', 'B', 'C'])\n",
    "\n",
    "fp_Xtrain = []\n",
    "fp_Xval   = []\n",
    "fp_Xtest  = []\n",
    "fp_ytrain = []\n",
    "fp_yval   = []\n",
    "fp_ytest  = []\n",
    "\n",
    "for i in range(3):\n",
    "    fp_Xtrain.append(dir_name + f'/X_train{region_names[i]}.csv')\n",
    "    fp_Xval  .append(dir_name + f'/X_val{  region_names[i]}.csv')\n",
    "    fp_Xtest .append(dir_name + f'/X_test{ region_names[i]}.csv')\n",
    "    fp_ytrain.append(dir_name + f'/y_train{region_names[i]}.csv')\n",
    "    fp_yval  .append(dir_name + f'/y_val{  region_names[i]}.csv')\n",
    "    fp_ytest .append(dir_name + f'/y_test{ region_names[i]}.csv')"
   ]
  },
  {
   "cell_type": "code",
   "execution_count": 3,
   "id": "f958bb4c",
   "metadata": {},
   "outputs": [],
   "source": [
    "# Lettura dei dati\n",
    "\n",
    "X_train = []\n",
    "X_val   = []\n",
    "X_test  = []\n",
    "y_train = []\n",
    "y_val   = []\n",
    "y_test  = []\n",
    "\n",
    "for i in range(3):\n",
    "    X_train.append(pd.read_csv(fp_Xtrain[i], low_memory=False))\n",
    "    X_val  .append(pd.read_csv(fp_Xval  [i], low_memory=False))        \n",
    "    X_test .append(pd.read_csv(fp_Xtest [i], low_memory=False))\n",
    "    y_train.append(pd.read_csv(fp_ytrain[i], low_memory=False))\n",
    "    y_val  .append(pd.read_csv(fp_yval  [i], low_memory=False))        \n",
    "    y_test .append(pd.read_csv(fp_ytest [i], low_memory=False))\n",
    "    \n",
    "X_train = np.array(X_train, dtype=object)\n",
    "X_val   = np.array(X_val,   dtype=object)\n",
    "X_test  = np.array(X_test,  dtype=object)\n",
    "y_train = np.array(y_train, dtype=object)\n",
    "y_val   = np.array(y_val,   dtype=object)\n",
    "y_test  = np.array(y_test,  dtype=object)"
   ]
  },
  {
   "cell_type": "code",
   "execution_count": 4,
   "id": "b29f5024",
   "metadata": {},
   "outputs": [],
   "source": [
    "def dimensionality(y=False):\n",
    "    for i in range(3):\n",
    "        print(f'X_train{region_names[i]}: {X_train[i].shape}')\n",
    "        print(f'X_val{region_names[i]}:   {X_val  [i].shape}')\n",
    "        print(f'X_test{region_names[i]}:  {X_test [i].shape}')\n",
    "        if y:\n",
    "            print(f'y_train{region_names[i]}: {y_train[i].shape}')\n",
    "            print(f'y_val{region_names[i]}:   {y_val  [i].shape}')\n",
    "            print(f'y_test{region_names[i]}:  {y_test [i].shape}')\n",
    "            print()"
   ]
  },
  {
   "cell_type": "code",
   "execution_count": 5,
   "id": "725ab866",
   "metadata": {},
   "outputs": [
    {
     "name": "stdout",
     "output_type": "stream",
     "text": [
      "X_trainA: (26819, 41)\n",
      "X_valA:   (9006, 41)\n",
      "X_testA:  (9085, 41)\n",
      "y_trainA: (26819, 1)\n",
      "y_valA:   (9006, 1)\n",
      "y_testA:  (9085, 1)\n",
      "\n",
      "X_trainB: (8119, 34)\n",
      "X_valB:   (2658, 34)\n",
      "X_testB:  (2606, 34)\n",
      "y_trainB: (8119, 1)\n",
      "y_valB:   (2658, 1)\n",
      "y_testB:  (2606, 1)\n",
      "\n",
      "X_trainC: (64771, 48)\n",
      "X_valC:   (21908, 48)\n",
      "X_testC:  (21876, 48)\n",
      "y_trainC: (64771, 1)\n",
      "y_valC:   (21908, 1)\n",
      "y_testC:  (21876, 1)\n",
      "\n"
     ]
    }
   ],
   "source": [
    "dimensionality(y=True)"
   ]
  },
  {
   "cell_type": "markdown",
   "id": "acf66e5c",
   "metadata": {},
   "source": [
    "Per limiti tecnici di memoria, la gestione del dataset C risulta complicata e incorre spesso in errori a run-time di cateoria __MemoryError__"
   ]
  },
  {
   "cell_type": "markdown",
   "id": "649b53df",
   "metadata": {},
   "source": [
    "Le macchine su cui sono eseguiti i notebook supportano operazioni su circa 30000 righe, quindi uso i 2/5 del dataset originale per la Regione C"
   ]
  },
  {
   "cell_type": "code",
   "execution_count": 6,
   "id": "4ca06f91",
   "metadata": {},
   "outputs": [],
   "source": [
    "perc = 2/5\n",
    "ind  = 2\n",
    "for X, y in zip([X_train, X_val, X_test], [y_train, y_val, y_test]):\n",
    "    X[ind], y[ind] = resample(\n",
    "        X[ind], y[ind],\n",
    "        n_samples = int(perc * len(X[2]))\n",
    "    )"
   ]
  },
  {
   "cell_type": "code",
   "execution_count": 7,
   "id": "6698f552",
   "metadata": {},
   "outputs": [
    {
     "name": "stdout",
     "output_type": "stream",
     "text": [
      "X_trainA: (26819, 41)\n",
      "X_valA:   (9006, 41)\n",
      "X_testA:  (9085, 41)\n",
      "y_trainA: (26819, 1)\n",
      "y_valA:   (9006, 1)\n",
      "y_testA:  (9085, 1)\n",
      "\n",
      "X_trainB: (8119, 34)\n",
      "X_valB:   (2658, 34)\n",
      "X_testB:  (2606, 34)\n",
      "y_trainB: (8119, 1)\n",
      "y_valB:   (2658, 1)\n",
      "y_testB:  (2606, 1)\n",
      "\n",
      "X_trainC: (25908, 48)\n",
      "X_valC:   (8763, 48)\n",
      "X_testC:  (8750, 48)\n",
      "y_trainC: (25908, 1)\n",
      "y_valC:   (8763, 1)\n",
      "y_testC:  (8750, 1)\n",
      "\n"
     ]
    }
   ],
   "source": [
    "dimensionality(y=True)"
   ]
  },
  {
   "cell_type": "markdown",
   "id": "d455f01d",
   "metadata": {},
   "source": [
    "# Subset di testing"
   ]
  },
  {
   "cell_type": "code",
   "execution_count": 8,
   "id": "8a0d620d",
   "metadata": {},
   "outputs": [],
   "source": [
    "#sub_perc = [   1/3,     1,    1/3] # circa 8000\n",
    "#sub_perc = [1/1000, 1/100, 1/1000] # circa 100, per testing\n",
    "sub_perc = [     1,     1,      1] # dataset completo"
   ]
  },
  {
   "cell_type": "code",
   "execution_count": 9,
   "id": "30687324",
   "metadata": {},
   "outputs": [
    {
     "name": "stdout",
     "output_type": "stream",
     "text": [
      "26819\n",
      "9006\n",
      "\n",
      "8119\n",
      "2658\n",
      "\n",
      "25908\n",
      "8763\n",
      "\n"
     ]
    }
   ],
   "source": [
    "for i in range(3):\n",
    "    print(int(len(X_train[i])*sub_perc[i]))\n",
    "    print(int(len(X_val  [i])*sub_perc[i]))\n",
    "    print()\n",
    "\n",
    "X_train_sub = []\n",
    "y_train_sub = []\n",
    "X_val_sub = []\n",
    "y_val_sub = []\n",
    "\n",
    "for i in range(3):\n",
    "    Xt_sub, yt_sub = resample(X_train[i], y_train[i], n_samples = int(sub_perc[i]*len(X_train[i])))\n",
    "    Xv_sub, yv_sub = resample(X_val  [i], y_val  [i], n_samples = int(sub_perc[i]*len(X_val[i])))\n",
    "    X_train_sub.append(Xt_sub)\n",
    "    y_train_sub.append(yt_sub)\n",
    "    X_val_sub  .append(Xv_sub)\n",
    "    y_val_sub  .append(yv_sub)"
   ]
  },
  {
   "cell_type": "code",
   "execution_count": 10,
   "id": "5147517d",
   "metadata": {},
   "outputs": [],
   "source": [
    "rf_model = []"
   ]
  },
  {
   "cell_type": "markdown",
   "id": "2f47a15d",
   "metadata": {},
   "source": [
    "# Costruzione RandomForestRegressor #"
   ]
  },
  {
   "cell_type": "code",
   "execution_count": 11,
   "id": "e2f51016",
   "metadata": {},
   "outputs": [],
   "source": [
    "plt.rcParams.update({'font.size': 35})"
   ]
  },
  {
   "cell_type": "code",
   "execution_count": 12,
   "id": "e15fccf8",
   "metadata": {},
   "outputs": [],
   "source": [
    "def get_bias_var_mse(X, y, model):\n",
    "        y_pred = model.predict(X)\n",
    "        return {\n",
    "            'bias': ((y - np.mean(y_pred))**2).mean(),\\\n",
    "            'var':  np.var(y_pred).mean(),\\\n",
    "            'mse':  ((y_pred - y.reshape(-1,1))**2).mean()\n",
    "        }"
   ]
  },
  {
   "cell_type": "code",
   "execution_count": 13,
   "id": "8f228590",
   "metadata": {},
   "outputs": [],
   "source": [
    "# Costruzione RandomForestRegressor\n",
    "def RandomForestRegressor_validation(X_train, y_train, X_val, y_val, verbose=False, debug=False, file_name = ''):\n",
    "    \n",
    "    def get_rf_reg(estimator):\n",
    "        dt = RandomForestRegressor(\n",
    "            n_estimators=estimator,\n",
    "            # criterion = 'squared_error',\n",
    "            n_jobs=-1\n",
    "        )\n",
    "        dt.fit(X_train, y_train)\n",
    "        return dt\n",
    "    \n",
    "    def bias_var_mse(X, y, model):\n",
    "        stats = get_bias_var_mse(X, y, model)\n",
    "        return stats['bias'],\\\n",
    "               stats['var'],\\\n",
    "               stats['mse']\n",
    "    \n",
    "    def plot_mse(stats, name):\n",
    "    \n",
    "        print (f'TUNING DEL MASSIMO NUMERO DI STIMATORI {name}')\n",
    "        print()\n",
    "    \n",
    "        for n in ['mse', 'bias', 'var']:\n",
    "        \n",
    "            min_  = min(stats[n])\n",
    "            best  = np.argmin(stats[n]) + START\n",
    "            \n",
    "            print (f'Punteggio finale: {stats[n][-1]} ({END}) stimatori')\n",
    "            print (f'Best {n}: {min_}')\n",
    "            print (f'Best number of Estimators: {best}')\n",
    "            print()\n",
    "\n",
    "        fig, ax = plt.subplots(figsize=(len(stats['mse'])/2, 10))\n",
    "        \n",
    "        ax.tick_params(axis='both', which='major', labelsize=25)\n",
    "        ax.tick_params(axis='both', which='minor', labelsize=15)\n",
    "        \n",
    "        ax.plot(range(START, END+1),  stats['mse' ], 'o-', label='MSE')\n",
    "        ax.plot(range(START, END+1),  stats['bias'], 'o-', label='BIAS')\n",
    "        ax.plot(range(START, END+1),  stats['var' ], 'o-', label='VARIANCE')\n",
    "        \n",
    "        ax.set_title(f\"{name} MSE, BIAS, VARIANCE on differe Estimators\", fontsize=15)\n",
    "        ax.set_xlabel(\"Number of Max Estimators used\", fontsize=15)\n",
    "        ax.grid()\n",
    "        ax.legend(prop={'size': 12})\n",
    "        \n",
    "        if file_name != '':\n",
    "            fig.savefig('images/' + file_name + '_' + name + '_random_forest.jpg')\n",
    "        \n",
    "    y_train = y_train.values.ravel()\n",
    "    y_val   = y_val  .values.ravel()\n",
    "\n",
    "    START =    5\n",
    "    END   =  200\n",
    "    STEP  =    5\n",
    "    \n",
    "    model_start = get_rf_reg(START)\n",
    "    \n",
    "    _, _, best_mse = bias_var_mse(X_train, y_train, model_start)\n",
    "    \n",
    "    best_estimator  = START\n",
    "    best_model      = model_start\n",
    "    \n",
    "    info         = []\n",
    "    \n",
    "    train_stats  = {\n",
    "        'bias' : [],\n",
    "        'var'  : [],\n",
    "        'mse'  : []\n",
    "    }\n",
    "    \n",
    "    val_stats    = {\n",
    "        'bias' : [],\n",
    "        'var'  : [],\n",
    "        'mse'  : []\n",
    "    } \n",
    "    \n",
    "    for estimator in range(START, END+1, STEP):\n",
    "        \n",
    "        if debug:\n",
    "            print(f'{estimator}/{END}')\n",
    "    \n",
    "        model = get_rf_reg(estimator)\n",
    "        \n",
    "        trn_bias, trn_var, trn_mse = bias_var_mse(X_train, y_train, model)\n",
    "        val_bias, val_var, val_mse = bias_var_mse(  X_val,   y_val, model)\n",
    "\n",
    "        train_stats['bias'].append(trn_bias)\n",
    "        train_stats['var' ].append(trn_var )\n",
    "        train_stats['mse' ].append(trn_mse )\n",
    "        \n",
    "        val_stats['bias'].append(val_bias)\n",
    "        val_stats['var' ].append(val_var )\n",
    "        val_stats['mse' ].append(val_mse )\n",
    "        \n",
    "        info.append(f'Estimators: {estimator}' +\\\n",
    "                    f'\\n(Train MSE:       {trn_mse }  - Val MSE:      {val_mse })' +\\\n",
    "                    f'\\n(Train Bias:      {trn_bias}  - Val Bias:     {val_bias})' +\\\n",
    "                    f'\\n(Train Variance:  {trn_var }  - Val Variance: {val_var })' )\n",
    "\n",
    "        if(val_mse < best_mse):\n",
    "            best_mse = val_mse\n",
    "            best_estimator = estimator\n",
    "            best_model = model\n",
    "    \n",
    "    if verbose:\n",
    "        print()\n",
    "        print(\"MSE, BIAS, VARIANCE Train e Validation\")\n",
    "        print(*info, sep='\\n')\n",
    "        print()\n",
    "        \n",
    "    plot_mse(train_stats, \"TRAIN\"     )\n",
    "    plot_mse(  val_stats, \"VALIDATION\")\n",
    "                \n",
    "    return best_model"
   ]
  },
  {
   "cell_type": "code",
   "execution_count": 14,
   "id": "6d3eb5dc",
   "metadata": {},
   "outputs": [],
   "source": [
    "rf_model = []"
   ]
  },
  {
   "cell_type": "code",
   "execution_count": 15,
   "id": "dd1c72f2",
   "metadata": {},
   "outputs": [],
   "source": [
    "def get_rf(index, verbose=False, debug=False, file_name=''):\n",
    "    return RandomForestRegressor_validation(\n",
    "        X_train_sub[index],\\\n",
    "        y_train_sub[index],\\\n",
    "        X_val_sub  [index],\\\n",
    "        y_val_sub  [index],\\\n",
    "        verbose   = verbose,\\\n",
    "        debug     = debug,\\\n",
    "        file_name = file_name\n",
    "    )"
   ]
  },
  {
   "cell_type": "code",
   "execution_count": 16,
   "id": "b041de35",
   "metadata": {
    "scrolled": false
   },
   "outputs": [
    {
     "name": "stdout",
     "output_type": "stream",
     "text": [
      "TUNING DEL MASSIMO NUMERO DI STIMATORI TRAIN\n",
      "\n",
      "Punteggio finale: 0.012027142162707059 (200) stimatori\n",
      "Best mse: 0.01201792396316616\n",
      "Best number of Estimators: 36\n",
      "\n",
      "Punteggio finale: 0.007123183362679662 (200) stimatori\n",
      "Best bias: 0.007123135389743506\n",
      "Best number of Estimators: 7\n",
      "\n",
      "Punteggio finale: 0.004903958800027423 (200) stimatori\n",
      "Best var: 0.004894747692641399\n",
      "Best number of Estimators: 36\n",
      "\n"
     ]
    },
    {
     "ename": "ValueError",
     "evalue": "x and y must have same first dimension, but have shapes (196,) and (40,)",
     "output_type": "error",
     "traceback": [
      "\u001b[1;31m---------------------------------------------------------------------------\u001b[0m",
      "\u001b[1;31mValueError\u001b[0m                                Traceback (most recent call last)",
      "\u001b[1;32m<timed eval>\u001b[0m in \u001b[0;36m<module>\u001b[1;34m\u001b[0m\n",
      "\u001b[1;32m<ipython-input-15-d19caa0bfc39>\u001b[0m in \u001b[0;36mget_rf\u001b[1;34m(index, verbose, debug, file_name)\u001b[0m\n\u001b[0;32m      1\u001b[0m \u001b[1;32mdef\u001b[0m \u001b[0mget_rf\u001b[0m\u001b[1;33m(\u001b[0m\u001b[0mindex\u001b[0m\u001b[1;33m,\u001b[0m \u001b[0mverbose\u001b[0m\u001b[1;33m=\u001b[0m\u001b[1;32mFalse\u001b[0m\u001b[1;33m,\u001b[0m \u001b[0mdebug\u001b[0m\u001b[1;33m=\u001b[0m\u001b[1;32mFalse\u001b[0m\u001b[1;33m,\u001b[0m \u001b[0mfile_name\u001b[0m\u001b[1;33m=\u001b[0m\u001b[1;34m''\u001b[0m\u001b[1;33m)\u001b[0m\u001b[1;33m:\u001b[0m\u001b[1;33m\u001b[0m\u001b[1;33m\u001b[0m\u001b[0m\n\u001b[1;32m----> 2\u001b[1;33m     return RandomForestRegressor_validation(\n\u001b[0m\u001b[0;32m      3\u001b[0m         \u001b[0mX_train_sub\u001b[0m\u001b[1;33m[\u001b[0m\u001b[0mindex\u001b[0m\u001b[1;33m]\u001b[0m\u001b[1;33m,\u001b[0m\u001b[0;31m\\\u001b[0m\u001b[1;33m\u001b[0m\u001b[1;33m\u001b[0m\u001b[0m\n\u001b[0;32m      4\u001b[0m         \u001b[0my_train_sub\u001b[0m\u001b[1;33m[\u001b[0m\u001b[0mindex\u001b[0m\u001b[1;33m]\u001b[0m\u001b[1;33m,\u001b[0m\u001b[0;31m\\\u001b[0m\u001b[1;33m\u001b[0m\u001b[1;33m\u001b[0m\u001b[0m\n\u001b[0;32m      5\u001b[0m         \u001b[0mX_val_sub\u001b[0m  \u001b[1;33m[\u001b[0m\u001b[0mindex\u001b[0m\u001b[1;33m]\u001b[0m\u001b[1;33m,\u001b[0m\u001b[0;31m\\\u001b[0m\u001b[1;33m\u001b[0m\u001b[1;33m\u001b[0m\u001b[0m\n",
      "\u001b[1;32m<ipython-input-13-c5523c263d6a>\u001b[0m in \u001b[0;36mRandomForestRegressor_validation\u001b[1;34m(X_train, y_train, X_val, y_val, verbose, debug, file_name)\u001b[0m\n\u001b[0;32m    111\u001b[0m         \u001b[0mprint\u001b[0m\u001b[1;33m(\u001b[0m\u001b[1;33m)\u001b[0m\u001b[1;33m\u001b[0m\u001b[1;33m\u001b[0m\u001b[0m\n\u001b[0;32m    112\u001b[0m \u001b[1;33m\u001b[0m\u001b[0m\n\u001b[1;32m--> 113\u001b[1;33m     \u001b[0mplot_mse\u001b[0m\u001b[1;33m(\u001b[0m\u001b[0mtrain_stats\u001b[0m\u001b[1;33m,\u001b[0m \u001b[1;34m\"TRAIN\"\u001b[0m     \u001b[1;33m)\u001b[0m\u001b[1;33m\u001b[0m\u001b[1;33m\u001b[0m\u001b[0m\n\u001b[0m\u001b[0;32m    114\u001b[0m     \u001b[0mplot_mse\u001b[0m\u001b[1;33m(\u001b[0m  \u001b[0mval_stats\u001b[0m\u001b[1;33m,\u001b[0m \u001b[1;34m\"VALIDATION\"\u001b[0m\u001b[1;33m)\u001b[0m\u001b[1;33m\u001b[0m\u001b[1;33m\u001b[0m\u001b[0m\n\u001b[0;32m    115\u001b[0m \u001b[1;33m\u001b[0m\u001b[0m\n",
      "\u001b[1;32m<ipython-input-13-c5523c263d6a>\u001b[0m in \u001b[0;36mplot_mse\u001b[1;34m(stats, name)\u001b[0m\n\u001b[0;32m     37\u001b[0m         \u001b[0max\u001b[0m\u001b[1;33m.\u001b[0m\u001b[0mtick_params\u001b[0m\u001b[1;33m(\u001b[0m\u001b[0maxis\u001b[0m\u001b[1;33m=\u001b[0m\u001b[1;34m'both'\u001b[0m\u001b[1;33m,\u001b[0m \u001b[0mwhich\u001b[0m\u001b[1;33m=\u001b[0m\u001b[1;34m'minor'\u001b[0m\u001b[1;33m,\u001b[0m \u001b[0mlabelsize\u001b[0m\u001b[1;33m=\u001b[0m\u001b[1;36m15\u001b[0m\u001b[1;33m)\u001b[0m\u001b[1;33m\u001b[0m\u001b[1;33m\u001b[0m\u001b[0m\n\u001b[0;32m     38\u001b[0m \u001b[1;33m\u001b[0m\u001b[0m\n\u001b[1;32m---> 39\u001b[1;33m         \u001b[0max\u001b[0m\u001b[1;33m.\u001b[0m\u001b[0mplot\u001b[0m\u001b[1;33m(\u001b[0m\u001b[0mrange\u001b[0m\u001b[1;33m(\u001b[0m\u001b[0mSTART\u001b[0m\u001b[1;33m,\u001b[0m \u001b[0mEND\u001b[0m\u001b[1;33m+\u001b[0m\u001b[1;36m1\u001b[0m\u001b[1;33m)\u001b[0m\u001b[1;33m,\u001b[0m  \u001b[0mstats\u001b[0m\u001b[1;33m[\u001b[0m\u001b[1;34m'mse'\u001b[0m \u001b[1;33m]\u001b[0m\u001b[1;33m,\u001b[0m \u001b[1;34m'o-'\u001b[0m\u001b[1;33m,\u001b[0m \u001b[0mlabel\u001b[0m\u001b[1;33m=\u001b[0m\u001b[1;34m'MSE'\u001b[0m\u001b[1;33m)\u001b[0m\u001b[1;33m\u001b[0m\u001b[1;33m\u001b[0m\u001b[0m\n\u001b[0m\u001b[0;32m     40\u001b[0m         \u001b[0max\u001b[0m\u001b[1;33m.\u001b[0m\u001b[0mplot\u001b[0m\u001b[1;33m(\u001b[0m\u001b[0mrange\u001b[0m\u001b[1;33m(\u001b[0m\u001b[0mSTART\u001b[0m\u001b[1;33m,\u001b[0m \u001b[0mEND\u001b[0m\u001b[1;33m+\u001b[0m\u001b[1;36m1\u001b[0m\u001b[1;33m)\u001b[0m\u001b[1;33m,\u001b[0m  \u001b[0mstats\u001b[0m\u001b[1;33m[\u001b[0m\u001b[1;34m'bias'\u001b[0m\u001b[1;33m]\u001b[0m\u001b[1;33m,\u001b[0m \u001b[1;34m'o-'\u001b[0m\u001b[1;33m,\u001b[0m \u001b[0mlabel\u001b[0m\u001b[1;33m=\u001b[0m\u001b[1;34m'BIAS'\u001b[0m\u001b[1;33m)\u001b[0m\u001b[1;33m\u001b[0m\u001b[1;33m\u001b[0m\u001b[0m\n\u001b[0;32m     41\u001b[0m         \u001b[0max\u001b[0m\u001b[1;33m.\u001b[0m\u001b[0mplot\u001b[0m\u001b[1;33m(\u001b[0m\u001b[0mrange\u001b[0m\u001b[1;33m(\u001b[0m\u001b[0mSTART\u001b[0m\u001b[1;33m,\u001b[0m \u001b[0mEND\u001b[0m\u001b[1;33m+\u001b[0m\u001b[1;36m1\u001b[0m\u001b[1;33m)\u001b[0m\u001b[1;33m,\u001b[0m  \u001b[0mstats\u001b[0m\u001b[1;33m[\u001b[0m\u001b[1;34m'var'\u001b[0m \u001b[1;33m]\u001b[0m\u001b[1;33m,\u001b[0m \u001b[1;34m'o-'\u001b[0m\u001b[1;33m,\u001b[0m \u001b[0mlabel\u001b[0m\u001b[1;33m=\u001b[0m\u001b[1;34m'VARIANCE'\u001b[0m\u001b[1;33m)\u001b[0m\u001b[1;33m\u001b[0m\u001b[1;33m\u001b[0m\u001b[0m\n",
      "\u001b[1;32m~\\anaconda3\\lib\\site-packages\\matplotlib\\axes\\_axes.py\u001b[0m in \u001b[0;36mplot\u001b[1;34m(self, scalex, scaley, data, *args, **kwargs)\u001b[0m\n\u001b[0;32m   1741\u001b[0m         \"\"\"\n\u001b[0;32m   1742\u001b[0m         \u001b[0mkwargs\u001b[0m \u001b[1;33m=\u001b[0m \u001b[0mcbook\u001b[0m\u001b[1;33m.\u001b[0m\u001b[0mnormalize_kwargs\u001b[0m\u001b[1;33m(\u001b[0m\u001b[0mkwargs\u001b[0m\u001b[1;33m,\u001b[0m \u001b[0mmlines\u001b[0m\u001b[1;33m.\u001b[0m\u001b[0mLine2D\u001b[0m\u001b[1;33m)\u001b[0m\u001b[1;33m\u001b[0m\u001b[1;33m\u001b[0m\u001b[0m\n\u001b[1;32m-> 1743\u001b[1;33m         \u001b[0mlines\u001b[0m \u001b[1;33m=\u001b[0m \u001b[1;33m[\u001b[0m\u001b[1;33m*\u001b[0m\u001b[0mself\u001b[0m\u001b[1;33m.\u001b[0m\u001b[0m_get_lines\u001b[0m\u001b[1;33m(\u001b[0m\u001b[1;33m*\u001b[0m\u001b[0margs\u001b[0m\u001b[1;33m,\u001b[0m \u001b[0mdata\u001b[0m\u001b[1;33m=\u001b[0m\u001b[0mdata\u001b[0m\u001b[1;33m,\u001b[0m \u001b[1;33m**\u001b[0m\u001b[0mkwargs\u001b[0m\u001b[1;33m)\u001b[0m\u001b[1;33m]\u001b[0m\u001b[1;33m\u001b[0m\u001b[1;33m\u001b[0m\u001b[0m\n\u001b[0m\u001b[0;32m   1744\u001b[0m         \u001b[1;32mfor\u001b[0m \u001b[0mline\u001b[0m \u001b[1;32min\u001b[0m \u001b[0mlines\u001b[0m\u001b[1;33m:\u001b[0m\u001b[1;33m\u001b[0m\u001b[1;33m\u001b[0m\u001b[0m\n\u001b[0;32m   1745\u001b[0m             \u001b[0mself\u001b[0m\u001b[1;33m.\u001b[0m\u001b[0madd_line\u001b[0m\u001b[1;33m(\u001b[0m\u001b[0mline\u001b[0m\u001b[1;33m)\u001b[0m\u001b[1;33m\u001b[0m\u001b[1;33m\u001b[0m\u001b[0m\n",
      "\u001b[1;32m~\\anaconda3\\lib\\site-packages\\matplotlib\\axes\\_base.py\u001b[0m in \u001b[0;36m__call__\u001b[1;34m(self, data, *args, **kwargs)\u001b[0m\n\u001b[0;32m    271\u001b[0m                 \u001b[0mthis\u001b[0m \u001b[1;33m+=\u001b[0m \u001b[0margs\u001b[0m\u001b[1;33m[\u001b[0m\u001b[1;36m0\u001b[0m\u001b[1;33m]\u001b[0m\u001b[1;33m,\u001b[0m\u001b[1;33m\u001b[0m\u001b[1;33m\u001b[0m\u001b[0m\n\u001b[0;32m    272\u001b[0m                 \u001b[0margs\u001b[0m \u001b[1;33m=\u001b[0m \u001b[0margs\u001b[0m\u001b[1;33m[\u001b[0m\u001b[1;36m1\u001b[0m\u001b[1;33m:\u001b[0m\u001b[1;33m]\u001b[0m\u001b[1;33m\u001b[0m\u001b[1;33m\u001b[0m\u001b[0m\n\u001b[1;32m--> 273\u001b[1;33m             \u001b[1;32myield\u001b[0m \u001b[1;32mfrom\u001b[0m \u001b[0mself\u001b[0m\u001b[1;33m.\u001b[0m\u001b[0m_plot_args\u001b[0m\u001b[1;33m(\u001b[0m\u001b[0mthis\u001b[0m\u001b[1;33m,\u001b[0m \u001b[0mkwargs\u001b[0m\u001b[1;33m)\u001b[0m\u001b[1;33m\u001b[0m\u001b[1;33m\u001b[0m\u001b[0m\n\u001b[0m\u001b[0;32m    274\u001b[0m \u001b[1;33m\u001b[0m\u001b[0m\n\u001b[0;32m    275\u001b[0m     \u001b[1;32mdef\u001b[0m \u001b[0mget_next_color\u001b[0m\u001b[1;33m(\u001b[0m\u001b[0mself\u001b[0m\u001b[1;33m)\u001b[0m\u001b[1;33m:\u001b[0m\u001b[1;33m\u001b[0m\u001b[1;33m\u001b[0m\u001b[0m\n",
      "\u001b[1;32m~\\anaconda3\\lib\\site-packages\\matplotlib\\axes\\_base.py\u001b[0m in \u001b[0;36m_plot_args\u001b[1;34m(self, tup, kwargs)\u001b[0m\n\u001b[0;32m    397\u001b[0m \u001b[1;33m\u001b[0m\u001b[0m\n\u001b[0;32m    398\u001b[0m         \u001b[1;32mif\u001b[0m \u001b[0mx\u001b[0m\u001b[1;33m.\u001b[0m\u001b[0mshape\u001b[0m\u001b[1;33m[\u001b[0m\u001b[1;36m0\u001b[0m\u001b[1;33m]\u001b[0m \u001b[1;33m!=\u001b[0m \u001b[0my\u001b[0m\u001b[1;33m.\u001b[0m\u001b[0mshape\u001b[0m\u001b[1;33m[\u001b[0m\u001b[1;36m0\u001b[0m\u001b[1;33m]\u001b[0m\u001b[1;33m:\u001b[0m\u001b[1;33m\u001b[0m\u001b[1;33m\u001b[0m\u001b[0m\n\u001b[1;32m--> 399\u001b[1;33m             raise ValueError(f\"x and y must have same first dimension, but \"\n\u001b[0m\u001b[0;32m    400\u001b[0m                              f\"have shapes {x.shape} and {y.shape}\")\n\u001b[0;32m    401\u001b[0m         \u001b[1;32mif\u001b[0m \u001b[0mx\u001b[0m\u001b[1;33m.\u001b[0m\u001b[0mndim\u001b[0m \u001b[1;33m>\u001b[0m \u001b[1;36m2\u001b[0m \u001b[1;32mor\u001b[0m \u001b[0my\u001b[0m\u001b[1;33m.\u001b[0m\u001b[0mndim\u001b[0m \u001b[1;33m>\u001b[0m \u001b[1;36m2\u001b[0m\u001b[1;33m:\u001b[0m\u001b[1;33m\u001b[0m\u001b[1;33m\u001b[0m\u001b[0m\n",
      "\u001b[1;31mValueError\u001b[0m: x and y must have same first dimension, but have shapes (196,) and (40,)"
     ]
    },
    {
     "data": {
      "image/png": "[encoded data removed]",
      "text/plain": [
       "<Figure size 1440x720 with 1 Axes>"
      ]
     },
     "metadata": {
      "needs_background": "light"
     },
     "output_type": "display_data"
    }
   ],
   "source": [
    "%%time\n",
    "rf_model.append(\n",
    "    get_rf(\n",
    "        0,\n",
    "        verbose = False,\n",
    "        debug   = False,\n",
    "        file_name = 'A'\n",
    "    )\n",
    ")"
   ]
  },
  {
   "cell_type": "code",
   "execution_count": 17,
   "id": "b8680e9e",
   "metadata": {},
   "outputs": [
    {
     "name": "stdout",
     "output_type": "stream",
     "text": [
      "TUNING DEL MASSIMO NUMERO DI STIMATORI TRAIN\n",
      "\n",
      "Punteggio finale: 0.01198535216828682 (200) stimatori\n",
      "Best mse: 0.011968714673820768\n",
      "Best number of Estimators: 38\n",
      "\n",
      "Punteggio finale: 0.007162846203142474 (200) stimatori\n",
      "Best bias: 0.007162842480967759\n",
      "Best number of Estimators: 8\n",
      "\n",
      "Punteggio finale: 0.004822505965144312 (200) stimatori\n",
      "Best var: 0.004805855648266142\n",
      "Best number of Estimators: 38\n",
      "\n"
     ]
    },
    {
     "ename": "ValueError",
     "evalue": "x and y must have same first dimension, but have shapes (196,) and (40,)",
     "output_type": "error",
     "traceback": [
      "\u001b[1;31m---------------------------------------------------------------------------\u001b[0m",
      "\u001b[1;31mValueError\u001b[0m                                Traceback (most recent call last)",
      "\u001b[1;32m<timed eval>\u001b[0m in \u001b[0;36m<module>\u001b[1;34m\u001b[0m\n",
      "\u001b[1;32m<ipython-input-15-d19caa0bfc39>\u001b[0m in \u001b[0;36mget_rf\u001b[1;34m(index, verbose, debug, file_name)\u001b[0m\n\u001b[0;32m      1\u001b[0m \u001b[1;32mdef\u001b[0m \u001b[0mget_rf\u001b[0m\u001b[1;33m(\u001b[0m\u001b[0mindex\u001b[0m\u001b[1;33m,\u001b[0m \u001b[0mverbose\u001b[0m\u001b[1;33m=\u001b[0m\u001b[1;32mFalse\u001b[0m\u001b[1;33m,\u001b[0m \u001b[0mdebug\u001b[0m\u001b[1;33m=\u001b[0m\u001b[1;32mFalse\u001b[0m\u001b[1;33m,\u001b[0m \u001b[0mfile_name\u001b[0m\u001b[1;33m=\u001b[0m\u001b[1;34m''\u001b[0m\u001b[1;33m)\u001b[0m\u001b[1;33m:\u001b[0m\u001b[1;33m\u001b[0m\u001b[1;33m\u001b[0m\u001b[0m\n\u001b[1;32m----> 2\u001b[1;33m     return RandomForestRegressor_validation(\n\u001b[0m\u001b[0;32m      3\u001b[0m         \u001b[0mX_train_sub\u001b[0m\u001b[1;33m[\u001b[0m\u001b[0mindex\u001b[0m\u001b[1;33m]\u001b[0m\u001b[1;33m,\u001b[0m\u001b[0;31m\\\u001b[0m\u001b[1;33m\u001b[0m\u001b[1;33m\u001b[0m\u001b[0m\n\u001b[0;32m      4\u001b[0m         \u001b[0my_train_sub\u001b[0m\u001b[1;33m[\u001b[0m\u001b[0mindex\u001b[0m\u001b[1;33m]\u001b[0m\u001b[1;33m,\u001b[0m\u001b[0;31m\\\u001b[0m\u001b[1;33m\u001b[0m\u001b[1;33m\u001b[0m\u001b[0m\n\u001b[0;32m      5\u001b[0m         \u001b[0mX_val_sub\u001b[0m  \u001b[1;33m[\u001b[0m\u001b[0mindex\u001b[0m\u001b[1;33m]\u001b[0m\u001b[1;33m,\u001b[0m\u001b[0;31m\\\u001b[0m\u001b[1;33m\u001b[0m\u001b[1;33m\u001b[0m\u001b[0m\n",
      "\u001b[1;32m<ipython-input-13-c5523c263d6a>\u001b[0m in \u001b[0;36mRandomForestRegressor_validation\u001b[1;34m(X_train, y_train, X_val, y_val, verbose, debug, file_name)\u001b[0m\n\u001b[0;32m    111\u001b[0m         \u001b[0mprint\u001b[0m\u001b[1;33m(\u001b[0m\u001b[1;33m)\u001b[0m\u001b[1;33m\u001b[0m\u001b[1;33m\u001b[0m\u001b[0m\n\u001b[0;32m    112\u001b[0m \u001b[1;33m\u001b[0m\u001b[0m\n\u001b[1;32m--> 113\u001b[1;33m     \u001b[0mplot_mse\u001b[0m\u001b[1;33m(\u001b[0m\u001b[0mtrain_stats\u001b[0m\u001b[1;33m,\u001b[0m \u001b[1;34m\"TRAIN\"\u001b[0m     \u001b[1;33m)\u001b[0m\u001b[1;33m\u001b[0m\u001b[1;33m\u001b[0m\u001b[0m\n\u001b[0m\u001b[0;32m    114\u001b[0m     \u001b[0mplot_mse\u001b[0m\u001b[1;33m(\u001b[0m  \u001b[0mval_stats\u001b[0m\u001b[1;33m,\u001b[0m \u001b[1;34m\"VALIDATION\"\u001b[0m\u001b[1;33m)\u001b[0m\u001b[1;33m\u001b[0m\u001b[1;33m\u001b[0m\u001b[0m\n\u001b[0;32m    115\u001b[0m \u001b[1;33m\u001b[0m\u001b[0m\n",
      "\u001b[1;32m<ipython-input-13-c5523c263d6a>\u001b[0m in \u001b[0;36mplot_mse\u001b[1;34m(stats, name)\u001b[0m\n\u001b[0;32m     37\u001b[0m         \u001b[0max\u001b[0m\u001b[1;33m.\u001b[0m\u001b[0mtick_params\u001b[0m\u001b[1;33m(\u001b[0m\u001b[0maxis\u001b[0m\u001b[1;33m=\u001b[0m\u001b[1;34m'both'\u001b[0m\u001b[1;33m,\u001b[0m \u001b[0mwhich\u001b[0m\u001b[1;33m=\u001b[0m\u001b[1;34m'minor'\u001b[0m\u001b[1;33m,\u001b[0m \u001b[0mlabelsize\u001b[0m\u001b[1;33m=\u001b[0m\u001b[1;36m15\u001b[0m\u001b[1;33m)\u001b[0m\u001b[1;33m\u001b[0m\u001b[1;33m\u001b[0m\u001b[0m\n\u001b[0;32m     38\u001b[0m \u001b[1;33m\u001b[0m\u001b[0m\n\u001b[1;32m---> 39\u001b[1;33m         \u001b[0max\u001b[0m\u001b[1;33m.\u001b[0m\u001b[0mplot\u001b[0m\u001b[1;33m(\u001b[0m\u001b[0mrange\u001b[0m\u001b[1;33m(\u001b[0m\u001b[0mSTART\u001b[0m\u001b[1;33m,\u001b[0m \u001b[0mEND\u001b[0m\u001b[1;33m+\u001b[0m\u001b[1;36m1\u001b[0m\u001b[1;33m)\u001b[0m\u001b[1;33m,\u001b[0m  \u001b[0mstats\u001b[0m\u001b[1;33m[\u001b[0m\u001b[1;34m'mse'\u001b[0m \u001b[1;33m]\u001b[0m\u001b[1;33m,\u001b[0m \u001b[1;34m'o-'\u001b[0m\u001b[1;33m,\u001b[0m \u001b[0mlabel\u001b[0m\u001b[1;33m=\u001b[0m\u001b[1;34m'MSE'\u001b[0m\u001b[1;33m)\u001b[0m\u001b[1;33m\u001b[0m\u001b[1;33m\u001b[0m\u001b[0m\n\u001b[0m\u001b[0;32m     40\u001b[0m         \u001b[0max\u001b[0m\u001b[1;33m.\u001b[0m\u001b[0mplot\u001b[0m\u001b[1;33m(\u001b[0m\u001b[0mrange\u001b[0m\u001b[1;33m(\u001b[0m\u001b[0mSTART\u001b[0m\u001b[1;33m,\u001b[0m \u001b[0mEND\u001b[0m\u001b[1;33m+\u001b[0m\u001b[1;36m1\u001b[0m\u001b[1;33m)\u001b[0m\u001b[1;33m,\u001b[0m  \u001b[0mstats\u001b[0m\u001b[1;33m[\u001b[0m\u001b[1;34m'bias'\u001b[0m\u001b[1;33m]\u001b[0m\u001b[1;33m,\u001b[0m \u001b[1;34m'o-'\u001b[0m\u001b[1;33m,\u001b[0m \u001b[0mlabel\u001b[0m\u001b[1;33m=\u001b[0m\u001b[1;34m'BIAS'\u001b[0m\u001b[1;33m)\u001b[0m\u001b[1;33m\u001b[0m\u001b[1;33m\u001b[0m\u001b[0m\n\u001b[0;32m     41\u001b[0m         \u001b[0max\u001b[0m\u001b[1;33m.\u001b[0m\u001b[0mplot\u001b[0m\u001b[1;33m(\u001b[0m\u001b[0mrange\u001b[0m\u001b[1;33m(\u001b[0m\u001b[0mSTART\u001b[0m\u001b[1;33m,\u001b[0m \u001b[0mEND\u001b[0m\u001b[1;33m+\u001b[0m\u001b[1;36m1\u001b[0m\u001b[1;33m)\u001b[0m\u001b[1;33m,\u001b[0m  \u001b[0mstats\u001b[0m\u001b[1;33m[\u001b[0m\u001b[1;34m'var'\u001b[0m \u001b[1;33m]\u001b[0m\u001b[1;33m,\u001b[0m \u001b[1;34m'o-'\u001b[0m\u001b[1;33m,\u001b[0m \u001b[0mlabel\u001b[0m\u001b[1;33m=\u001b[0m\u001b[1;34m'VARIANCE'\u001b[0m\u001b[1;33m)\u001b[0m\u001b[1;33m\u001b[0m\u001b[1;33m\u001b[0m\u001b[0m\n",
      "\u001b[1;32m~\\anaconda3\\lib\\site-packages\\matplotlib\\axes\\_axes.py\u001b[0m in \u001b[0;36mplot\u001b[1;34m(self, scalex, scaley, data, *args, **kwargs)\u001b[0m\n\u001b[0;32m   1741\u001b[0m         \"\"\"\n\u001b[0;32m   1742\u001b[0m         \u001b[0mkwargs\u001b[0m \u001b[1;33m=\u001b[0m \u001b[0mcbook\u001b[0m\u001b[1;33m.\u001b[0m\u001b[0mnormalize_kwargs\u001b[0m\u001b[1;33m(\u001b[0m\u001b[0mkwargs\u001b[0m\u001b[1;33m,\u001b[0m \u001b[0mmlines\u001b[0m\u001b[1;33m.\u001b[0m\u001b[0mLine2D\u001b[0m\u001b[1;33m)\u001b[0m\u001b[1;33m\u001b[0m\u001b[1;33m\u001b[0m\u001b[0m\n\u001b[1;32m-> 1743\u001b[1;33m         \u001b[0mlines\u001b[0m \u001b[1;33m=\u001b[0m \u001b[1;33m[\u001b[0m\u001b[1;33m*\u001b[0m\u001b[0mself\u001b[0m\u001b[1;33m.\u001b[0m\u001b[0m_get_lines\u001b[0m\u001b[1;33m(\u001b[0m\u001b[1;33m*\u001b[0m\u001b[0margs\u001b[0m\u001b[1;33m,\u001b[0m \u001b[0mdata\u001b[0m\u001b[1;33m=\u001b[0m\u001b[0mdata\u001b[0m\u001b[1;33m,\u001b[0m \u001b[1;33m**\u001b[0m\u001b[0mkwargs\u001b[0m\u001b[1;33m)\u001b[0m\u001b[1;33m]\u001b[0m\u001b[1;33m\u001b[0m\u001b[1;33m\u001b[0m\u001b[0m\n\u001b[0m\u001b[0;32m   1744\u001b[0m         \u001b[1;32mfor\u001b[0m \u001b[0mline\u001b[0m \u001b[1;32min\u001b[0m \u001b[0mlines\u001b[0m\u001b[1;33m:\u001b[0m\u001b[1;33m\u001b[0m\u001b[1;33m\u001b[0m\u001b[0m\n\u001b[0;32m   1745\u001b[0m             \u001b[0mself\u001b[0m\u001b[1;33m.\u001b[0m\u001b[0madd_line\u001b[0m\u001b[1;33m(\u001b[0m\u001b[0mline\u001b[0m\u001b[1;33m)\u001b[0m\u001b[1;33m\u001b[0m\u001b[1;33m\u001b[0m\u001b[0m\n",
      "\u001b[1;32m~\\anaconda3\\lib\\site-packages\\matplotlib\\axes\\_base.py\u001b[0m in \u001b[0;36m__call__\u001b[1;34m(self, data, *args, **kwargs)\u001b[0m\n\u001b[0;32m    271\u001b[0m                 \u001b[0mthis\u001b[0m \u001b[1;33m+=\u001b[0m \u001b[0margs\u001b[0m\u001b[1;33m[\u001b[0m\u001b[1;36m0\u001b[0m\u001b[1;33m]\u001b[0m\u001b[1;33m,\u001b[0m\u001b[1;33m\u001b[0m\u001b[1;33m\u001b[0m\u001b[0m\n\u001b[0;32m    272\u001b[0m                 \u001b[0margs\u001b[0m \u001b[1;33m=\u001b[0m \u001b[0margs\u001b[0m\u001b[1;33m[\u001b[0m\u001b[1;36m1\u001b[0m\u001b[1;33m:\u001b[0m\u001b[1;33m]\u001b[0m\u001b[1;33m\u001b[0m\u001b[1;33m\u001b[0m\u001b[0m\n\u001b[1;32m--> 273\u001b[1;33m             \u001b[1;32myield\u001b[0m \u001b[1;32mfrom\u001b[0m \u001b[0mself\u001b[0m\u001b[1;33m.\u001b[0m\u001b[0m_plot_args\u001b[0m\u001b[1;33m(\u001b[0m\u001b[0mthis\u001b[0m\u001b[1;33m,\u001b[0m \u001b[0mkwargs\u001b[0m\u001b[1;33m)\u001b[0m\u001b[1;33m\u001b[0m\u001b[1;33m\u001b[0m\u001b[0m\n\u001b[0m\u001b[0;32m    274\u001b[0m \u001b[1;33m\u001b[0m\u001b[0m\n\u001b[0;32m    275\u001b[0m     \u001b[1;32mdef\u001b[0m \u001b[0mget_next_color\u001b[0m\u001b[1;33m(\u001b[0m\u001b[0mself\u001b[0m\u001b[1;33m)\u001b[0m\u001b[1;33m:\u001b[0m\u001b[1;33m\u001b[0m\u001b[1;33m\u001b[0m\u001b[0m\n",
      "\u001b[1;32m~\\anaconda3\\lib\\site-packages\\matplotlib\\axes\\_base.py\u001b[0m in \u001b[0;36m_plot_args\u001b[1;34m(self, tup, kwargs)\u001b[0m\n\u001b[0;32m    397\u001b[0m \u001b[1;33m\u001b[0m\u001b[0m\n\u001b[0;32m    398\u001b[0m         \u001b[1;32mif\u001b[0m \u001b[0mx\u001b[0m\u001b[1;33m.\u001b[0m\u001b[0mshape\u001b[0m\u001b[1;33m[\u001b[0m\u001b[1;36m0\u001b[0m\u001b[1;33m]\u001b[0m \u001b[1;33m!=\u001b[0m \u001b[0my\u001b[0m\u001b[1;33m.\u001b[0m\u001b[0mshape\u001b[0m\u001b[1;33m[\u001b[0m\u001b[1;36m0\u001b[0m\u001b[1;33m]\u001b[0m\u001b[1;33m:\u001b[0m\u001b[1;33m\u001b[0m\u001b[1;33m\u001b[0m\u001b[0m\n\u001b[1;32m--> 399\u001b[1;33m             raise ValueError(f\"x and y must have same first dimension, but \"\n\u001b[0m\u001b[0;32m    400\u001b[0m                              f\"have shapes {x.shape} and {y.shape}\")\n\u001b[0;32m    401\u001b[0m         \u001b[1;32mif\u001b[0m \u001b[0mx\u001b[0m\u001b[1;33m.\u001b[0m\u001b[0mndim\u001b[0m \u001b[1;33m>\u001b[0m \u001b[1;36m2\u001b[0m \u001b[1;32mor\u001b[0m \u001b[0my\u001b[0m\u001b[1;33m.\u001b[0m\u001b[0mndim\u001b[0m \u001b[1;33m>\u001b[0m \u001b[1;36m2\u001b[0m\u001b[1;33m:\u001b[0m\u001b[1;33m\u001b[0m\u001b[1;33m\u001b[0m\u001b[0m\n",
      "\u001b[1;31mValueError\u001b[0m: x and y must have same first dimension, but have shapes (196,) and (40,)"
     ]
    },
    {
     "data": {
      "image/png": "[encoded data removed]",
      "text/plain": [
       "<Figure size 1440x720 with 1 Axes>"
      ]
     },
     "metadata": {
      "needs_background": "light"
     },
     "output_type": "display_data"
    }
   ],
   "source": [
    "%%time\n",
    "rf_model.append(\n",
    "    get_rf(\n",
    "        1,\n",
    "        verbose = False,\n",
    "        debug   = False,\n",
    "        file_name = 'B'\n",
    "    )\n",
    ")"
   ]
  },
  {
   "cell_type": "code",
   "execution_count": null,
   "id": "71a3f94e",
   "metadata": {},
   "outputs": [],
   "source": [
    "%%time\n",
    "rf_model.append(\n",
    "    get_rf(\n",
    "        2,\n",
    "        verbose = False,\n",
    "        debug   = False,\n",
    "        file_name = 'C'\n",
    "    )\n",
    ")"
   ]
  },
  {
   "cell_type": "code",
   "execution_count": null,
   "id": "0a98c366",
   "metadata": {},
   "outputs": [],
   "source": [
    "def get_score(model, X, y):\n",
    "    return {\n",
    "        'mse'  : mean_squared_error(y_true=y,   y_pred=model.predict(X)),\n",
    "        'score': model.score(X, y)\n",
    "    }"
   ]
  },
  {
   "cell_type": "code",
   "execution_count": null,
   "id": "c6d437ed",
   "metadata": {},
   "outputs": [],
   "source": [
    "# Train\n",
    "for i in range(3):\n",
    "    print(region_names[i])\n",
    "    print(get_score(rf_model[i], X_train[i], y_train[i]))\n",
    "    print()"
   ]
  },
  {
   "cell_type": "code",
   "execution_count": null,
   "id": "340db398",
   "metadata": {},
   "outputs": [],
   "source": [
    "# Validation\n",
    "for i in range(3):\n",
    "    print(region_names[i])\n",
    "    print(get_score(rf_model[i], X_val[i], y_val[i]))\n",
    "    print()"
   ]
  },
  {
   "cell_type": "code",
   "execution_count": null,
   "id": "7c44f2aa",
   "metadata": {},
   "outputs": [],
   "source": [
    "# Test\n",
    "for i in range(3):\n",
    "    print(region_names[i])\n",
    "    print(get_score(rf_model[i], X_test[i], y_test[i]))\n",
    "    print()"
   ]
  },
  {
   "cell_type": "markdown",
   "id": "24d4133e",
   "metadata": {},
   "source": [
    "Da dove proviene l'errore?"
   ]
  },
  {
   "cell_type": "code",
   "execution_count": null,
   "id": "8ef65939",
   "metadata": {},
   "outputs": [],
   "source": [
    "for i in range(3):\n",
    "    print(region_names[i])\n",
    "    print('Train     ', get_bias_var_mse(X_train[i], y_train[i].values.ravel(), rf_model[i]))\n",
    "    print('Validation', get_bias_var_mse(X_val  [i], y_val  [i].values.ravel(), rf_model[i]))    \n",
    "    print('Test      ', get_bias_var_mse(X_test [i], y_test [i].values.ravel(), rf_model[i]))  \n",
    "    print()"
   ]
  },
  {
   "cell_type": "code",
   "execution_count": null,
   "id": "70bce6ad",
   "metadata": {},
   "outputs": [],
   "source": [
    "def feature_importance(X, rf, reg_name, file_name=''):\n",
    "    \n",
    "    print(f'{reg_name} FEATURE IMPORTANCES')\n",
    "    print(list(X.columns[np.argsort(rf.feature_importances_)[::-1]]))\n",
    "    print()\n",
    "    \n",
    "    fig, ax = plt.subplots(figsize=(len(rf.feature_importances_)/2,10))\n",
    "    \n",
    "    ax.tick_params(axis='x', which='major', labelsize=15)\n",
    "    ax.tick_params(axis='x', which='minor', labelsize=20)\n",
    "    ax.tick_params(axis='y', which='major', labelsize=25)\n",
    "    ax.tick_params(axis='y', which='minor', labelsize=30)\n",
    "    \n",
    "    ax.bar(range(0, X.shape[1]), rf.feature_importances_)\n",
    "    ax.set_title(f'Feature Importances {reg_name}')\n",
    "    ax.set_xticks(range(X.shape[1]))\n",
    "    ax.set_xticklabels(X.columns, rotation=90)\n",
    "    \n",
    "    ax.grid()\n",
    "    \n",
    "    if file_name != '':\n",
    "        fig.savefig('images/' + file_name + '_RandomForest_feature_importance.jpg')"
   ]
  },
  {
   "cell_type": "code",
   "execution_count": null,
   "id": "02892728",
   "metadata": {
    "scrolled": false
   },
   "outputs": [],
   "source": [
    "for i in range(3):\n",
    "    feature_importance(\n",
    "        X_train_sub[i],\n",
    "        rf_model[i],\n",
    "        region_names[i],\n",
    "        file_name = region_names[i]\n",
    "    )"
   ]
  },
  {
   "cell_type": "code",
   "execution_count": null,
   "id": "75aebe9e",
   "metadata": {},
   "outputs": [],
   "source": []
  }
 ],
 "metadata": {
  "kernelspec": {
   "display_name": "Python 3",
   "language": "python",
   "name": "python3"
  },
  "language_info": {
   "codemirror_mode": {
    "name": "ipython",
    "version": 3
   },
   "file_extension": ".py",
   "mimetype": "text/x-python",
   "name": "python",
   "nbconvert_exporter": "python",
   "pygments_lexer": "ipython3",
   "version": "3.8.8"
  }
 },
 "nbformat": 4,
 "nbformat_minor": 5
}

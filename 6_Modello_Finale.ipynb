{
 "cells": [
  {
   "cell_type": "code",
   "execution_count": 1,
   "id": "83a93d9e",
   "metadata": {},
   "outputs": [],
   "source": [
    "# Libraries\n",
    "import pandas            as pd\n",
    "import numpy             as np\n",
    "import matplotlib.pyplot as plt\n",
    "import warnings\n",
    "\n",
    "from sklearn.metrics         import mean_squared_error\n",
    "from sklearn.ensemble        import RandomForestRegressor\n",
    "from sklearn.ensemble        import AdaBoostRegressor\n",
    "from sklearn.tree            import DecisionTreeRegressor\n",
    "\n",
    "warnings.filterwarnings('ignore')"
   ]
  },
  {
   "cell_type": "code",
   "execution_count": 2,
   "id": "6bdb7857",
   "metadata": {},
   "outputs": [],
   "source": [
    "# local file paths\n",
    "\n",
    "dir_name = 'selezione'\n",
    "region_names = np.array(['A', 'B', 'C'])\n",
    "\n",
    "fp_Xtrain = []\n",
    "fp_Xval   = []\n",
    "fp_Xtest  = []\n",
    "fp_ytrain = []\n",
    "fp_yval   = []\n",
    "fp_ytest  = []\n",
    "\n",
    "for i in range(3):\n",
    "    fp_Xtrain.append(dir_name + f'/X_train{region_names[i]}.csv')\n",
    "    fp_Xval  .append(dir_name + f'/X_val{  region_names[i]}.csv')\n",
    "    fp_Xtest .append(dir_name + f'/X_test{ region_names[i]}.csv')\n",
    "    fp_ytrain.append(dir_name + f'/y_train{region_names[i]}.csv')\n",
    "    fp_yval  .append(dir_name + f'/y_val{  region_names[i]}.csv')\n",
    "    fp_ytest .append(dir_name + f'/y_test{ region_names[i]}.csv')"
   ]
  },
  {
   "cell_type": "code",
   "execution_count": 4,
   "id": "f958bb4c",
   "metadata": {},
   "outputs": [],
   "source": [
    "# Lettura dei dati\n",
    "\n",
    "X_train = []\n",
    "X_val   = []\n",
    "X_test  = []\n",
    "y_train = []\n",
    "y_val   = []\n",
    "y_test  = []\n",
    "\n",
    "for i in range(3):\n",
    "    X_train.append(pd.read_csv(fp_Xtrain[i], low_memory=False))\n",
    "    X_val  .append(pd.read_csv(fp_Xval  [i], low_memory=False))        \n",
    "    X_test .append(pd.read_csv(fp_Xtest [i], low_memory=False))\n",
    "    y_train.append(pd.read_csv(fp_ytrain[i], low_memory=False))\n",
    "    y_val  .append(pd.read_csv(fp_yval  [i], low_memory=False))        \n",
    "    y_test .append(pd.read_csv(fp_ytest [i], low_memory=False))\n",
    "    \n",
    "X_train = np.array(X_train, dtype=object)\n",
    "X_val   = np.array(X_val,   dtype=object)\n",
    "X_test  = np.array(X_test,  dtype=object)\n",
    "y_train = np.array(y_train, dtype=object)\n",
    "y_val   = np.array(y_val,   dtype=object)\n",
    "y_test  = np.array(y_test,  dtype=object)"
   ]
  },
  {
   "cell_type": "code",
   "execution_count": 5,
   "id": "b29f5024",
   "metadata": {},
   "outputs": [],
   "source": [
    "def dimensionality(y=False):\n",
    "    for i in range(3):\n",
    "        print(f'X_train{region_names[i]}: {X_train[i].shape}')\n",
    "        print(f'X_val{region_names[i]}:   {X_val  [i].shape}')\n",
    "        print(f'X_test{region_names[i]}:  {X_test [i].shape}')\n",
    "        if y:\n",
    "            print(f'y_train{region_names[i]}: {y_train[i].shape}')\n",
    "            print(f'y_val{region_names[i]}:   {y_val  [i].shape}')\n",
    "            print(f'y_test{region_names[i]}:  {y_test [i].shape}')\n",
    "            print()"
   ]
  },
  {
   "cell_type": "code",
   "execution_count": 6,
   "id": "725ab866",
   "metadata": {},
   "outputs": [
    {
     "name": "stdout",
     "output_type": "stream",
     "text": [
      "X_trainA: (26819, 41)\n",
      "X_valA:   (9006, 41)\n",
      "X_testA:  (9085, 41)\n",
      "y_trainA: (26819, 1)\n",
      "y_valA:   (9006, 1)\n",
      "y_testA:  (9085, 1)\n",
      "\n",
      "X_trainB: (8119, 34)\n",
      "X_valB:   (2658, 34)\n",
      "X_testB:  (2606, 34)\n",
      "y_trainB: (8119, 1)\n",
      "y_valB:   (2658, 1)\n",
      "y_testB:  (2606, 1)\n",
      "\n",
      "X_trainC: (64771, 48)\n",
      "X_valC:   (21908, 48)\n",
      "X_testC:  (21876, 48)\n",
      "y_trainC: (64771, 1)\n",
      "y_valC:   (21908, 1)\n",
      "y_testC:  (21876, 1)\n",
      "\n"
     ]
    }
   ],
   "source": [
    "dimensionality(y=True)"
   ]
  },
  {
   "cell_type": "code",
   "execution_count": 11,
   "id": "ad34b8b6",
   "metadata": {},
   "outputs": [],
   "source": [
    "dt_model = np.array([\n",
    "    DecisionTreeRegressor(max_leaf_nodes = 2),\n",
    "    DecisionTreeRegressor(max_leaf_nodes = 2),\n",
    "    DecisionTreeRegressor(max_leaf_nodes = 2)\n",
    "])"
   ]
  },
  {
   "cell_type": "code",
   "execution_count": 12,
   "id": "b7215c6b",
   "metadata": {},
   "outputs": [],
   "source": [
    "boost_model = np.array([\n",
    "    AdaBoostRegressor(dt_model[0], n_estimators = 45),\n",
    "    AdaBoostRegressor(dt_model[1], n_estimators = 54),\n",
    "    AdaBoostRegressor(dt_model[1], n_estimators = 37)\n",
    "])"
   ]
  },
  {
   "cell_type": "code",
   "execution_count": 14,
   "id": "9505f0da",
   "metadata": {},
   "outputs": [],
   "source": [
    "rf_model = np.array([\n",
    "    RandomForestRegressor(n_estimators = 45, n_jobs = -1),\n",
    "    RandomForestRegressor(n_estimators = 38, n_jobs = -1),\n",
    "    RandomForestRegressor(n_estimators = 51, n_jobs = -1)\n",
    "])"
   ]
  },
  {
   "cell_type": "code",
   "execution_count": 15,
   "id": "b3ce9d7e",
   "metadata": {},
   "outputs": [],
   "source": [
    "models = np.array([\n",
    "    dt_model,\n",
    "    boost_model,\n",
    "    rf_model\n",
    "])"
   ]
  },
  {
   "cell_type": "code",
   "execution_count": null,
   "id": "a350d09a",
   "metadata": {},
   "outputs": [],
   "source": [
    "def gen_Y(X, models, col_names, index):\n",
    "    df = pd.DataFrame()\n",
    "    for i in len(col_names):\n",
    "        df[col_names[i]] = models[]"
   ]
  },
  {
   "cell_type": "code",
   "execution_count": 23,
   "id": "e301d067",
   "metadata": {},
   "outputs": [],
   "source": []
  },
  {
   "cell_type": "code",
   "execution_count": 25,
   "id": "223192f0",
   "metadata": {},
   "outputs": [],
   "source": []
  },
  {
   "cell_type": "code",
   "execution_count": 27,
   "id": "72b5cb75",
   "metadata": {},
   "outputs": [
    {
     "data": {
      "text/plain": [
       "3"
      ]
     },
     "execution_count": 27,
     "metadata": {},
     "output_type": "execute_result"
    }
   ],
   "source": []
  }
 ],
 "metadata": {
  "kernelspec": {
   "display_name": "Python 3",
   "language": "python",
   "name": "python3"
  },
  "language_info": {
   "codemirror_mode": {
    "name": "ipython",
    "version": 3
   },
   "file_extension": ".py",
   "mimetype": "text/x-python",
   "name": "python",
   "nbconvert_exporter": "python",
   "pygments_lexer": "ipython3",
   "version": "3.8.8"
  }
 },
 "nbformat": 4,
 "nbformat_minor": 5
}
